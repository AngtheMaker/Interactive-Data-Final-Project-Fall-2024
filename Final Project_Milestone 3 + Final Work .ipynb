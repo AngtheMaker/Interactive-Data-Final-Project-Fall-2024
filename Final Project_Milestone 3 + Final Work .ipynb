{
 "cells": [
  {
   "cell_type": "code",
   "execution_count": 40,
   "id": "fe729b16-7598-4ce1-a6a6-aaece7e359b2",
   "metadata": {},
   "outputs": [],
   "source": [
    "import pandas as pd\n",
    "from matplotlib import pyplot as plt\n",
    "import plotly.express as px\n",
    "import plotly.graph_objects as go"
   ]
  },
  {
   "cell_type": "code",
   "execution_count": 16,
   "id": "2354a547-9043-4de4-b7c1-9c8b8eb671a8",
   "metadata": {},
   "outputs": [
    {
     "data": {
      "text/html": [
       "<div>\n",
       "<style scoped>\n",
       "    .dataframe tbody tr th:only-of-type {\n",
       "        vertical-align: middle;\n",
       "    }\n",
       "\n",
       "    .dataframe tbody tr th {\n",
       "        vertical-align: top;\n",
       "    }\n",
       "\n",
       "    .dataframe thead th {\n",
       "        text-align: right;\n",
       "    }\n",
       "</style>\n",
       "<table border=\"1\" class=\"dataframe\">\n",
       "  <thead>\n",
       "    <tr style=\"text-align: right;\">\n",
       "      <th></th>\n",
       "      <th>job_id</th>\n",
       "      <th>company_name</th>\n",
       "      <th>title</th>\n",
       "      <th>description</th>\n",
       "      <th>max_salary</th>\n",
       "      <th>pay_period</th>\n",
       "      <th>location</th>\n",
       "      <th>company_id</th>\n",
       "      <th>views</th>\n",
       "      <th>med_salary</th>\n",
       "      <th>...</th>\n",
       "      <th>skills_desc</th>\n",
       "      <th>listed_time</th>\n",
       "      <th>posting_domain</th>\n",
       "      <th>sponsored</th>\n",
       "      <th>work_type</th>\n",
       "      <th>currency</th>\n",
       "      <th>compensation_type</th>\n",
       "      <th>normalized_salary</th>\n",
       "      <th>zip_code</th>\n",
       "      <th>fips</th>\n",
       "    </tr>\n",
       "  </thead>\n",
       "  <tbody>\n",
       "    <tr>\n",
       "      <th>0</th>\n",
       "      <td>921716</td>\n",
       "      <td>Corcoran Sawyer Smith</td>\n",
       "      <td>Marketing Coordinator</td>\n",
       "      <td>Job descriptionA leading real estate firm in N...</td>\n",
       "      <td>20.0</td>\n",
       "      <td>HOURLY</td>\n",
       "      <td>Princeton, NJ</td>\n",
       "      <td>2774458.0</td>\n",
       "      <td>20.0</td>\n",
       "      <td>NaN</td>\n",
       "      <td>...</td>\n",
       "      <td>Requirements: \\n\\nWe are seeking a College or ...</td>\n",
       "      <td>1.713398e+12</td>\n",
       "      <td>NaN</td>\n",
       "      <td>0</td>\n",
       "      <td>FULL_TIME</td>\n",
       "      <td>USD</td>\n",
       "      <td>BASE_SALARY</td>\n",
       "      <td>38480.0</td>\n",
       "      <td>8540.0</td>\n",
       "      <td>34021.0</td>\n",
       "    </tr>\n",
       "    <tr>\n",
       "      <th>1</th>\n",
       "      <td>1829192</td>\n",
       "      <td>NaN</td>\n",
       "      <td>Mental Health Therapist/Counselor</td>\n",
       "      <td>At Aspen Therapy and Wellness , we are committ...</td>\n",
       "      <td>50.0</td>\n",
       "      <td>HOURLY</td>\n",
       "      <td>Fort Collins, CO</td>\n",
       "      <td>NaN</td>\n",
       "      <td>1.0</td>\n",
       "      <td>NaN</td>\n",
       "      <td>...</td>\n",
       "      <td>NaN</td>\n",
       "      <td>1.712858e+12</td>\n",
       "      <td>NaN</td>\n",
       "      <td>0</td>\n",
       "      <td>FULL_TIME</td>\n",
       "      <td>USD</td>\n",
       "      <td>BASE_SALARY</td>\n",
       "      <td>83200.0</td>\n",
       "      <td>80521.0</td>\n",
       "      <td>8069.0</td>\n",
       "    </tr>\n",
       "    <tr>\n",
       "      <th>2</th>\n",
       "      <td>10998357</td>\n",
       "      <td>The National Exemplar</td>\n",
       "      <td>Assitant Restaurant Manager</td>\n",
       "      <td>The National Exemplar is accepting application...</td>\n",
       "      <td>65000.0</td>\n",
       "      <td>YEARLY</td>\n",
       "      <td>Cincinnati, OH</td>\n",
       "      <td>64896719.0</td>\n",
       "      <td>8.0</td>\n",
       "      <td>NaN</td>\n",
       "      <td>...</td>\n",
       "      <td>We are currently accepting resumes for FOH - A...</td>\n",
       "      <td>1.713278e+12</td>\n",
       "      <td>NaN</td>\n",
       "      <td>0</td>\n",
       "      <td>FULL_TIME</td>\n",
       "      <td>USD</td>\n",
       "      <td>BASE_SALARY</td>\n",
       "      <td>55000.0</td>\n",
       "      <td>45202.0</td>\n",
       "      <td>39061.0</td>\n",
       "    </tr>\n",
       "    <tr>\n",
       "      <th>3</th>\n",
       "      <td>23221523</td>\n",
       "      <td>Abrams Fensterman, LLP</td>\n",
       "      <td>Senior Elder Law / Trusts and Estates Associat...</td>\n",
       "      <td>Senior Associate Attorney - Elder Law / Trusts...</td>\n",
       "      <td>175000.0</td>\n",
       "      <td>YEARLY</td>\n",
       "      <td>New Hyde Park, NY</td>\n",
       "      <td>766262.0</td>\n",
       "      <td>16.0</td>\n",
       "      <td>NaN</td>\n",
       "      <td>...</td>\n",
       "      <td>This position requires a baseline understandin...</td>\n",
       "      <td>1.712896e+12</td>\n",
       "      <td>NaN</td>\n",
       "      <td>0</td>\n",
       "      <td>FULL_TIME</td>\n",
       "      <td>USD</td>\n",
       "      <td>BASE_SALARY</td>\n",
       "      <td>157500.0</td>\n",
       "      <td>11040.0</td>\n",
       "      <td>36059.0</td>\n",
       "    </tr>\n",
       "    <tr>\n",
       "      <th>4</th>\n",
       "      <td>35982263</td>\n",
       "      <td>NaN</td>\n",
       "      <td>Service Technician</td>\n",
       "      <td>Looking for HVAC service tech with experience ...</td>\n",
       "      <td>80000.0</td>\n",
       "      <td>YEARLY</td>\n",
       "      <td>Burlington, IA</td>\n",
       "      <td>NaN</td>\n",
       "      <td>3.0</td>\n",
       "      <td>NaN</td>\n",
       "      <td>...</td>\n",
       "      <td>NaN</td>\n",
       "      <td>1.713452e+12</td>\n",
       "      <td>NaN</td>\n",
       "      <td>0</td>\n",
       "      <td>FULL_TIME</td>\n",
       "      <td>USD</td>\n",
       "      <td>BASE_SALARY</td>\n",
       "      <td>70000.0</td>\n",
       "      <td>52601.0</td>\n",
       "      <td>19057.0</td>\n",
       "    </tr>\n",
       "  </tbody>\n",
       "</table>\n",
       "<p>5 rows × 31 columns</p>\n",
       "</div>"
      ],
      "text/plain": [
       "     job_id            company_name  \\\n",
       "0    921716   Corcoran Sawyer Smith   \n",
       "1   1829192                     NaN   \n",
       "2  10998357  The National Exemplar    \n",
       "3  23221523  Abrams Fensterman, LLP   \n",
       "4  35982263                     NaN   \n",
       "\n",
       "                                               title  \\\n",
       "0                              Marketing Coordinator   \n",
       "1                  Mental Health Therapist/Counselor   \n",
       "2                        Assitant Restaurant Manager   \n",
       "3  Senior Elder Law / Trusts and Estates Associat...   \n",
       "4                                 Service Technician   \n",
       "\n",
       "                                         description  max_salary pay_period  \\\n",
       "0  Job descriptionA leading real estate firm in N...        20.0     HOURLY   \n",
       "1  At Aspen Therapy and Wellness , we are committ...        50.0     HOURLY   \n",
       "2  The National Exemplar is accepting application...     65000.0     YEARLY   \n",
       "3  Senior Associate Attorney - Elder Law / Trusts...    175000.0     YEARLY   \n",
       "4  Looking for HVAC service tech with experience ...     80000.0     YEARLY   \n",
       "\n",
       "            location  company_id  views  med_salary  ...  \\\n",
       "0      Princeton, NJ   2774458.0   20.0         NaN  ...   \n",
       "1   Fort Collins, CO         NaN    1.0         NaN  ...   \n",
       "2     Cincinnati, OH  64896719.0    8.0         NaN  ...   \n",
       "3  New Hyde Park, NY    766262.0   16.0         NaN  ...   \n",
       "4     Burlington, IA         NaN    3.0         NaN  ...   \n",
       "\n",
       "                                         skills_desc   listed_time  \\\n",
       "0  Requirements: \\n\\nWe are seeking a College or ...  1.713398e+12   \n",
       "1                                                NaN  1.712858e+12   \n",
       "2  We are currently accepting resumes for FOH - A...  1.713278e+12   \n",
       "3  This position requires a baseline understandin...  1.712896e+12   \n",
       "4                                                NaN  1.713452e+12   \n",
       "\n",
       "   posting_domain  sponsored  work_type currency compensation_type  \\\n",
       "0             NaN          0  FULL_TIME      USD       BASE_SALARY   \n",
       "1             NaN          0  FULL_TIME      USD       BASE_SALARY   \n",
       "2             NaN          0  FULL_TIME      USD       BASE_SALARY   \n",
       "3             NaN          0  FULL_TIME      USD       BASE_SALARY   \n",
       "4             NaN          0  FULL_TIME      USD       BASE_SALARY   \n",
       "\n",
       "  normalized_salary  zip_code     fips  \n",
       "0           38480.0    8540.0  34021.0  \n",
       "1           83200.0   80521.0   8069.0  \n",
       "2           55000.0   45202.0  39061.0  \n",
       "3          157500.0   11040.0  36059.0  \n",
       "4           70000.0   52601.0  19057.0  \n",
       "\n",
       "[5 rows x 31 columns]"
      ]
     },
     "execution_count": 16,
     "metadata": {},
     "output_type": "execute_result"
    }
   ],
   "source": [
    "LNPost = pd.read_csv(\"postings (1).csv\")\n",
    "LNPost.head()"
   ]
  },
  {
   "cell_type": "code",
   "execution_count": 17,
   "id": "5974fd4c-3be6-430e-a43f-e0c3688d124f",
   "metadata": {},
   "outputs": [
    {
     "data": {
      "text/plain": [
       "Index(['job_id', 'company_name', 'title', 'description', 'max_salary',\n",
       "       'pay_period', 'location', 'company_id', 'views', 'med_salary',\n",
       "       'min_salary', 'formatted_work_type', 'applies', 'original_listed_time',\n",
       "       'remote_allowed', 'job_posting_url', 'application_url',\n",
       "       'application_type', 'expiry', 'closed_time',\n",
       "       'formatted_experience_level', 'skills_desc', 'listed_time',\n",
       "       'posting_domain', 'sponsored', 'work_type', 'currency',\n",
       "       'compensation_type', 'normalized_salary', 'zip_code', 'fips'],\n",
       "      dtype='object')"
      ]
     },
     "execution_count": 17,
     "metadata": {},
     "output_type": "execute_result"
    }
   ],
   "source": [
    "LNPost.columns"
   ]
  },
  {
   "cell_type": "markdown",
   "id": "b631b729-2b2c-48af-bd76-fe2e781cfe0d",
   "metadata": {},
   "source": [
    "Data I can use: \n",
    "\n",
    "- 'title'\n",
    "- 'max_salary'\n",
    "- 'min\n",
    "- "
   ]
  },
  {
   "cell_type": "code",
   "execution_count": 18,
   "id": "b5de8acf-5c81-4f63-9543-f481a502e68d",
   "metadata": {},
   "outputs": [
    {
     "data": {
      "text/html": [
       "<div>\n",
       "<style scoped>\n",
       "    .dataframe tbody tr th:only-of-type {\n",
       "        vertical-align: middle;\n",
       "    }\n",
       "\n",
       "    .dataframe tbody tr th {\n",
       "        vertical-align: top;\n",
       "    }\n",
       "\n",
       "    .dataframe thead th {\n",
       "        text-align: right;\n",
       "    }\n",
       "</style>\n",
       "<table border=\"1\" class=\"dataframe\">\n",
       "  <thead>\n",
       "    <tr style=\"text-align: right;\">\n",
       "      <th></th>\n",
       "      <th>job_id</th>\n",
       "      <th>max_salary</th>\n",
       "      <th>company_id</th>\n",
       "      <th>views</th>\n",
       "      <th>med_salary</th>\n",
       "      <th>min_salary</th>\n",
       "      <th>applies</th>\n",
       "      <th>original_listed_time</th>\n",
       "      <th>remote_allowed</th>\n",
       "      <th>expiry</th>\n",
       "      <th>closed_time</th>\n",
       "      <th>listed_time</th>\n",
       "      <th>sponsored</th>\n",
       "      <th>normalized_salary</th>\n",
       "      <th>zip_code</th>\n",
       "      <th>fips</th>\n",
       "    </tr>\n",
       "  </thead>\n",
       "  <tbody>\n",
       "    <tr>\n",
       "      <th>count</th>\n",
       "      <td>1.238490e+05</td>\n",
       "      <td>2.979300e+04</td>\n",
       "      <td>1.221320e+05</td>\n",
       "      <td>122160.000000</td>\n",
       "      <td>6280.000000</td>\n",
       "      <td>2.979300e+04</td>\n",
       "      <td>23320.000000</td>\n",
       "      <td>1.238490e+05</td>\n",
       "      <td>15246.0</td>\n",
       "      <td>1.238490e+05</td>\n",
       "      <td>1.073000e+03</td>\n",
       "      <td>1.238490e+05</td>\n",
       "      <td>123849.0</td>\n",
       "      <td>3.607300e+04</td>\n",
       "      <td>102977.000000</td>\n",
       "      <td>96434.000000</td>\n",
       "    </tr>\n",
       "    <tr>\n",
       "      <th>mean</th>\n",
       "      <td>3.896402e+09</td>\n",
       "      <td>9.193942e+04</td>\n",
       "      <td>1.220401e+07</td>\n",
       "      <td>14.618247</td>\n",
       "      <td>22015.619876</td>\n",
       "      <td>6.491085e+04</td>\n",
       "      <td>10.591981</td>\n",
       "      <td>1.713152e+12</td>\n",
       "      <td>1.0</td>\n",
       "      <td>1.716213e+12</td>\n",
       "      <td>1.712928e+12</td>\n",
       "      <td>1.713204e+12</td>\n",
       "      <td>0.0</td>\n",
       "      <td>2.053270e+05</td>\n",
       "      <td>50400.491887</td>\n",
       "      <td>28713.879887</td>\n",
       "    </tr>\n",
       "    <tr>\n",
       "      <th>std</th>\n",
       "      <td>8.404355e+07</td>\n",
       "      <td>7.011101e+05</td>\n",
       "      <td>2.554143e+07</td>\n",
       "      <td>85.903598</td>\n",
       "      <td>52255.873846</td>\n",
       "      <td>4.959738e+05</td>\n",
       "      <td>29.047395</td>\n",
       "      <td>4.848209e+08</td>\n",
       "      <td>0.0</td>\n",
       "      <td>2.321394e+09</td>\n",
       "      <td>3.622893e+08</td>\n",
       "      <td>3.989122e+08</td>\n",
       "      <td>0.0</td>\n",
       "      <td>5.097627e+06</td>\n",
       "      <td>30252.232515</td>\n",
       "      <td>16015.929825</td>\n",
       "    </tr>\n",
       "    <tr>\n",
       "      <th>min</th>\n",
       "      <td>9.217160e+05</td>\n",
       "      <td>1.000000e+00</td>\n",
       "      <td>1.009000e+03</td>\n",
       "      <td>1.000000</td>\n",
       "      <td>0.000000</td>\n",
       "      <td>1.000000e+00</td>\n",
       "      <td>1.000000</td>\n",
       "      <td>1.701811e+12</td>\n",
       "      <td>1.0</td>\n",
       "      <td>1.712903e+12</td>\n",
       "      <td>1.712346e+12</td>\n",
       "      <td>1.711317e+12</td>\n",
       "      <td>0.0</td>\n",
       "      <td>0.000000e+00</td>\n",
       "      <td>1001.000000</td>\n",
       "      <td>1003.000000</td>\n",
       "    </tr>\n",
       "    <tr>\n",
       "      <th>25%</th>\n",
       "      <td>3.894587e+09</td>\n",
       "      <td>4.828000e+01</td>\n",
       "      <td>1.435200e+04</td>\n",
       "      <td>3.000000</td>\n",
       "      <td>18.940000</td>\n",
       "      <td>3.700000e+01</td>\n",
       "      <td>1.000000</td>\n",
       "      <td>1.712863e+12</td>\n",
       "      <td>1.0</td>\n",
       "      <td>1.715481e+12</td>\n",
       "      <td>1.712670e+12</td>\n",
       "      <td>1.712886e+12</td>\n",
       "      <td>0.0</td>\n",
       "      <td>5.200000e+04</td>\n",
       "      <td>24112.000000</td>\n",
       "      <td>13121.000000</td>\n",
       "    </tr>\n",
       "    <tr>\n",
       "      <th>50%</th>\n",
       "      <td>3.901998e+09</td>\n",
       "      <td>8.000000e+04</td>\n",
       "      <td>2.269650e+05</td>\n",
       "      <td>4.000000</td>\n",
       "      <td>25.500000</td>\n",
       "      <td>6.000000e+04</td>\n",
       "      <td>3.000000</td>\n",
       "      <td>1.713395e+12</td>\n",
       "      <td>1.0</td>\n",
       "      <td>1.716042e+12</td>\n",
       "      <td>1.712670e+12</td>\n",
       "      <td>1.713408e+12</td>\n",
       "      <td>0.0</td>\n",
       "      <td>8.150000e+04</td>\n",
       "      <td>48059.000000</td>\n",
       "      <td>29183.000000</td>\n",
       "    </tr>\n",
       "    <tr>\n",
       "      <th>75%</th>\n",
       "      <td>3.904707e+09</td>\n",
       "      <td>1.400000e+05</td>\n",
       "      <td>8.047188e+06</td>\n",
       "      <td>8.000000</td>\n",
       "      <td>2510.500000</td>\n",
       "      <td>1.000000e+05</td>\n",
       "      <td>8.000000</td>\n",
       "      <td>1.713478e+12</td>\n",
       "      <td>1.0</td>\n",
       "      <td>1.716088e+12</td>\n",
       "      <td>1.713283e+12</td>\n",
       "      <td>1.713484e+12</td>\n",
       "      <td>0.0</td>\n",
       "      <td>1.250000e+05</td>\n",
       "      <td>78201.000000</td>\n",
       "      <td>42077.000000</td>\n",
       "    </tr>\n",
       "    <tr>\n",
       "      <th>max</th>\n",
       "      <td>3.906267e+09</td>\n",
       "      <td>1.200000e+08</td>\n",
       "      <td>1.034730e+08</td>\n",
       "      <td>9975.000000</td>\n",
       "      <td>750000.000000</td>\n",
       "      <td>8.500000e+07</td>\n",
       "      <td>967.000000</td>\n",
       "      <td>1.713573e+12</td>\n",
       "      <td>1.0</td>\n",
       "      <td>1.729125e+12</td>\n",
       "      <td>1.713562e+12</td>\n",
       "      <td>1.713573e+12</td>\n",
       "      <td>0.0</td>\n",
       "      <td>5.356000e+08</td>\n",
       "      <td>99901.000000</td>\n",
       "      <td>56045.000000</td>\n",
       "    </tr>\n",
       "  </tbody>\n",
       "</table>\n",
       "</div>"
      ],
      "text/plain": [
       "             job_id    max_salary    company_id          views     med_salary  \\\n",
       "count  1.238490e+05  2.979300e+04  1.221320e+05  122160.000000    6280.000000   \n",
       "mean   3.896402e+09  9.193942e+04  1.220401e+07      14.618247   22015.619876   \n",
       "std    8.404355e+07  7.011101e+05  2.554143e+07      85.903598   52255.873846   \n",
       "min    9.217160e+05  1.000000e+00  1.009000e+03       1.000000       0.000000   \n",
       "25%    3.894587e+09  4.828000e+01  1.435200e+04       3.000000      18.940000   \n",
       "50%    3.901998e+09  8.000000e+04  2.269650e+05       4.000000      25.500000   \n",
       "75%    3.904707e+09  1.400000e+05  8.047188e+06       8.000000    2510.500000   \n",
       "max    3.906267e+09  1.200000e+08  1.034730e+08    9975.000000  750000.000000   \n",
       "\n",
       "         min_salary       applies  original_listed_time  remote_allowed  \\\n",
       "count  2.979300e+04  23320.000000          1.238490e+05         15246.0   \n",
       "mean   6.491085e+04     10.591981          1.713152e+12             1.0   \n",
       "std    4.959738e+05     29.047395          4.848209e+08             0.0   \n",
       "min    1.000000e+00      1.000000          1.701811e+12             1.0   \n",
       "25%    3.700000e+01      1.000000          1.712863e+12             1.0   \n",
       "50%    6.000000e+04      3.000000          1.713395e+12             1.0   \n",
       "75%    1.000000e+05      8.000000          1.713478e+12             1.0   \n",
       "max    8.500000e+07    967.000000          1.713573e+12             1.0   \n",
       "\n",
       "             expiry   closed_time   listed_time  sponsored  normalized_salary  \\\n",
       "count  1.238490e+05  1.073000e+03  1.238490e+05   123849.0       3.607300e+04   \n",
       "mean   1.716213e+12  1.712928e+12  1.713204e+12        0.0       2.053270e+05   \n",
       "std    2.321394e+09  3.622893e+08  3.989122e+08        0.0       5.097627e+06   \n",
       "min    1.712903e+12  1.712346e+12  1.711317e+12        0.0       0.000000e+00   \n",
       "25%    1.715481e+12  1.712670e+12  1.712886e+12        0.0       5.200000e+04   \n",
       "50%    1.716042e+12  1.712670e+12  1.713408e+12        0.0       8.150000e+04   \n",
       "75%    1.716088e+12  1.713283e+12  1.713484e+12        0.0       1.250000e+05   \n",
       "max    1.729125e+12  1.713562e+12  1.713573e+12        0.0       5.356000e+08   \n",
       "\n",
       "            zip_code          fips  \n",
       "count  102977.000000  96434.000000  \n",
       "mean    50400.491887  28713.879887  \n",
       "std     30252.232515  16015.929825  \n",
       "min      1001.000000   1003.000000  \n",
       "25%     24112.000000  13121.000000  \n",
       "50%     48059.000000  29183.000000  \n",
       "75%     78201.000000  42077.000000  \n",
       "max     99901.000000  56045.000000  "
      ]
     },
     "execution_count": 18,
     "metadata": {},
     "output_type": "execute_result"
    }
   ],
   "source": [
    "LNPost.describe()"
   ]
  },
  {
   "cell_type": "code",
   "execution_count": 19,
   "id": "cba974e0-3718-4dfd-93d2-322cca0e6d14",
   "metadata": {},
   "outputs": [
    {
     "data": {
      "text/html": [
       "<div>\n",
       "<style scoped>\n",
       "    .dataframe tbody tr th:only-of-type {\n",
       "        vertical-align: middle;\n",
       "    }\n",
       "\n",
       "    .dataframe tbody tr th {\n",
       "        vertical-align: top;\n",
       "    }\n",
       "\n",
       "    .dataframe thead th {\n",
       "        text-align: right;\n",
       "    }\n",
       "</style>\n",
       "<table border=\"1\" class=\"dataframe\">\n",
       "  <thead>\n",
       "    <tr style=\"text-align: right;\">\n",
       "      <th></th>\n",
       "      <th>job_id</th>\n",
       "      <th>company_name</th>\n",
       "      <th>description</th>\n",
       "      <th>max_salary</th>\n",
       "      <th>pay_period</th>\n",
       "      <th>location</th>\n",
       "      <th>company_id</th>\n",
       "      <th>views</th>\n",
       "      <th>med_salary</th>\n",
       "      <th>min_salary</th>\n",
       "      <th>...</th>\n",
       "      <th>skills_desc</th>\n",
       "      <th>listed_time</th>\n",
       "      <th>posting_domain</th>\n",
       "      <th>sponsored</th>\n",
       "      <th>work_type</th>\n",
       "      <th>currency</th>\n",
       "      <th>compensation_type</th>\n",
       "      <th>normalized_salary</th>\n",
       "      <th>zip_code</th>\n",
       "      <th>fips</th>\n",
       "    </tr>\n",
       "    <tr>\n",
       "      <th>title</th>\n",
       "      <th></th>\n",
       "      <th></th>\n",
       "      <th></th>\n",
       "      <th></th>\n",
       "      <th></th>\n",
       "      <th></th>\n",
       "      <th></th>\n",
       "      <th></th>\n",
       "      <th></th>\n",
       "      <th></th>\n",
       "      <th></th>\n",
       "      <th></th>\n",
       "      <th></th>\n",
       "      <th></th>\n",
       "      <th></th>\n",
       "      <th></th>\n",
       "      <th></th>\n",
       "      <th></th>\n",
       "      <th></th>\n",
       "      <th></th>\n",
       "      <th></th>\n",
       "    </tr>\n",
       "  </thead>\n",
       "  <tbody>\n",
       "    <tr>\n",
       "      <th>\\tHRIS Specialist</th>\n",
       "      <td>1</td>\n",
       "      <td>1</td>\n",
       "      <td>1</td>\n",
       "      <td>0</td>\n",
       "      <td>0</td>\n",
       "      <td>1</td>\n",
       "      <td>1</td>\n",
       "      <td>1</td>\n",
       "      <td>0</td>\n",
       "      <td>0</td>\n",
       "      <td>...</td>\n",
       "      <td>0</td>\n",
       "      <td>1</td>\n",
       "      <td>0</td>\n",
       "      <td>1</td>\n",
       "      <td>1</td>\n",
       "      <td>0</td>\n",
       "      <td>0</td>\n",
       "      <td>0</td>\n",
       "      <td>1</td>\n",
       "      <td>1</td>\n",
       "    </tr>\n",
       "    <tr>\n",
       "      <th>\\tLicensed Vocational Nurse</th>\n",
       "      <td>1</td>\n",
       "      <td>0</td>\n",
       "      <td>1</td>\n",
       "      <td>0</td>\n",
       "      <td>0</td>\n",
       "      <td>1</td>\n",
       "      <td>0</td>\n",
       "      <td>0</td>\n",
       "      <td>0</td>\n",
       "      <td>0</td>\n",
       "      <td>...</td>\n",
       "      <td>0</td>\n",
       "      <td>1</td>\n",
       "      <td>0</td>\n",
       "      <td>1</td>\n",
       "      <td>1</td>\n",
       "      <td>0</td>\n",
       "      <td>0</td>\n",
       "      <td>0</td>\n",
       "      <td>1</td>\n",
       "      <td>1</td>\n",
       "    </tr>\n",
       "    <tr>\n",
       "      <th>\\tMerchandiser Drop &amp; Go</th>\n",
       "      <td>1</td>\n",
       "      <td>0</td>\n",
       "      <td>1</td>\n",
       "      <td>0</td>\n",
       "      <td>1</td>\n",
       "      <td>1</td>\n",
       "      <td>0</td>\n",
       "      <td>1</td>\n",
       "      <td>1</td>\n",
       "      <td>0</td>\n",
       "      <td>...</td>\n",
       "      <td>0</td>\n",
       "      <td>1</td>\n",
       "      <td>0</td>\n",
       "      <td>1</td>\n",
       "      <td>1</td>\n",
       "      <td>1</td>\n",
       "      <td>1</td>\n",
       "      <td>1</td>\n",
       "      <td>1</td>\n",
       "      <td>1</td>\n",
       "    </tr>\n",
       "    <tr>\n",
       "      <th>\\tPublic Figure Protection / Executive Protection Team Lead</th>\n",
       "      <td>1</td>\n",
       "      <td>1</td>\n",
       "      <td>1</td>\n",
       "      <td>1</td>\n",
       "      <td>1</td>\n",
       "      <td>1</td>\n",
       "      <td>1</td>\n",
       "      <td>0</td>\n",
       "      <td>0</td>\n",
       "      <td>1</td>\n",
       "      <td>...</td>\n",
       "      <td>0</td>\n",
       "      <td>1</td>\n",
       "      <td>0</td>\n",
       "      <td>1</td>\n",
       "      <td>1</td>\n",
       "      <td>1</td>\n",
       "      <td>1</td>\n",
       "      <td>1</td>\n",
       "      <td>1</td>\n",
       "      <td>1</td>\n",
       "    </tr>\n",
       "    <tr>\n",
       "      <th>\\tSupervisor Clinic Operations</th>\n",
       "      <td>1</td>\n",
       "      <td>1</td>\n",
       "      <td>1</td>\n",
       "      <td>1</td>\n",
       "      <td>1</td>\n",
       "      <td>1</td>\n",
       "      <td>1</td>\n",
       "      <td>1</td>\n",
       "      <td>0</td>\n",
       "      <td>1</td>\n",
       "      <td>...</td>\n",
       "      <td>0</td>\n",
       "      <td>1</td>\n",
       "      <td>0</td>\n",
       "      <td>1</td>\n",
       "      <td>1</td>\n",
       "      <td>1</td>\n",
       "      <td>1</td>\n",
       "      <td>1</td>\n",
       "      <td>1</td>\n",
       "      <td>1</td>\n",
       "    </tr>\n",
       "    <tr>\n",
       "      <th>...</th>\n",
       "      <td>...</td>\n",
       "      <td>...</td>\n",
       "      <td>...</td>\n",
       "      <td>...</td>\n",
       "      <td>...</td>\n",
       "      <td>...</td>\n",
       "      <td>...</td>\n",
       "      <td>...</td>\n",
       "      <td>...</td>\n",
       "      <td>...</td>\n",
       "      <td>...</td>\n",
       "      <td>...</td>\n",
       "      <td>...</td>\n",
       "      <td>...</td>\n",
       "      <td>...</td>\n",
       "      <td>...</td>\n",
       "      <td>...</td>\n",
       "      <td>...</td>\n",
       "      <td>...</td>\n",
       "      <td>...</td>\n",
       "      <td>...</td>\n",
       "    </tr>\n",
       "    <tr>\n",
       "      <th>지역 영업 관리자</th>\n",
       "      <td>1</td>\n",
       "      <td>1</td>\n",
       "      <td>1</td>\n",
       "      <td>0</td>\n",
       "      <td>0</td>\n",
       "      <td>1</td>\n",
       "      <td>1</td>\n",
       "      <td>1</td>\n",
       "      <td>0</td>\n",
       "      <td>0</td>\n",
       "      <td>...</td>\n",
       "      <td>0</td>\n",
       "      <td>1</td>\n",
       "      <td>0</td>\n",
       "      <td>1</td>\n",
       "      <td>1</td>\n",
       "      <td>0</td>\n",
       "      <td>0</td>\n",
       "      <td>0</td>\n",
       "      <td>1</td>\n",
       "      <td>0</td>\n",
       "    </tr>\n",
       "    <tr>\n",
       "      <th>🌟🚀🌊 Make Waves with Your Sales Skills! Earn $2500-$3500/Week! 🌊🚀🌟</th>\n",
       "      <td>1</td>\n",
       "      <td>1</td>\n",
       "      <td>1</td>\n",
       "      <td>0</td>\n",
       "      <td>0</td>\n",
       "      <td>1</td>\n",
       "      <td>1</td>\n",
       "      <td>1</td>\n",
       "      <td>0</td>\n",
       "      <td>0</td>\n",
       "      <td>...</td>\n",
       "      <td>0</td>\n",
       "      <td>1</td>\n",
       "      <td>0</td>\n",
       "      <td>1</td>\n",
       "      <td>1</td>\n",
       "      <td>0</td>\n",
       "      <td>0</td>\n",
       "      <td>0</td>\n",
       "      <td>0</td>\n",
       "      <td>0</td>\n",
       "    </tr>\n",
       "    <tr>\n",
       "      <th>🎨🎷 Seeking Festival Assistant 🎉</th>\n",
       "      <td>1</td>\n",
       "      <td>0</td>\n",
       "      <td>1</td>\n",
       "      <td>0</td>\n",
       "      <td>0</td>\n",
       "      <td>1</td>\n",
       "      <td>0</td>\n",
       "      <td>1</td>\n",
       "      <td>0</td>\n",
       "      <td>0</td>\n",
       "      <td>...</td>\n",
       "      <td>0</td>\n",
       "      <td>1</td>\n",
       "      <td>0</td>\n",
       "      <td>1</td>\n",
       "      <td>1</td>\n",
       "      <td>0</td>\n",
       "      <td>0</td>\n",
       "      <td>0</td>\n",
       "      <td>1</td>\n",
       "      <td>1</td>\n",
       "    </tr>\n",
       "    <tr>\n",
       "      <th>🚀 Join Our Team as a Senior iOS Developer at ABHI IT SYSTEMS INC 🌐 🚀</th>\n",
       "      <td>1</td>\n",
       "      <td>1</td>\n",
       "      <td>1</td>\n",
       "      <td>0</td>\n",
       "      <td>0</td>\n",
       "      <td>1</td>\n",
       "      <td>1</td>\n",
       "      <td>1</td>\n",
       "      <td>0</td>\n",
       "      <td>0</td>\n",
       "      <td>...</td>\n",
       "      <td>0</td>\n",
       "      <td>1</td>\n",
       "      <td>0</td>\n",
       "      <td>1</td>\n",
       "      <td>1</td>\n",
       "      <td>0</td>\n",
       "      <td>0</td>\n",
       "      <td>0</td>\n",
       "      <td>1</td>\n",
       "      <td>1</td>\n",
       "    </tr>\n",
       "    <tr>\n",
       "      <th>🚀Principal Geotechnical Engineer (ESOP)(Bonus)(Fully Remote)🚀</th>\n",
       "      <td>1</td>\n",
       "      <td>1</td>\n",
       "      <td>1</td>\n",
       "      <td>1</td>\n",
       "      <td>1</td>\n",
       "      <td>1</td>\n",
       "      <td>1</td>\n",
       "      <td>1</td>\n",
       "      <td>0</td>\n",
       "      <td>1</td>\n",
       "      <td>...</td>\n",
       "      <td>0</td>\n",
       "      <td>1</td>\n",
       "      <td>0</td>\n",
       "      <td>1</td>\n",
       "      <td>1</td>\n",
       "      <td>1</td>\n",
       "      <td>1</td>\n",
       "      <td>1</td>\n",
       "      <td>0</td>\n",
       "      <td>0</td>\n",
       "    </tr>\n",
       "  </tbody>\n",
       "</table>\n",
       "<p>72521 rows × 30 columns</p>\n",
       "</div>"
      ],
      "text/plain": [
       "                                                    job_id  company_name  \\\n",
       "title                                                                      \n",
       "\\tHRIS Specialist                                        1             1   \n",
       "\\tLicensed Vocational Nurse                              1             0   \n",
       "\\tMerchandiser Drop & Go                                 1             0   \n",
       "\\tPublic Figure Protection / Executive Protecti...       1             1   \n",
       "\\tSupervisor Clinic Operations                           1             1   \n",
       "...                                                    ...           ...   \n",
       "지역 영업 관리자                                                1             1   \n",
       "🌟🚀🌊 Make Waves with Your Sales Skills! Earn $25...       1             1   \n",
       "🎨🎷 Seeking Festival Assistant 🎉                          1             0   \n",
       "🚀 Join Our Team as a Senior iOS Developer at AB...       1             1   \n",
       "🚀Principal Geotechnical Engineer (ESOP)(Bonus)(...       1             1   \n",
       "\n",
       "                                                    description  max_salary  \\\n",
       "title                                                                         \n",
       "\\tHRIS Specialist                                             1           0   \n",
       "\\tLicensed Vocational Nurse                                   1           0   \n",
       "\\tMerchandiser Drop & Go                                      1           0   \n",
       "\\tPublic Figure Protection / Executive Protecti...            1           1   \n",
       "\\tSupervisor Clinic Operations                                1           1   \n",
       "...                                                         ...         ...   \n",
       "지역 영업 관리자                                                     1           0   \n",
       "🌟🚀🌊 Make Waves with Your Sales Skills! Earn $25...            1           0   \n",
       "🎨🎷 Seeking Festival Assistant 🎉                               1           0   \n",
       "🚀 Join Our Team as a Senior iOS Developer at AB...            1           0   \n",
       "🚀Principal Geotechnical Engineer (ESOP)(Bonus)(...            1           1   \n",
       "\n",
       "                                                    pay_period  location  \\\n",
       "title                                                                      \n",
       "\\tHRIS Specialist                                            0         1   \n",
       "\\tLicensed Vocational Nurse                                  0         1   \n",
       "\\tMerchandiser Drop & Go                                     1         1   \n",
       "\\tPublic Figure Protection / Executive Protecti...           1         1   \n",
       "\\tSupervisor Clinic Operations                               1         1   \n",
       "...                                                        ...       ...   \n",
       "지역 영업 관리자                                                    0         1   \n",
       "🌟🚀🌊 Make Waves with Your Sales Skills! Earn $25...           0         1   \n",
       "🎨🎷 Seeking Festival Assistant 🎉                              0         1   \n",
       "🚀 Join Our Team as a Senior iOS Developer at AB...           0         1   \n",
       "🚀Principal Geotechnical Engineer (ESOP)(Bonus)(...           1         1   \n",
       "\n",
       "                                                    company_id  views  \\\n",
       "title                                                                   \n",
       "\\tHRIS Specialist                                            1      1   \n",
       "\\tLicensed Vocational Nurse                                  0      0   \n",
       "\\tMerchandiser Drop & Go                                     0      1   \n",
       "\\tPublic Figure Protection / Executive Protecti...           1      0   \n",
       "\\tSupervisor Clinic Operations                               1      1   \n",
       "...                                                        ...    ...   \n",
       "지역 영업 관리자                                                    1      1   \n",
       "🌟🚀🌊 Make Waves with Your Sales Skills! Earn $25...           1      1   \n",
       "🎨🎷 Seeking Festival Assistant 🎉                              0      1   \n",
       "🚀 Join Our Team as a Senior iOS Developer at AB...           1      1   \n",
       "🚀Principal Geotechnical Engineer (ESOP)(Bonus)(...           1      1   \n",
       "\n",
       "                                                    med_salary  min_salary  \\\n",
       "title                                                                        \n",
       "\\tHRIS Specialist                                            0           0   \n",
       "\\tLicensed Vocational Nurse                                  0           0   \n",
       "\\tMerchandiser Drop & Go                                     1           0   \n",
       "\\tPublic Figure Protection / Executive Protecti...           0           1   \n",
       "\\tSupervisor Clinic Operations                               0           1   \n",
       "...                                                        ...         ...   \n",
       "지역 영업 관리자                                                    0           0   \n",
       "🌟🚀🌊 Make Waves with Your Sales Skills! Earn $25...           0           0   \n",
       "🎨🎷 Seeking Festival Assistant 🎉                              0           0   \n",
       "🚀 Join Our Team as a Senior iOS Developer at AB...           0           0   \n",
       "🚀Principal Geotechnical Engineer (ESOP)(Bonus)(...           0           1   \n",
       "\n",
       "                                                    ...  skills_desc  \\\n",
       "title                                               ...                \n",
       "\\tHRIS Specialist                                   ...            0   \n",
       "\\tLicensed Vocational Nurse                         ...            0   \n",
       "\\tMerchandiser Drop & Go                            ...            0   \n",
       "\\tPublic Figure Protection / Executive Protecti...  ...            0   \n",
       "\\tSupervisor Clinic Operations                      ...            0   \n",
       "...                                                 ...          ...   \n",
       "지역 영업 관리자                                           ...            0   \n",
       "🌟🚀🌊 Make Waves with Your Sales Skills! Earn $25...  ...            0   \n",
       "🎨🎷 Seeking Festival Assistant 🎉                     ...            0   \n",
       "🚀 Join Our Team as a Senior iOS Developer at AB...  ...            0   \n",
       "🚀Principal Geotechnical Engineer (ESOP)(Bonus)(...  ...            0   \n",
       "\n",
       "                                                    listed_time  \\\n",
       "title                                                             \n",
       "\\tHRIS Specialist                                             1   \n",
       "\\tLicensed Vocational Nurse                                   1   \n",
       "\\tMerchandiser Drop & Go                                      1   \n",
       "\\tPublic Figure Protection / Executive Protecti...            1   \n",
       "\\tSupervisor Clinic Operations                                1   \n",
       "...                                                         ...   \n",
       "지역 영업 관리자                                                     1   \n",
       "🌟🚀🌊 Make Waves with Your Sales Skills! Earn $25...            1   \n",
       "🎨🎷 Seeking Festival Assistant 🎉                               1   \n",
       "🚀 Join Our Team as a Senior iOS Developer at AB...            1   \n",
       "🚀Principal Geotechnical Engineer (ESOP)(Bonus)(...            1   \n",
       "\n",
       "                                                    posting_domain  sponsored  \\\n",
       "title                                                                           \n",
       "\\tHRIS Specialist                                                0          1   \n",
       "\\tLicensed Vocational Nurse                                      0          1   \n",
       "\\tMerchandiser Drop & Go                                         0          1   \n",
       "\\tPublic Figure Protection / Executive Protecti...               0          1   \n",
       "\\tSupervisor Clinic Operations                                   0          1   \n",
       "...                                                            ...        ...   \n",
       "지역 영업 관리자                                                        0          1   \n",
       "🌟🚀🌊 Make Waves with Your Sales Skills! Earn $25...               0          1   \n",
       "🎨🎷 Seeking Festival Assistant 🎉                                  0          1   \n",
       "🚀 Join Our Team as a Senior iOS Developer at AB...               0          1   \n",
       "🚀Principal Geotechnical Engineer (ESOP)(Bonus)(...               0          1   \n",
       "\n",
       "                                                    work_type  currency  \\\n",
       "title                                                                     \n",
       "\\tHRIS Specialist                                           1         0   \n",
       "\\tLicensed Vocational Nurse                                 1         0   \n",
       "\\tMerchandiser Drop & Go                                    1         1   \n",
       "\\tPublic Figure Protection / Executive Protecti...          1         1   \n",
       "\\tSupervisor Clinic Operations                              1         1   \n",
       "...                                                       ...       ...   \n",
       "지역 영업 관리자                                                   1         0   \n",
       "🌟🚀🌊 Make Waves with Your Sales Skills! Earn $25...          1         0   \n",
       "🎨🎷 Seeking Festival Assistant 🎉                             1         0   \n",
       "🚀 Join Our Team as a Senior iOS Developer at AB...          1         0   \n",
       "🚀Principal Geotechnical Engineer (ESOP)(Bonus)(...          1         1   \n",
       "\n",
       "                                                    compensation_type  \\\n",
       "title                                                                   \n",
       "\\tHRIS Specialist                                                   0   \n",
       "\\tLicensed Vocational Nurse                                         0   \n",
       "\\tMerchandiser Drop & Go                                            1   \n",
       "\\tPublic Figure Protection / Executive Protecti...                  1   \n",
       "\\tSupervisor Clinic Operations                                      1   \n",
       "...                                                               ...   \n",
       "지역 영업 관리자                                                           0   \n",
       "🌟🚀🌊 Make Waves with Your Sales Skills! Earn $25...                  0   \n",
       "🎨🎷 Seeking Festival Assistant 🎉                                     0   \n",
       "🚀 Join Our Team as a Senior iOS Developer at AB...                  0   \n",
       "🚀Principal Geotechnical Engineer (ESOP)(Bonus)(...                  1   \n",
       "\n",
       "                                                    normalized_salary  \\\n",
       "title                                                                   \n",
       "\\tHRIS Specialist                                                   0   \n",
       "\\tLicensed Vocational Nurse                                         0   \n",
       "\\tMerchandiser Drop & Go                                            1   \n",
       "\\tPublic Figure Protection / Executive Protecti...                  1   \n",
       "\\tSupervisor Clinic Operations                                      1   \n",
       "...                                                               ...   \n",
       "지역 영업 관리자                                                           0   \n",
       "🌟🚀🌊 Make Waves with Your Sales Skills! Earn $25...                  0   \n",
       "🎨🎷 Seeking Festival Assistant 🎉                                     0   \n",
       "🚀 Join Our Team as a Senior iOS Developer at AB...                  0   \n",
       "🚀Principal Geotechnical Engineer (ESOP)(Bonus)(...                  1   \n",
       "\n",
       "                                                    zip_code  fips  \n",
       "title                                                               \n",
       "\\tHRIS Specialist                                          1     1  \n",
       "\\tLicensed Vocational Nurse                                1     1  \n",
       "\\tMerchandiser Drop & Go                                   1     1  \n",
       "\\tPublic Figure Protection / Executive Protecti...         1     1  \n",
       "\\tSupervisor Clinic Operations                             1     1  \n",
       "...                                                      ...   ...  \n",
       "지역 영업 관리자                                                  1     0  \n",
       "🌟🚀🌊 Make Waves with Your Sales Skills! Earn $25...         0     0  \n",
       "🎨🎷 Seeking Festival Assistant 🎉                            1     1  \n",
       "🚀 Join Our Team as a Senior iOS Developer at AB...         1     1  \n",
       "🚀Principal Geotechnical Engineer (ESOP)(Bonus)(...         0     0  \n",
       "\n",
       "[72521 rows x 30 columns]"
      ]
     },
     "execution_count": 19,
     "metadata": {},
     "output_type": "execute_result"
    }
   ],
   "source": [
    "LNPost.groupby('title').count()"
   ]
  },
  {
   "cell_type": "code",
   "execution_count": 20,
   "id": "46f7e218-9a3b-41f0-8453-1b1b90ad19c8",
   "metadata": {},
   "outputs": [
    {
     "data": {
      "text/html": [
       "<div>\n",
       "<style scoped>\n",
       "    .dataframe tbody tr th:only-of-type {\n",
       "        vertical-align: middle;\n",
       "    }\n",
       "\n",
       "    .dataframe tbody tr th {\n",
       "        vertical-align: top;\n",
       "    }\n",
       "\n",
       "    .dataframe thead th {\n",
       "        text-align: right;\n",
       "    }\n",
       "</style>\n",
       "<table border=\"1\" class=\"dataframe\">\n",
       "  <thead>\n",
       "    <tr style=\"text-align: right;\">\n",
       "      <th></th>\n",
       "      <th>job_id</th>\n",
       "      <th>company_name</th>\n",
       "      <th>title</th>\n",
       "      <th>description</th>\n",
       "      <th>max_salary</th>\n",
       "      <th>pay_period</th>\n",
       "      <th>location</th>\n",
       "      <th>company_id</th>\n",
       "      <th>views</th>\n",
       "      <th>min_salary</th>\n",
       "      <th>...</th>\n",
       "      <th>skills_desc</th>\n",
       "      <th>listed_time</th>\n",
       "      <th>posting_domain</th>\n",
       "      <th>sponsored</th>\n",
       "      <th>work_type</th>\n",
       "      <th>currency</th>\n",
       "      <th>compensation_type</th>\n",
       "      <th>normalized_salary</th>\n",
       "      <th>zip_code</th>\n",
       "      <th>fips</th>\n",
       "    </tr>\n",
       "    <tr>\n",
       "      <th>med_salary</th>\n",
       "      <th></th>\n",
       "      <th></th>\n",
       "      <th></th>\n",
       "      <th></th>\n",
       "      <th></th>\n",
       "      <th></th>\n",
       "      <th></th>\n",
       "      <th></th>\n",
       "      <th></th>\n",
       "      <th></th>\n",
       "      <th></th>\n",
       "      <th></th>\n",
       "      <th></th>\n",
       "      <th></th>\n",
       "      <th></th>\n",
       "      <th></th>\n",
       "      <th></th>\n",
       "      <th></th>\n",
       "      <th></th>\n",
       "      <th></th>\n",
       "      <th></th>\n",
       "    </tr>\n",
       "  </thead>\n",
       "  <tbody>\n",
       "    <tr>\n",
       "      <th>0.00</th>\n",
       "      <td>14</td>\n",
       "      <td>14</td>\n",
       "      <td>14</td>\n",
       "      <td>14</td>\n",
       "      <td>0</td>\n",
       "      <td>14</td>\n",
       "      <td>14</td>\n",
       "      <td>14</td>\n",
       "      <td>13</td>\n",
       "      <td>0</td>\n",
       "      <td>...</td>\n",
       "      <td>0</td>\n",
       "      <td>14</td>\n",
       "      <td>0</td>\n",
       "      <td>14</td>\n",
       "      <td>14</td>\n",
       "      <td>14</td>\n",
       "      <td>14</td>\n",
       "      <td>14</td>\n",
       "      <td>5</td>\n",
       "      <td>5</td>\n",
       "    </tr>\n",
       "    <tr>\n",
       "      <th>9.00</th>\n",
       "      <td>1</td>\n",
       "      <td>0</td>\n",
       "      <td>1</td>\n",
       "      <td>1</td>\n",
       "      <td>0</td>\n",
       "      <td>1</td>\n",
       "      <td>1</td>\n",
       "      <td>0</td>\n",
       "      <td>1</td>\n",
       "      <td>0</td>\n",
       "      <td>...</td>\n",
       "      <td>0</td>\n",
       "      <td>1</td>\n",
       "      <td>0</td>\n",
       "      <td>1</td>\n",
       "      <td>1</td>\n",
       "      <td>1</td>\n",
       "      <td>1</td>\n",
       "      <td>1</td>\n",
       "      <td>1</td>\n",
       "      <td>1</td>\n",
       "    </tr>\n",
       "    <tr>\n",
       "      <th>10.00</th>\n",
       "      <td>5</td>\n",
       "      <td>5</td>\n",
       "      <td>5</td>\n",
       "      <td>5</td>\n",
       "      <td>0</td>\n",
       "      <td>5</td>\n",
       "      <td>5</td>\n",
       "      <td>5</td>\n",
       "      <td>5</td>\n",
       "      <td>0</td>\n",
       "      <td>...</td>\n",
       "      <td>0</td>\n",
       "      <td>5</td>\n",
       "      <td>4</td>\n",
       "      <td>5</td>\n",
       "      <td>5</td>\n",
       "      <td>5</td>\n",
       "      <td>5</td>\n",
       "      <td>5</td>\n",
       "      <td>5</td>\n",
       "      <td>4</td>\n",
       "    </tr>\n",
       "    <tr>\n",
       "      <th>10.75</th>\n",
       "      <td>1</td>\n",
       "      <td>1</td>\n",
       "      <td>1</td>\n",
       "      <td>1</td>\n",
       "      <td>0</td>\n",
       "      <td>1</td>\n",
       "      <td>1</td>\n",
       "      <td>1</td>\n",
       "      <td>1</td>\n",
       "      <td>0</td>\n",
       "      <td>...</td>\n",
       "      <td>0</td>\n",
       "      <td>1</td>\n",
       "      <td>1</td>\n",
       "      <td>1</td>\n",
       "      <td>1</td>\n",
       "      <td>1</td>\n",
       "      <td>1</td>\n",
       "      <td>1</td>\n",
       "      <td>1</td>\n",
       "      <td>1</td>\n",
       "    </tr>\n",
       "    <tr>\n",
       "      <th>11.00</th>\n",
       "      <td>13</td>\n",
       "      <td>13</td>\n",
       "      <td>13</td>\n",
       "      <td>13</td>\n",
       "      <td>0</td>\n",
       "      <td>13</td>\n",
       "      <td>13</td>\n",
       "      <td>13</td>\n",
       "      <td>13</td>\n",
       "      <td>0</td>\n",
       "      <td>...</td>\n",
       "      <td>0</td>\n",
       "      <td>13</td>\n",
       "      <td>13</td>\n",
       "      <td>13</td>\n",
       "      <td>13</td>\n",
       "      <td>13</td>\n",
       "      <td>13</td>\n",
       "      <td>13</td>\n",
       "      <td>10</td>\n",
       "      <td>9</td>\n",
       "    </tr>\n",
       "    <tr>\n",
       "      <th>...</th>\n",
       "      <td>...</td>\n",
       "      <td>...</td>\n",
       "      <td>...</td>\n",
       "      <td>...</td>\n",
       "      <td>...</td>\n",
       "      <td>...</td>\n",
       "      <td>...</td>\n",
       "      <td>...</td>\n",
       "      <td>...</td>\n",
       "      <td>...</td>\n",
       "      <td>...</td>\n",
       "      <td>...</td>\n",
       "      <td>...</td>\n",
       "      <td>...</td>\n",
       "      <td>...</td>\n",
       "      <td>...</td>\n",
       "      <td>...</td>\n",
       "      <td>...</td>\n",
       "      <td>...</td>\n",
       "      <td>...</td>\n",
       "      <td>...</td>\n",
       "    </tr>\n",
       "    <tr>\n",
       "      <th>525000.00</th>\n",
       "      <td>1</td>\n",
       "      <td>1</td>\n",
       "      <td>1</td>\n",
       "      <td>1</td>\n",
       "      <td>0</td>\n",
       "      <td>1</td>\n",
       "      <td>1</td>\n",
       "      <td>1</td>\n",
       "      <td>1</td>\n",
       "      <td>0</td>\n",
       "      <td>...</td>\n",
       "      <td>1</td>\n",
       "      <td>1</td>\n",
       "      <td>1</td>\n",
       "      <td>1</td>\n",
       "      <td>1</td>\n",
       "      <td>1</td>\n",
       "      <td>1</td>\n",
       "      <td>1</td>\n",
       "      <td>1</td>\n",
       "      <td>1</td>\n",
       "    </tr>\n",
       "    <tr>\n",
       "      <th>541000.00</th>\n",
       "      <td>1</td>\n",
       "      <td>1</td>\n",
       "      <td>1</td>\n",
       "      <td>1</td>\n",
       "      <td>0</td>\n",
       "      <td>1</td>\n",
       "      <td>1</td>\n",
       "      <td>1</td>\n",
       "      <td>1</td>\n",
       "      <td>0</td>\n",
       "      <td>...</td>\n",
       "      <td>0</td>\n",
       "      <td>1</td>\n",
       "      <td>1</td>\n",
       "      <td>1</td>\n",
       "      <td>1</td>\n",
       "      <td>1</td>\n",
       "      <td>1</td>\n",
       "      <td>1</td>\n",
       "      <td>1</td>\n",
       "      <td>1</td>\n",
       "    </tr>\n",
       "    <tr>\n",
       "      <th>550000.00</th>\n",
       "      <td>1</td>\n",
       "      <td>1</td>\n",
       "      <td>1</td>\n",
       "      <td>1</td>\n",
       "      <td>0</td>\n",
       "      <td>1</td>\n",
       "      <td>1</td>\n",
       "      <td>1</td>\n",
       "      <td>1</td>\n",
       "      <td>0</td>\n",
       "      <td>...</td>\n",
       "      <td>0</td>\n",
       "      <td>1</td>\n",
       "      <td>1</td>\n",
       "      <td>1</td>\n",
       "      <td>1</td>\n",
       "      <td>1</td>\n",
       "      <td>1</td>\n",
       "      <td>1</td>\n",
       "      <td>1</td>\n",
       "      <td>1</td>\n",
       "    </tr>\n",
       "    <tr>\n",
       "      <th>680000.00</th>\n",
       "      <td>1</td>\n",
       "      <td>1</td>\n",
       "      <td>1</td>\n",
       "      <td>1</td>\n",
       "      <td>0</td>\n",
       "      <td>1</td>\n",
       "      <td>1</td>\n",
       "      <td>1</td>\n",
       "      <td>1</td>\n",
       "      <td>0</td>\n",
       "      <td>...</td>\n",
       "      <td>0</td>\n",
       "      <td>1</td>\n",
       "      <td>1</td>\n",
       "      <td>1</td>\n",
       "      <td>1</td>\n",
       "      <td>1</td>\n",
       "      <td>1</td>\n",
       "      <td>1</td>\n",
       "      <td>1</td>\n",
       "      <td>1</td>\n",
       "    </tr>\n",
       "    <tr>\n",
       "      <th>750000.00</th>\n",
       "      <td>2</td>\n",
       "      <td>2</td>\n",
       "      <td>2</td>\n",
       "      <td>2</td>\n",
       "      <td>0</td>\n",
       "      <td>2</td>\n",
       "      <td>2</td>\n",
       "      <td>2</td>\n",
       "      <td>2</td>\n",
       "      <td>0</td>\n",
       "      <td>...</td>\n",
       "      <td>0</td>\n",
       "      <td>2</td>\n",
       "      <td>2</td>\n",
       "      <td>2</td>\n",
       "      <td>2</td>\n",
       "      <td>2</td>\n",
       "      <td>2</td>\n",
       "      <td>2</td>\n",
       "      <td>1</td>\n",
       "      <td>1</td>\n",
       "    </tr>\n",
       "  </tbody>\n",
       "</table>\n",
       "<p>1417 rows × 30 columns</p>\n",
       "</div>"
      ],
      "text/plain": [
       "            job_id  company_name  title  description  max_salary  pay_period  \\\n",
       "med_salary                                                                     \n",
       "0.00            14            14     14           14           0          14   \n",
       "9.00             1             0      1            1           0           1   \n",
       "10.00            5             5      5            5           0           5   \n",
       "10.75            1             1      1            1           0           1   \n",
       "11.00           13            13     13           13           0          13   \n",
       "...            ...           ...    ...          ...         ...         ...   \n",
       "525000.00        1             1      1            1           0           1   \n",
       "541000.00        1             1      1            1           0           1   \n",
       "550000.00        1             1      1            1           0           1   \n",
       "680000.00        1             1      1            1           0           1   \n",
       "750000.00        2             2      2            2           0           2   \n",
       "\n",
       "            location  company_id  views  min_salary  ...  skills_desc  \\\n",
       "med_salary                                           ...                \n",
       "0.00              14          14     13           0  ...            0   \n",
       "9.00               1           0      1           0  ...            0   \n",
       "10.00              5           5      5           0  ...            0   \n",
       "10.75              1           1      1           0  ...            0   \n",
       "11.00             13          13     13           0  ...            0   \n",
       "...              ...         ...    ...         ...  ...          ...   \n",
       "525000.00          1           1      1           0  ...            1   \n",
       "541000.00          1           1      1           0  ...            0   \n",
       "550000.00          1           1      1           0  ...            0   \n",
       "680000.00          1           1      1           0  ...            0   \n",
       "750000.00          2           2      2           0  ...            0   \n",
       "\n",
       "            listed_time  posting_domain  sponsored  work_type  currency  \\\n",
       "med_salary                                                                \n",
       "0.00                 14               0         14         14        14   \n",
       "9.00                  1               0          1          1         1   \n",
       "10.00                 5               4          5          5         5   \n",
       "10.75                 1               1          1          1         1   \n",
       "11.00                13              13         13         13        13   \n",
       "...                 ...             ...        ...        ...       ...   \n",
       "525000.00             1               1          1          1         1   \n",
       "541000.00             1               1          1          1         1   \n",
       "550000.00             1               1          1          1         1   \n",
       "680000.00             1               1          1          1         1   \n",
       "750000.00             2               2          2          2         2   \n",
       "\n",
       "            compensation_type  normalized_salary  zip_code  fips  \n",
       "med_salary                                                        \n",
       "0.00                       14                 14         5     5  \n",
       "9.00                        1                  1         1     1  \n",
       "10.00                       5                  5         5     4  \n",
       "10.75                       1                  1         1     1  \n",
       "11.00                      13                 13        10     9  \n",
       "...                       ...                ...       ...   ...  \n",
       "525000.00                   1                  1         1     1  \n",
       "541000.00                   1                  1         1     1  \n",
       "550000.00                   1                  1         1     1  \n",
       "680000.00                   1                  1         1     1  \n",
       "750000.00                   2                  2         1     1  \n",
       "\n",
       "[1417 rows x 30 columns]"
      ]
     },
     "execution_count": 20,
     "metadata": {},
     "output_type": "execute_result"
    }
   ],
   "source": [
    "LNPost.groupby('med_salary').count()"
   ]
  },
  {
   "cell_type": "code",
   "execution_count": 21,
   "id": "2a5ade3e-d34c-4871-94fe-52ae22b3c6df",
   "metadata": {},
   "outputs": [
    {
     "name": "stdout",
     "output_type": "stream",
     "text": [
      "20628\n"
     ]
    }
   ],
   "source": [
    "count_Y = (LNPost['pay_period'] == 'YEARLY').sum()\n",
    "\n",
    "print(count_Y)"
   ]
  },
  {
   "cell_type": "code",
   "execution_count": 22,
   "id": "2dccd509-6f97-417d-9a7c-55eb79c623c3",
   "metadata": {},
   "outputs": [
    {
     "name": "stdout",
     "output_type": "stream",
     "text": [
      "14741\n"
     ]
    }
   ],
   "source": [
    "count_H = (LNPost['pay_period'] == 'HOURLY').sum()\n",
    "\n",
    "print(count_H)"
   ]
  },
  {
   "cell_type": "code",
   "execution_count": 23,
   "id": "bbb05edb-a15d-498e-ba7a-ec6ada7e2a82",
   "metadata": {},
   "outputs": [
    {
     "name": "stdout",
     "output_type": "stream",
     "text": [
      "            job_id            company_name  \\\n",
      "2         10998357  The National Exemplar    \n",
      "3         23221523  Abrams Fensterman, LLP   \n",
      "4         35982263                     NaN   \n",
      "6        103254301              Raw Cereal   \n",
      "7        112576855                     NaN   \n",
      "...            ...                     ...   \n",
      "123834  3906265332            Lozano Smith   \n",
      "123836  3906265349            Lozano Smith   \n",
      "123839  3906266165       Athena Recruiting   \n",
      "123844  3906267117            Lozano Smith   \n",
      "123848  3906267224               Solugenix   \n",
      "\n",
      "                                                    title  \\\n",
      "2                             Assitant Restaurant Manager   \n",
      "3       Senior Elder Law / Trusts and Estates Associat...   \n",
      "4                                      Service Technician   \n",
      "6                                                Producer   \n",
      "7                                       Building Engineer   \n",
      "...                                                   ...   \n",
      "123834                         Litigation Legal Secretary   \n",
      "123836                        Labor & Employment Attorney   \n",
      "123839                             Catering Event Manager   \n",
      "123844                   Title IX/Investigations Attorney   \n",
      "123848                  Marketing Social Media Specialist   \n",
      "\n",
      "                                              description  max_salary  \\\n",
      "2       The National Exemplar is accepting application...     65000.0   \n",
      "3       Senior Associate Attorney - Elder Law / Trusts...    175000.0   \n",
      "4       Looking for HVAC service tech with experience ...     80000.0   \n",
      "6       Company DescriptionRaw Cereal is a creative de...    300000.0   \n",
      "7       Summary: Due to the pending retirement of our ...    120000.0   \n",
      "...                                                   ...         ...   \n",
      "123834  We currently have an opening in our Sacramento...     90000.0   \n",
      "123836  Lozano Smith’s Fresno office is seeking a tale...    195000.0   \n",
      "123839  This role handles all the onsite catering and ...     65000.0   \n",
      "123844  Our Walnut Creek office is currently seeking a...    195000.0   \n",
      "123848  Marketing Social Media Specialist - $70k – $75...     75000.0   \n",
      "\n",
      "       pay_period                 location  company_id  views  med_salary  \\\n",
      "2          YEARLY           Cincinnati, OH  64896719.0    8.0         NaN   \n",
      "3          YEARLY        New Hyde Park, NY    766262.0   16.0         NaN   \n",
      "4          YEARLY           Burlington, IA         NaN    3.0         NaN   \n",
      "6          YEARLY            United States  81942316.0    7.0         NaN   \n",
      "7          YEARLY        San Francisco, CA         NaN    2.0         NaN   \n",
      "...           ...                      ...         ...    ...         ...   \n",
      "123834     YEARLY           Sacramento, CA     56120.0    2.0         NaN   \n",
      "123836     YEARLY        Fresno County, CA     56120.0    1.0         NaN   \n",
      "123839     YEARLY     Greater Indianapolis   3056329.0    3.0         NaN   \n",
      "123844     YEARLY         Walnut Creek, CA     56120.0    1.0         NaN   \n",
      "123848     YEARLY  San Juan Capistrano, CA     43325.0    2.0         NaN   \n",
      "\n",
      "        ...                                        skills_desc   listed_time  \\\n",
      "2       ...  We are currently accepting resumes for FOH - A...  1.713278e+12   \n",
      "3       ...  This position requires a baseline understandin...  1.712896e+12   \n",
      "4       ...                                                NaN  1.713452e+12   \n",
      "6       ...                                                NaN  1.712861e+12   \n",
      "7       ...                                                NaN  1.712443e+12   \n",
      "...     ...                                                ...           ...   \n",
      "123834  ...                                                NaN  1.713572e+12   \n",
      "123836  ...                                                NaN  1.713573e+12   \n",
      "123839  ...                                                NaN  1.713571e+12   \n",
      "123844  ...                                                NaN  1.713571e+12   \n",
      "123848  ...                                                NaN  1.713573e+12   \n",
      "\n",
      "        posting_domain  sponsored  work_type currency compensation_type  \\\n",
      "2                  NaN          0  FULL_TIME      USD       BASE_SALARY   \n",
      "3                  NaN          0  FULL_TIME      USD       BASE_SALARY   \n",
      "4                  NaN          0  FULL_TIME      USD       BASE_SALARY   \n",
      "6                  NaN          0   CONTRACT      USD       BASE_SALARY   \n",
      "7                  NaN          0  FULL_TIME      USD       BASE_SALARY   \n",
      "...                ...        ...        ...      ...               ...   \n",
      "123834             NaN          0  FULL_TIME      USD       BASE_SALARY   \n",
      "123836             NaN          0  FULL_TIME      USD       BASE_SALARY   \n",
      "123839             NaN          0  PART_TIME      USD       BASE_SALARY   \n",
      "123844             NaN          0  FULL_TIME      USD       BASE_SALARY   \n",
      "123848             NaN          0  FULL_TIME      USD       BASE_SALARY   \n",
      "\n",
      "       normalized_salary  zip_code     fips  \n",
      "2                55000.0   45202.0  39061.0  \n",
      "3               157500.0   11040.0  36059.0  \n",
      "4                70000.0   52601.0  19057.0  \n",
      "6               180000.0       NaN      NaN  \n",
      "7               105000.0   94101.0   6075.0  \n",
      "...                  ...       ...      ...  \n",
      "123834           67500.0   95811.0   6067.0  \n",
      "123836          157500.0   93650.0   6019.0  \n",
      "123839           57500.0       NaN      NaN  \n",
      "123844          157500.0   94595.0   6013.0  \n",
      "123848           72500.0   92675.0   6059.0  \n",
      "\n",
      "[20628 rows x 31 columns]\n"
     ]
    }
   ],
   "source": [
    "filtered_pay = LNPost[LNPost['pay_period'] == 'YEARLY']\n",
    "\n",
    "print(filtered_pay)"
   ]
  },
  {
   "cell_type": "code",
   "execution_count": 24,
   "id": "d28f3630-8147-484e-9a10-bdfdba39da83",
   "metadata": {},
   "outputs": [
    {
     "name": "stdout",
     "output_type": "stream",
     "text": [
      "                                                    title  max_salary  \\\n",
      "0                                   Marketing Coordinator        20.0   \n",
      "1                       Mental Health Therapist/Counselor        50.0   \n",
      "2                             Assitant Restaurant Manager     65000.0   \n",
      "3       Senior Elder Law / Trusts and Estates Associat...    175000.0   \n",
      "4                                      Service Technician     80000.0   \n",
      "...                                                   ...         ...   \n",
      "123844                   Title IX/Investigations Attorney    195000.0   \n",
      "123845       Staff Software Engineer, ML Serving Platform         NaN   \n",
      "123846               Account Executive, Oregon/Washington         NaN   \n",
      "123847                       Business Development Manager         NaN   \n",
      "123848                  Marketing Social Media Specialist     75000.0   \n",
      "\n",
      "       pay_period  med_salary  min_salary  remote_allowed  normalized_salary  \\\n",
      "0          HOURLY         NaN        17.0             NaN            38480.0   \n",
      "1          HOURLY         NaN        30.0             NaN            83200.0   \n",
      "2          YEARLY         NaN     45000.0             NaN            55000.0   \n",
      "3          YEARLY         NaN    140000.0             NaN           157500.0   \n",
      "4          YEARLY         NaN     60000.0             NaN            70000.0   \n",
      "...           ...         ...         ...             ...                ...   \n",
      "123844     YEARLY         NaN    120000.0             NaN           157500.0   \n",
      "123845        NaN         NaN         NaN             1.0                NaN   \n",
      "123846        NaN         NaN         NaN             1.0                NaN   \n",
      "123847        NaN         NaN         NaN             1.0                NaN   \n",
      "123848     YEARLY         NaN     70000.0             NaN            72500.0   \n",
      "\n",
      "        work_type  \n",
      "0       FULL_TIME  \n",
      "1       FULL_TIME  \n",
      "2       FULL_TIME  \n",
      "3       FULL_TIME  \n",
      "4       FULL_TIME  \n",
      "...           ...  \n",
      "123844  FULL_TIME  \n",
      "123845  FULL_TIME  \n",
      "123846  FULL_TIME  \n",
      "123847  FULL_TIME  \n",
      "123848  FULL_TIME  \n",
      "\n",
      "[123849 rows x 8 columns]\n"
     ]
    }
   ],
   "source": [
    "selected_columns = LNPost[['title','max_salary','pay_period','med_salary',\n",
    "       'min_salary', 'remote_allowed', 'normalized_salary','work_type']]\n",
    "\n",
    "print(selected_columns)"
   ]
  },
  {
   "cell_type": "code",
   "execution_count": 25,
   "id": "84533ca5-9f36-4e69-bff9-6b944c06f2ca",
   "metadata": {},
   "outputs": [
    {
     "name": "stdout",
     "output_type": "stream",
     "text": [
      "            job_id                                       company_name  \\\n",
      "0           921716                              Corcoran Sawyer Smith   \n",
      "99      2974397965                                       Lynx Systems   \n",
      "297     3758935273                            Riverbend Sandler Pools   \n",
      "3926    3884861115                                     The Contingent   \n",
      "4417    3884913980                             Wolf Line Construction   \n",
      "5908    3885105454             ROOT3 Marketing & Business Development   \n",
      "9350    3886482407                                   Provisions Group   \n",
      "11181   3887480628                                        Vertisystem   \n",
      "18161   3888814699                                  Morgan Properties   \n",
      "21432   3889435590                  JTI (Japan Tobacco International)   \n",
      "23760   3889783231                        Millennium Recruiting, Inc.   \n",
      "39112   3898163544                                     WTA Architects   \n",
      "41667   3899526254                                     MFM Search LLC   \n",
      "42852   3899545007                            Olympia Pharmaceuticals   \n",
      "46485   3900966328                                       Redapt, Inc.   \n",
      "46816   3900978867                                   Coco Republic US   \n",
      "49138   3901353091                                UJAMAA Construction   \n",
      "51242   3901385999                                  Ultimate Staffing   \n",
      "56122   3901938274                                           HardHead   \n",
      "56143   3901938332                                         MacuHealth   \n",
      "56378   3901939365                                 Broad River Retail   \n",
      "58092   3901947472          Burnett Specialists Staffing | Recruiting   \n",
      "59965   3901966331                                      Syndicatebleu   \n",
      "60324   3901978632                                       Aegis Living   \n",
      "69881   3902830408                           Abel + Schafer | Komplet   \n",
      "73279   3902923601                                    LUXE Properties   \n",
      "73434   3902930389                                          SurgiShop   \n",
      "78778   3903816932                                      QPharma, Inc.   \n",
      "86962   3904387476                                    RAYUS Radiology   \n",
      "87280   3904388771                           Ensemble Health Partners   \n",
      "91021   3904432487                                         Citizendum   \n",
      "95964   3904940543  Berkshire Hathaway HomeServices Fox & Roach, R...   \n",
      "97006   3904953790                                  Ultimate Staffing   \n",
      "103305  3905290960                          Lucky Lincoln Gaming, LLC   \n",
      "103527  3905293213                               BlackDog Advertising   \n",
      "103802  3905295239                          Lucky Lincoln Gaming, LLC   \n",
      "103988  3905296344                          Lucky Lincoln Gaming, LLC   \n",
      "114321  3905824960                        Millennium Recruiting, Inc.   \n",
      "114407  3905827258                        Millennium Recruiting, Inc.   \n",
      "114567  3905830747                        Millennium Recruiting, Inc.   \n",
      "114783  3905835580                        Millennium Recruiting, Inc.   \n",
      "116049  3905861867                                                NaN   \n",
      "116053  3905861954                             Clearwater Free Clinic   \n",
      "116528  3905870609                        Millennium Recruiting, Inc.   \n",
      "116560  3905871106                        Millennium Recruiting, Inc.   \n",
      "116687  3905873194                                       MAC Partners   \n",
      "116783  3905874344                        Millennium Recruiting, Inc.   \n",
      "117519  3905890367                        Millennium Recruiting, Inc.   \n",
      "118180  3906091856                              Merlin Entertainments   \n",
      "118298  3906093541                             Barnum Financial Group   \n",
      "118848  3906202058                                      613 Originals   \n",
      "\n",
      "                        title  \\\n",
      "0       Marketing Coordinator   \n",
      "99      Marketing Coordinator   \n",
      "297     Marketing Coordinator   \n",
      "3926    Marketing Coordinator   \n",
      "4417    Marketing Coordinator   \n",
      "5908    Marketing Coordinator   \n",
      "9350    Marketing Coordinator   \n",
      "11181   Marketing Coordinator   \n",
      "18161   Marketing Coordinator   \n",
      "21432   Marketing Coordinator   \n",
      "23760   Marketing Coordinator   \n",
      "39112   Marketing Coordinator   \n",
      "41667   Marketing Coordinator   \n",
      "42852   Marketing Coordinator   \n",
      "46485   Marketing Coordinator   \n",
      "46816   Marketing Coordinator   \n",
      "49138   Marketing Coordinator   \n",
      "51242   Marketing Coordinator   \n",
      "56122   Marketing Coordinator   \n",
      "56143   Marketing Coordinator   \n",
      "56378   Marketing Coordinator   \n",
      "58092   Marketing Coordinator   \n",
      "59965   Marketing Coordinator   \n",
      "60324   Marketing Coordinator   \n",
      "69881   Marketing Coordinator   \n",
      "73279   Marketing Coordinator   \n",
      "73434   Marketing Coordinator   \n",
      "78778   Marketing Coordinator   \n",
      "86962   Marketing Coordinator   \n",
      "87280   Marketing Coordinator   \n",
      "91021   Marketing Coordinator   \n",
      "95964   Marketing Coordinator   \n",
      "97006   Marketing Coordinator   \n",
      "103305  Marketing Coordinator   \n",
      "103527  Marketing Coordinator   \n",
      "103802  Marketing Coordinator   \n",
      "103988  Marketing Coordinator   \n",
      "114321  Marketing Coordinator   \n",
      "114407  Marketing Coordinator   \n",
      "114567  Marketing Coordinator   \n",
      "114783  Marketing Coordinator   \n",
      "116049  Marketing Coordinator   \n",
      "116053  Marketing Coordinator   \n",
      "116528  Marketing Coordinator   \n",
      "116560  Marketing Coordinator   \n",
      "116687  Marketing Coordinator   \n",
      "116783  Marketing Coordinator   \n",
      "117519  Marketing Coordinator   \n",
      "118180  Marketing Coordinator   \n",
      "118298  Marketing Coordinator   \n",
      "118848  Marketing Coordinator   \n",
      "\n",
      "                                              description  max_salary  \\\n",
      "0       Job descriptionA leading real estate firm in N...       20.00   \n",
      "99      Micro Technology Services Inc. is a leading pr...    85000.00   \n",
      "297     \\nWe are seeking a dynamic detail-oriented Mar...         NaN   \n",
      "3926    Opportunity Summary: Looking for a creative ma...    50000.00   \n",
      "4417    Marketing CoordinatorWolf Line Construction is...         NaN   \n",
      "5908    Job descriptionThe Digital Marketing Coordinat...         NaN   \n",
      "9350    Marketing CoordinatorThe Opportunity: Are you ...         NaN   \n",
      "11181   Duration: 3 months contractPay rate: $38/hr on...         NaN   \n",
      "18161   Get To Know Us: Established in 1985 by Mitchel...    55000.00   \n",
      "21432   We’re JTI, Japan Tobacco International and we ...         NaN   \n",
      "23760   We are one of North America's fastest growing ...         NaN   \n",
      "39112   MARKETING & COMMUNICATION PROFESSIONAL WTA Arc...         NaN   \n",
      "41667   Generally, this person will assist the current...    75000.00   \n",
      "42852   General PurposeThe Marketing Department is res...    65000.00   \n",
      "46485   *Our office is located in Woodinville, WA in t...    60000.00   \n",
      "46816   We are one of Australia's leading furniture an...         NaN   \n",
      "49138   UJAMAA Construction is a diversity-focused, mi...    55000.00   \n",
      "51242   Marketing Coordinator Duration - 6 MonthsLocat...       31.02   \n",
      "56122   IN PERSON INTERVIEWS ONLY - LOCATION: MIAMI, F...    54000.00   \n",
      "56143   Position Overview:As a Marketing Coordinator a...         NaN   \n",
      "56378   Primary Responsibilities:Supporting the Senior...    48000.00   \n",
      "58092   We are recruiting for a Commercial Real Estate...         NaN   \n",
      "59965   We are seeking a skilled Marketing Coordinator...         NaN   \n",
      "60324   The Marketing Coordinator role will the suppor...       28.00   \n",
      "69881   For almost 130 years, Abel & Schafer has been ...         NaN   \n",
      "73279   The ideal candidate will assist in all areas o...       25.00   \n",
      "73434   SurgiShop:SurgiShop focuses on pioneering qual...    75000.00   \n",
      "78778   The ideal candidate will help with digital mar...         NaN   \n",
      "86962   Job Summary\\n\\nRAYUS Radiology, formerly Cente...         NaN   \n",
      "87280   Thank you for considering a career at Ensemble...         NaN   \n",
      "91021   Marketing CoordinatorPosition Overview: As a M...    41000.00   \n",
      "95964   Summary:Berkshire Hathaway HomeServices Fox & ...         NaN   \n",
      "97006   Marketing Coordinator Duration - 6 MonthsLocat...       31.67   \n",
      "103305  OVERVIEW:\\nLucky Lincoln Gaming is hiring a Ma...    60000.00   \n",
      "103527  BlackDog Advertising is looking for a Marketin...    45000.00   \n",
      "103802  OVERVIEW:\\nLucky Lincoln Gaming is hiring a Ma...    60000.00   \n",
      "103988  OVERVIEW:\\nLucky Lincoln Gaming is hiring a Ma...    60000.00   \n",
      "114321  We are one of North America's fastest growing ...         NaN   \n",
      "114407  We are one of North America's fastest growing ...         NaN   \n",
      "114567  We are are one of North America's fastest grow...         NaN   \n",
      "114783  We are one of North America's fastest growing ...         NaN   \n",
      "116049  We are seeking a highly motivated and skilled ...    65000.00   \n",
      "116053  About usSince 1977, the Clearwater Free Clinic...    42435.00   \n",
      "116528  We are one of North America's fastest growing ...         NaN   \n",
      "116560  We are one of North America's fastest growing ...         NaN   \n",
      "116687  Fast-Track Your Career Growth at MAC Partners!...         NaN   \n",
      "116783  We are one of North America's fastest growing ...         NaN   \n",
      "117519  IMMEDIATE HIRE *THIS ROLE IS NOT REMOTE*\\nOUR ...         NaN   \n",
      "118180  Main Responsibilities\\n\\nLead and manage socia...       21.00   \n",
      "118298  Do you thrive in a fast-paced environment wher...         NaN   \n",
      "118848  Who we are613 Originals is an industry-leading...         NaN   \n",
      "\n",
      "       pay_period                         location   company_id  views  \\\n",
      "0          HOURLY                    Princeton, NJ    2774458.0   20.0   \n",
      "99         YEARLY                   Richardson, TX    6556800.0    3.0   \n",
      "297           NaN                    Southlake, TX     903687.0    4.0   \n",
      "3926       YEARLY                 Indianapolis, IN   64263310.0    4.0   \n",
      "4417          NaN             North Charleston, SC   25053600.0   15.0   \n",
      "5908          NaN                      Chicago, IL    3680938.0    NaN   \n",
      "9350          NaN      Nashville Metropolitan Area     965474.0   13.0   \n",
      "11181         NaN                     New York, NY    3009879.0   31.0   \n",
      "18161      YEARLY                 Conshohocken, PA      44795.0   49.0   \n",
      "21432         NaN                      Raleigh, NC       4827.0    5.0   \n",
      "23760         NaN                        Tampa, FL   10425374.0    6.0   \n",
      "39112         NaN                      Saginaw, MI    5221457.0   29.0   \n",
      "41667      YEARLY                        Tampa, FL   35607160.0   64.0   \n",
      "42852      YEARLY                      Orlando, FL   15632239.0   33.0   \n",
      "46485      YEARLY             Greater Seattle Area      77133.0   16.0   \n",
      "46816         NaN                  Los Angeles, CA   86113138.0  143.0   \n",
      "49138      YEARLY        Atlanta Metropolitan Area    1331578.0    3.0   \n",
      "51242      HOURLY                Newport Beach, CA       7260.0    6.0   \n",
      "56122      YEARLY                        Miami, FL  100538581.0    3.0   \n",
      "56143         NaN             Bloomfield Hills, MI    2347830.0    1.0   \n",
      "56378      YEARLY                    Fort Mill, SC    2151102.0    4.0   \n",
      "58092         NaN                       Austin, TX      29104.0    1.0   \n",
      "59965         NaN                  Los Angeles, CA      77831.0    2.0   \n",
      "60324      HOURLY                    Newcastle, WA      43707.0    1.0   \n",
      "69881         NaN  New York City Metropolitan Area    2296781.0    3.0   \n",
      "73279      HOURLY                        Miami, FL    3611959.0    6.0   \n",
      "73434      YEARLY                         Lutz, FL   18837764.0   25.0   \n",
      "78778         NaN                   Morristown, NJ     543022.0    5.0   \n",
      "86962         NaN                St Louis Park, MN   74491056.0   38.0   \n",
      "87280         NaN                    United States    5307136.0  311.0   \n",
      "91021      YEARLY              Fort Lauderdale, FL   91530215.0   20.0   \n",
      "95964         NaN                    Haverford, PA     165582.0   14.0   \n",
      "97006      HOURLY                Newport Beach, CA       7260.0   56.0   \n",
      "103305     YEARLY               McHenry County, IL   16193637.0    NaN   \n",
      "103527     YEARLY                    United States    1209846.0   20.0   \n",
      "103802     YEARLY                       Aurora, IL   16193637.0    2.0   \n",
      "103988     YEARLY                       Aurora, IL   16193637.0    2.0   \n",
      "114321        NaN                       Boston, MA   10425374.0    2.0   \n",
      "114407        NaN                        Tampa, FL   10425374.0    2.0   \n",
      "114567        NaN      Dallas-Fort Worth Metroplex   10425374.0    2.0   \n",
      "114783        NaN               Virginia Beach, VA   10425374.0    4.0   \n",
      "116049     YEARLY   Grand Rapids Metropolitan Area          NaN    NaN   \n",
      "116053     YEARLY                   Clearwater, FL    2489833.0    1.0   \n",
      "116528        NaN                     Pasadena, CA   10425374.0    2.0   \n",
      "116560        NaN                        Miami, FL   10425374.0    3.0   \n",
      "116687        NaN                       Dallas, TX   75589548.0    2.0   \n",
      "116783        NaN                   Pittsburgh, PA   10425374.0    NaN   \n",
      "117519        NaN                     Savannah, GA   10425374.0    1.0   \n",
      "118180     HOURLY         North Richland Hills, TX     261456.0    5.0   \n",
      "118298        NaN                      Shelton, CT   10851139.0   24.0   \n",
      "118848        NaN                       Mahwah, NJ   33216154.0    8.0   \n",
      "\n",
      "        med_salary  ...                                        skills_desc  \\\n",
      "0              NaN  ...  Requirements: \\n\\nWe are seeking a College or ...   \n",
      "99             NaN  ...                                                NaN   \n",
      "297            NaN  ...                                                NaN   \n",
      "3926           NaN  ...                                                NaN   \n",
      "4417           NaN  ...                                                NaN   \n",
      "5908           NaN  ...                                                NaN   \n",
      "9350           NaN  ...                                                NaN   \n",
      "11181          NaN  ...                                                NaN   \n",
      "18161          NaN  ...                                                NaN   \n",
      "21432          NaN  ...                                                NaN   \n",
      "23760          NaN  ...                                                NaN   \n",
      "39112          NaN  ...                                                NaN   \n",
      "41667          NaN  ...                                                NaN   \n",
      "42852          NaN  ...                                                NaN   \n",
      "46485          NaN  ...                                                NaN   \n",
      "46816          NaN  ...                                                NaN   \n",
      "49138          NaN  ...                                                NaN   \n",
      "51242          NaN  ...                                                NaN   \n",
      "56122          NaN  ...                                                NaN   \n",
      "56143          NaN  ...                                                NaN   \n",
      "56378          NaN  ...                                                NaN   \n",
      "58092          NaN  ...                                                NaN   \n",
      "59965          NaN  ...                                                NaN   \n",
      "60324          NaN  ...                                                NaN   \n",
      "69881          NaN  ...                                                NaN   \n",
      "73279          NaN  ...                                                NaN   \n",
      "73434          NaN  ...                                                NaN   \n",
      "78778          NaN  ...                                                NaN   \n",
      "86962          NaN  ...                                                NaN   \n",
      "87280          NaN  ...                                                NaN   \n",
      "91021          NaN  ...                                                NaN   \n",
      "95964          NaN  ...                                                NaN   \n",
      "97006          NaN  ...                                                NaN   \n",
      "103305         NaN  ...                                                NaN   \n",
      "103527         NaN  ...                                                NaN   \n",
      "103802         NaN  ...                                                NaN   \n",
      "103988         NaN  ...                                                NaN   \n",
      "114321         NaN  ...                                                NaN   \n",
      "114407         NaN  ...                                                NaN   \n",
      "114567         NaN  ...                                                NaN   \n",
      "114783         NaN  ...                                                NaN   \n",
      "116049         NaN  ...                                                NaN   \n",
      "116053         NaN  ...                                                NaN   \n",
      "116528         NaN  ...                                                NaN   \n",
      "116560         NaN  ...                                                NaN   \n",
      "116687         NaN  ...                                                NaN   \n",
      "116783         NaN  ...                                                NaN   \n",
      "117519         NaN  ...                                                NaN   \n",
      "118180         NaN  ...                                                NaN   \n",
      "118298         NaN  ...                                                NaN   \n",
      "118848         NaN  ...                                                NaN   \n",
      "\n",
      "         listed_time                                   posting_domain  \\\n",
      "0       1.713398e+12                                              NaN   \n",
      "99      1.713472e+12                                              NaN   \n",
      "297     1.713459e+12                                              NaN   \n",
      "3926    1.712382e+12                                              NaN   \n",
      "4417    1.712347e+12                                              NaN   \n",
      "5908    1.712403e+12                                              NaN   \n",
      "9350    1.712639e+12                                              NaN   \n",
      "11181   1.712347e+12                                              NaN   \n",
      "18161   1.712668e+12                                              NaN   \n",
      "21432   1.712656e+12                                     jobs.jti.com   \n",
      "23760   1.712670e+12                                              NaN   \n",
      "39112   1.713212e+12                                              NaN   \n",
      "41667   1.713278e+12                                              NaN   \n",
      "42852   1.713281e+12                                              NaN   \n",
      "46485   1.713394e+12                                              NaN   \n",
      "46816   1.713406e+12                                              NaN   \n",
      "49138   1.713452e+12                                              NaN   \n",
      "51242   1.713460e+12                                              NaN   \n",
      "56122   1.713467e+12                                              NaN   \n",
      "56143   1.713468e+12                                              NaN   \n",
      "56378   1.713469e+12                                              NaN   \n",
      "58092   1.713474e+12                                              NaN   \n",
      "59965   1.713479e+12                                              NaN   \n",
      "60324   1.713486e+12                                              NaN   \n",
      "69881   1.713553e+12                                              NaN   \n",
      "73279   1.713278e+12                                              NaN   \n",
      "73434   1.713279e+12                                              NaN   \n",
      "78778   1.713473e+12                                              NaN   \n",
      "86962   1.713393e+12                               recruiting.adp.com   \n",
      "87280   1.713395e+12                 ensemblehp.wd5.myworkdayjobs.com   \n",
      "91021   1.713409e+12                                              NaN   \n",
      "95964   1.713452e+12                                              NaN   \n",
      "97006   1.713454e+12                                              NaN   \n",
      "103305  1.713473e+12                                              NaN   \n",
      "103527  1.713475e+12                                              NaN   \n",
      "103802  1.713473e+12                                              NaN   \n",
      "103988  1.713474e+12                                              NaN   \n",
      "114321  1.713530e+12                                              NaN   \n",
      "114407  1.713530e+12                                              NaN   \n",
      "114567  1.713531e+12                                              NaN   \n",
      "114783  1.713533e+12                                              NaN   \n",
      "116049  1.713538e+12                                              NaN   \n",
      "116053  1.713538e+12                                              NaN   \n",
      "116528  1.713539e+12                                              NaN   \n",
      "116560  1.713538e+12                                              NaN   \n",
      "116687  1.713538e+12                                              NaN   \n",
      "116783  1.713539e+12                                              NaN   \n",
      "117519  1.713541e+12                                              NaN   \n",
      "118180  1.713554e+12  hourlycareers-na-merlinentertainments.icims.com   \n",
      "118298  1.713552e+12                                              NaN   \n",
      "118848  1.713556e+12                                              NaN   \n",
      "\n",
      "        sponsored  work_type currency compensation_type normalized_salary  \\\n",
      "0               0  FULL_TIME      USD       BASE_SALARY           38480.0   \n",
      "99              0  FULL_TIME      USD       BASE_SALARY           80000.0   \n",
      "297             0  FULL_TIME      NaN               NaN               NaN   \n",
      "3926            0  FULL_TIME      USD       BASE_SALARY           46500.0   \n",
      "4417            0  FULL_TIME      NaN               NaN               NaN   \n",
      "5908            0  FULL_TIME      NaN               NaN               NaN   \n",
      "9350            0  FULL_TIME      NaN               NaN               NaN   \n",
      "11181           0   CONTRACT      NaN               NaN               NaN   \n",
      "18161           0  FULL_TIME      USD       BASE_SALARY           52500.0   \n",
      "21432           0  FULL_TIME      NaN               NaN               NaN   \n",
      "23760           0  FULL_TIME      NaN               NaN               NaN   \n",
      "39112           0  FULL_TIME      NaN               NaN               NaN   \n",
      "41667           0  FULL_TIME      USD       BASE_SALARY           72500.0   \n",
      "42852           0  FULL_TIME      USD       BASE_SALARY           55000.0   \n",
      "46485           0  FULL_TIME      USD       BASE_SALARY           57500.0   \n",
      "46816           0   CONTRACT      NaN               NaN               NaN   \n",
      "49138           0  FULL_TIME      USD       BASE_SALARY           50000.0   \n",
      "51242           0   CONTRACT      USD       BASE_SALARY           60340.8   \n",
      "56122           0  FULL_TIME      USD       BASE_SALARY           51000.0   \n",
      "56143           0  FULL_TIME      NaN               NaN               NaN   \n",
      "56378           0  FULL_TIME      USD       BASE_SALARY           45500.0   \n",
      "58092           0  FULL_TIME      NaN               NaN               NaN   \n",
      "59965           0  TEMPORARY      NaN               NaN               NaN   \n",
      "60324           0  FULL_TIME      USD       BASE_SALARY           55120.0   \n",
      "69881           0  FULL_TIME      NaN               NaN               NaN   \n",
      "73279           0  FULL_TIME      USD       BASE_SALARY           46800.0   \n",
      "73434           0  FULL_TIME      USD       BASE_SALARY           65000.0   \n",
      "78778           0  FULL_TIME      NaN               NaN               NaN   \n",
      "86962           0  FULL_TIME      NaN               NaN               NaN   \n",
      "87280           0  FULL_TIME      NaN               NaN               NaN   \n",
      "91021           0  FULL_TIME      USD       BASE_SALARY           40000.0   \n",
      "95964           0  FULL_TIME      NaN               NaN               NaN   \n",
      "97006           0   CONTRACT      USD       BASE_SALARY           61016.8   \n",
      "103305          0  FULL_TIME      USD       BASE_SALARY           55000.0   \n",
      "103527          0  FULL_TIME      USD       BASE_SALARY           40000.0   \n",
      "103802          0  FULL_TIME      USD       BASE_SALARY           55000.0   \n",
      "103988          0  FULL_TIME      USD       BASE_SALARY           55000.0   \n",
      "114321          0  FULL_TIME      NaN               NaN               NaN   \n",
      "114407          0  FULL_TIME      NaN               NaN               NaN   \n",
      "114567          0  FULL_TIME      NaN               NaN               NaN   \n",
      "114783          0  FULL_TIME      NaN               NaN               NaN   \n",
      "116049          0  FULL_TIME      USD       BASE_SALARY           55000.0   \n",
      "116053          0  FULL_TIME      USD       BASE_SALARY           40395.0   \n",
      "116528          0  FULL_TIME      NaN               NaN               NaN   \n",
      "116560          0  FULL_TIME      NaN               NaN               NaN   \n",
      "116687          0  FULL_TIME      NaN               NaN               NaN   \n",
      "116783          0  FULL_TIME      NaN               NaN               NaN   \n",
      "117519          0  FULL_TIME      NaN               NaN               NaN   \n",
      "118180          0  FULL_TIME      USD       BASE_SALARY           42640.0   \n",
      "118298          0  FULL_TIME      NaN               NaN               NaN   \n",
      "118848          0  FULL_TIME      NaN               NaN               NaN   \n",
      "\n",
      "        zip_code     fips  \n",
      "0         8540.0  34021.0  \n",
      "99       75080.0  48113.0  \n",
      "297      76092.0  48439.0  \n",
      "3926     46201.0  18097.0  \n",
      "4417     29405.0  45019.0  \n",
      "5908     60601.0  17031.0  \n",
      "9350         NaN      NaN  \n",
      "11181    10001.0  36061.0  \n",
      "18161    19428.0  42091.0  \n",
      "21432    27601.0  37183.0  \n",
      "23760    33602.0  12057.0  \n",
      "39112    48601.0  26145.0  \n",
      "41667    33602.0  12057.0  \n",
      "42852    32801.0  12095.0  \n",
      "46485        NaN      NaN  \n",
      "46816    90001.0   6037.0  \n",
      "49138        NaN      NaN  \n",
      "51242    92660.0   6059.0  \n",
      "56122    33122.0  12025.0  \n",
      "56143    48301.0  26147.0  \n",
      "56378    29707.0      NaN  \n",
      "58092    78701.0  48453.0  \n",
      "59965    90001.0   6037.0  \n",
      "60324        NaN      NaN  \n",
      "69881        NaN      NaN  \n",
      "73279    33122.0  12025.0  \n",
      "73434    33548.0      NaN  \n",
      "78778     7960.0  34027.0  \n",
      "86962    56357.0  27009.0  \n",
      "87280        NaN      NaN  \n",
      "91021    33301.0  12011.0  \n",
      "95964    19041.0  42045.0  \n",
      "97006    92660.0   6059.0  \n",
      "103305   61537.0  17123.0  \n",
      "103527       NaN      NaN  \n",
      "103802   60502.0      NaN  \n",
      "103988   60502.0      NaN  \n",
      "114321    2108.0  25025.0  \n",
      "114407   33602.0  12057.0  \n",
      "114567       NaN      NaN  \n",
      "114783   23451.0  51810.0  \n",
      "116049       NaN      NaN  \n",
      "116053   33755.0      NaN  \n",
      "116528   91101.0   6037.0  \n",
      "116560   33122.0  12025.0  \n",
      "116687   75201.0  48113.0  \n",
      "116783   15201.0  42003.0  \n",
      "117519   31401.0  13051.0  \n",
      "118180   76180.0  48439.0  \n",
      "118298    6484.0   9001.0  \n",
      "118848    7430.0  34003.0  \n",
      "\n",
      "[51 rows x 31 columns]\n"
     ]
    }
   ],
   "source": [
    "filtered_title = LNPost[LNPost['title'] == 'Marketing Coordinator']\n",
    "\n",
    "print(filtered_title)"
   ]
  },
  {
   "cell_type": "code",
   "execution_count": 26,
   "id": "7f60d383-9a20-4510-94d1-31e783e0ccc7",
   "metadata": {},
   "outputs": [
    {
     "name": "stdout",
     "output_type": "stream",
     "text": [
      "Index([     0,     99,    297,   3926,   4417,   5908,   9350,  11181,  18161,\n",
      "        21432,  23760,  39112,  41667,  42852,  46485,  46816,  49138,  51242,\n",
      "        56122,  56143,  56378,  58092,  59965,  60324,  69881,  73279,  73434,\n",
      "        78778,  86962,  87280,  91021,  95964,  97006, 103305, 103527, 103802,\n",
      "       103988, 114321, 114407, 114567, 114783, 116049, 116053, 116528, 116560,\n",
      "       116687, 116783, 117519, 118180, 118298, 118848],\n",
      "      dtype='int64')\n"
     ]
    }
   ],
   "source": [
    "row_index = LNPost[LNPost['title'] == 'Marketing Coordinator'].index\n",
    "\n",
    "print(row_index)"
   ]
  },
  {
   "cell_type": "markdown",
   "id": "bce80e0a-5f0b-43bf-a78c-488e167f51e2",
   "metadata": {},
   "source": [
    "##marketing_row = LNPost.iloc[     0,     99,    297, ['max_salary','pay_period','med_salary',\n",
    "       'min_salary', 'remote_allowed', 'normalized_salary','work_type'] ]\n",
    "\n",
    "##print(marketing_row)"
   ]
  },
  {
   "cell_type": "markdown",
   "id": "41ed60e7-4472-4a03-8663-f3baab1f7032",
   "metadata": {},
   "source": [
    "##LNPost = LNPost.drop(['description',\n",
    "        'location', 'company_id', 'views', \n",
    "      'formatted_work_type', 'applies', 'original_listed_time',\n",
    "        'job_posting_url', 'application_url',\n",
    "       'application_type', 'expiry', 'closed_time',\n",
    "       'formatted_experience_level', 'listed_time',\n",
    "       'posting_domain', 'sponsored',  'currency',\n",
    "       'compensation_type', 'zip_code', 'fips'], 'company_name', 'job_id'\n",
    "        axis = 1) \n",
    "\n",
    "##print (LNPost.head())\t\t\t\t\t\t\t\t\t\t\t\t\t\t\t\t\t"
   ]
  },
  {
   "cell_type": "code",
   "execution_count": 68,
   "id": "51e8eeb9-f8d9-4fe0-962f-b934b8cfc8f5",
   "metadata": {},
   "outputs": [
    {
     "ename": "KeyError",
     "evalue": "'FULL_TIME'",
     "output_type": "error",
     "traceback": [
      "\u001b[0;31m---------------------------------------------------------------------------\u001b[0m",
      "\u001b[0;31mKeyError\u001b[0m                                  Traceback (most recent call last)",
      "File \u001b[0;32m~/anaconda3/envs/indata_fa24/lib/python3.12/site-packages/pandas/core/indexes/base.py:3791\u001b[0m, in \u001b[0;36mIndex.get_loc\u001b[0;34m(self, key)\u001b[0m\n\u001b[1;32m   3790\u001b[0m \u001b[38;5;28;01mtry\u001b[39;00m:\n\u001b[0;32m-> 3791\u001b[0m     \u001b[38;5;28;01mreturn\u001b[39;00m \u001b[38;5;28;43mself\u001b[39;49m\u001b[38;5;241;43m.\u001b[39;49m\u001b[43m_engine\u001b[49m\u001b[38;5;241;43m.\u001b[39;49m\u001b[43mget_loc\u001b[49m\u001b[43m(\u001b[49m\u001b[43mcasted_key\u001b[49m\u001b[43m)\u001b[49m\n\u001b[1;32m   3792\u001b[0m \u001b[38;5;28;01mexcept\u001b[39;00m \u001b[38;5;167;01mKeyError\u001b[39;00m \u001b[38;5;28;01mas\u001b[39;00m err:\n",
      "File \u001b[0;32mindex.pyx:152\u001b[0m, in \u001b[0;36mpandas._libs.index.IndexEngine.get_loc\u001b[0;34m()\u001b[0m\n",
      "File \u001b[0;32mindex.pyx:181\u001b[0m, in \u001b[0;36mpandas._libs.index.IndexEngine.get_loc\u001b[0;34m()\u001b[0m\n",
      "File \u001b[0;32mpandas/_libs/hashtable_class_helper.pxi:7080\u001b[0m, in \u001b[0;36mpandas._libs.hashtable.PyObjectHashTable.get_item\u001b[0;34m()\u001b[0m\n",
      "File \u001b[0;32mpandas/_libs/hashtable_class_helper.pxi:7088\u001b[0m, in \u001b[0;36mpandas._libs.hashtable.PyObjectHashTable.get_item\u001b[0;34m()\u001b[0m\n",
      "\u001b[0;31mKeyError\u001b[0m: 'FULL_TIME'",
      "\nThe above exception was the direct cause of the following exception:\n",
      "\u001b[0;31mKeyError\u001b[0m                                  Traceback (most recent call last)",
      "Cell \u001b[0;32mIn[68], line 2\u001b[0m\n\u001b[1;32m      1\u001b[0m fig1, ax1 \u001b[38;5;241m=\u001b[39m plt\u001b[38;5;241m.\u001b[39msubplots()\n\u001b[0;32m----> 2\u001b[0m ax1\u001b[38;5;241m.\u001b[39mscatter(x \u001b[38;5;241m=\u001b[39m LNPost[\u001b[38;5;124m'\u001b[39m\u001b[38;5;124mnormalized_salary\u001b[39m\u001b[38;5;124m'\u001b[39m], y \u001b[38;5;241m=\u001b[39m \u001b[43mLNPost\u001b[49m\u001b[43m[\u001b[49m\u001b[38;5;124;43m'\u001b[39;49m\u001b[38;5;124;43mFULL_TIME\u001b[39;49m\u001b[38;5;124;43m'\u001b[39;49m\u001b[43m]\u001b[49m)\n\u001b[1;32m      4\u001b[0m plt\u001b[38;5;241m.\u001b[39mshow\n",
      "File \u001b[0;32m~/anaconda3/envs/indata_fa24/lib/python3.12/site-packages/pandas/core/frame.py:3893\u001b[0m, in \u001b[0;36mDataFrame.__getitem__\u001b[0;34m(self, key)\u001b[0m\n\u001b[1;32m   3891\u001b[0m \u001b[38;5;28;01mif\u001b[39;00m \u001b[38;5;28mself\u001b[39m\u001b[38;5;241m.\u001b[39mcolumns\u001b[38;5;241m.\u001b[39mnlevels \u001b[38;5;241m>\u001b[39m \u001b[38;5;241m1\u001b[39m:\n\u001b[1;32m   3892\u001b[0m     \u001b[38;5;28;01mreturn\u001b[39;00m \u001b[38;5;28mself\u001b[39m\u001b[38;5;241m.\u001b[39m_getitem_multilevel(key)\n\u001b[0;32m-> 3893\u001b[0m indexer \u001b[38;5;241m=\u001b[39m \u001b[38;5;28;43mself\u001b[39;49m\u001b[38;5;241;43m.\u001b[39;49m\u001b[43mcolumns\u001b[49m\u001b[38;5;241;43m.\u001b[39;49m\u001b[43mget_loc\u001b[49m\u001b[43m(\u001b[49m\u001b[43mkey\u001b[49m\u001b[43m)\u001b[49m\n\u001b[1;32m   3894\u001b[0m \u001b[38;5;28;01mif\u001b[39;00m is_integer(indexer):\n\u001b[1;32m   3895\u001b[0m     indexer \u001b[38;5;241m=\u001b[39m [indexer]\n",
      "File \u001b[0;32m~/anaconda3/envs/indata_fa24/lib/python3.12/site-packages/pandas/core/indexes/base.py:3798\u001b[0m, in \u001b[0;36mIndex.get_loc\u001b[0;34m(self, key)\u001b[0m\n\u001b[1;32m   3793\u001b[0m     \u001b[38;5;28;01mif\u001b[39;00m \u001b[38;5;28misinstance\u001b[39m(casted_key, \u001b[38;5;28mslice\u001b[39m) \u001b[38;5;129;01mor\u001b[39;00m (\n\u001b[1;32m   3794\u001b[0m         \u001b[38;5;28misinstance\u001b[39m(casted_key, abc\u001b[38;5;241m.\u001b[39mIterable)\n\u001b[1;32m   3795\u001b[0m         \u001b[38;5;129;01mand\u001b[39;00m \u001b[38;5;28many\u001b[39m(\u001b[38;5;28misinstance\u001b[39m(x, \u001b[38;5;28mslice\u001b[39m) \u001b[38;5;28;01mfor\u001b[39;00m x \u001b[38;5;129;01min\u001b[39;00m casted_key)\n\u001b[1;32m   3796\u001b[0m     ):\n\u001b[1;32m   3797\u001b[0m         \u001b[38;5;28;01mraise\u001b[39;00m InvalidIndexError(key)\n\u001b[0;32m-> 3798\u001b[0m     \u001b[38;5;28;01mraise\u001b[39;00m \u001b[38;5;167;01mKeyError\u001b[39;00m(key) \u001b[38;5;28;01mfrom\u001b[39;00m \u001b[38;5;21;01merr\u001b[39;00m\n\u001b[1;32m   3799\u001b[0m \u001b[38;5;28;01mexcept\u001b[39;00m \u001b[38;5;167;01mTypeError\u001b[39;00m:\n\u001b[1;32m   3800\u001b[0m     \u001b[38;5;66;03m# If we have a listlike key, _check_indexing_error will raise\u001b[39;00m\n\u001b[1;32m   3801\u001b[0m     \u001b[38;5;66;03m#  InvalidIndexError. Otherwise we fall through and re-raise\u001b[39;00m\n\u001b[1;32m   3802\u001b[0m     \u001b[38;5;66;03m#  the TypeError.\u001b[39;00m\n\u001b[1;32m   3803\u001b[0m     \u001b[38;5;28mself\u001b[39m\u001b[38;5;241m.\u001b[39m_check_indexing_error(key)\n",
      "\u001b[0;31mKeyError\u001b[0m: 'FULL_TIME'"
     ]
    },
    {
     "data": {
      "image/png": "[encoded data removed]",
      "text/plain": [
       "<Figure size 640x480 with 1 Axes>"
      ]
     },
     "metadata": {},
     "output_type": "display_data"
    }
   ],
   "source": [
    "fig1, ax1 = plt.subplots()\n",
    "ax1.scatter(x = LNPost['normalized_salary'], y = LNPost['FULL_TIME'])\n",
    "\n",
    "plt.show"
   ]
  },
  {
   "cell_type": "code",
   "execution_count": null,
   "id": "1ebe705e-5157-402e-b88e-e0d9d4f4a548",
   "metadata": {},
   "outputs": [],
   "source": [
    "fig1, ax1 = plt.subplots()\n",
    "ax1.scatter(x = LNPost['normalized_salary'], y = LNPost[ 'med_salary'])\n",
    "\n",
    "plt.show"
   ]
  },
  {
   "cell_type": "code",
   "execution_count": null,
   "id": "b35c71bb-4c80-4a16-97d6-dea723ea8ceb",
   "metadata": {},
   "outputs": [],
   "source": [
    "##job_counts = LNPost[['title'] == 'Marketing Coordinator'].value_counts()"
   ]
  },
  {
   "cell_type": "markdown",
   "id": "a69f296b-5311-4d98-9c42-b8d45d4fc956",
   "metadata": {},
   "source": [
    "Now that I've gotten to the point of being able to actually get some of the data in a graph. I now am trying to figure out how to convert the text of the data into numbers that can be plugged into a graph. \n",
    "\n",
    "- How do I get the number of marketing coordinator jobs?\n",
    "- How do access values within the columns such as seprating hourly and yearly salarys?\n",
    "\n",
    "I want to examine the discrepencies between salary, remote options, full time & partime job options so I can ultimately answer the question of what factors are influencing marketing positions. I'm still aiming to create scatter plots with hover text that elborates about the different marketing coordinator differences. \n"
   ]
  },
  {
   "cell_type": "markdown",
   "id": "cfa5c3e6-d251-4910-a259-c5c69b05a216",
   "metadata": {},
   "source": [
    "## Based on the feedback and my previous progress, I'm going to try to isolate the marketing coordinator jobs. "
   ]
  },
  {
   "cell_type": "code",
   "execution_count": null,
   "id": "cc2eb390-bf1c-4419-926c-0f066f5a6666",
   "metadata": {},
   "outputs": [],
   "source": [
    "LNPost.groupby('title').count()"
   ]
  },
  {
   "cell_type": "code",
   "execution_count": 32,
   "id": "259d9ffe-60ba-4e78-9701-65a42c7ae76b",
   "metadata": {},
   "outputs": [
    {
     "name": "stdout",
     "output_type": "stream",
     "text": [
      "            job_id                                       company_name  \\\n",
      "0           921716                              Corcoran Sawyer Smith   \n",
      "99      2974397965                                       Lynx Systems   \n",
      "297     3758935273                            Riverbend Sandler Pools   \n",
      "3926    3884861115                                     The Contingent   \n",
      "4417    3884913980                             Wolf Line Construction   \n",
      "5908    3885105454             ROOT3 Marketing & Business Development   \n",
      "9350    3886482407                                   Provisions Group   \n",
      "11181   3887480628                                        Vertisystem   \n",
      "18161   3888814699                                  Morgan Properties   \n",
      "21432   3889435590                  JTI (Japan Tobacco International)   \n",
      "23760   3889783231                        Millennium Recruiting, Inc.   \n",
      "39112   3898163544                                     WTA Architects   \n",
      "41667   3899526254                                     MFM Search LLC   \n",
      "42852   3899545007                            Olympia Pharmaceuticals   \n",
      "46485   3900966328                                       Redapt, Inc.   \n",
      "46816   3900978867                                   Coco Republic US   \n",
      "49138   3901353091                                UJAMAA Construction   \n",
      "51242   3901385999                                  Ultimate Staffing   \n",
      "56122   3901938274                                           HardHead   \n",
      "56143   3901938332                                         MacuHealth   \n",
      "56378   3901939365                                 Broad River Retail   \n",
      "58092   3901947472          Burnett Specialists Staffing | Recruiting   \n",
      "59965   3901966331                                      Syndicatebleu   \n",
      "60324   3901978632                                       Aegis Living   \n",
      "69881   3902830408                           Abel + Schafer | Komplet   \n",
      "73279   3902923601                                    LUXE Properties   \n",
      "73434   3902930389                                          SurgiShop   \n",
      "78778   3903816932                                      QPharma, Inc.   \n",
      "86962   3904387476                                    RAYUS Radiology   \n",
      "87280   3904388771                           Ensemble Health Partners   \n",
      "91021   3904432487                                         Citizendum   \n",
      "95964   3904940543  Berkshire Hathaway HomeServices Fox & Roach, R...   \n",
      "97006   3904953790                                  Ultimate Staffing   \n",
      "103305  3905290960                          Lucky Lincoln Gaming, LLC   \n",
      "103527  3905293213                               BlackDog Advertising   \n",
      "103802  3905295239                          Lucky Lincoln Gaming, LLC   \n",
      "103988  3905296344                          Lucky Lincoln Gaming, LLC   \n",
      "114321  3905824960                        Millennium Recruiting, Inc.   \n",
      "114407  3905827258                        Millennium Recruiting, Inc.   \n",
      "114567  3905830747                        Millennium Recruiting, Inc.   \n",
      "114783  3905835580                        Millennium Recruiting, Inc.   \n",
      "116049  3905861867                                                NaN   \n",
      "116053  3905861954                             Clearwater Free Clinic   \n",
      "116528  3905870609                        Millennium Recruiting, Inc.   \n",
      "116560  3905871106                        Millennium Recruiting, Inc.   \n",
      "116687  3905873194                                       MAC Partners   \n",
      "116783  3905874344                        Millennium Recruiting, Inc.   \n",
      "117519  3905890367                        Millennium Recruiting, Inc.   \n",
      "118180  3906091856                              Merlin Entertainments   \n",
      "118298  3906093541                             Barnum Financial Group   \n",
      "118848  3906202058                                      613 Originals   \n",
      "\n",
      "                        title  \\\n",
      "0       Marketing Coordinator   \n",
      "99      Marketing Coordinator   \n",
      "297     Marketing Coordinator   \n",
      "3926    Marketing Coordinator   \n",
      "4417    Marketing Coordinator   \n",
      "5908    Marketing Coordinator   \n",
      "9350    Marketing Coordinator   \n",
      "11181   Marketing Coordinator   \n",
      "18161   Marketing Coordinator   \n",
      "21432   Marketing Coordinator   \n",
      "23760   Marketing Coordinator   \n",
      "39112   Marketing Coordinator   \n",
      "41667   Marketing Coordinator   \n",
      "42852   Marketing Coordinator   \n",
      "46485   Marketing Coordinator   \n",
      "46816   Marketing Coordinator   \n",
      "49138   Marketing Coordinator   \n",
      "51242   Marketing Coordinator   \n",
      "56122   Marketing Coordinator   \n",
      "56143   Marketing Coordinator   \n",
      "56378   Marketing Coordinator   \n",
      "58092   Marketing Coordinator   \n",
      "59965   Marketing Coordinator   \n",
      "60324   Marketing Coordinator   \n",
      "69881   Marketing Coordinator   \n",
      "73279   Marketing Coordinator   \n",
      "73434   Marketing Coordinator   \n",
      "78778   Marketing Coordinator   \n",
      "86962   Marketing Coordinator   \n",
      "87280   Marketing Coordinator   \n",
      "91021   Marketing Coordinator   \n",
      "95964   Marketing Coordinator   \n",
      "97006   Marketing Coordinator   \n",
      "103305  Marketing Coordinator   \n",
      "103527  Marketing Coordinator   \n",
      "103802  Marketing Coordinator   \n",
      "103988  Marketing Coordinator   \n",
      "114321  Marketing Coordinator   \n",
      "114407  Marketing Coordinator   \n",
      "114567  Marketing Coordinator   \n",
      "114783  Marketing Coordinator   \n",
      "116049  Marketing Coordinator   \n",
      "116053  Marketing Coordinator   \n",
      "116528  Marketing Coordinator   \n",
      "116560  Marketing Coordinator   \n",
      "116687  Marketing Coordinator   \n",
      "116783  Marketing Coordinator   \n",
      "117519  Marketing Coordinator   \n",
      "118180  Marketing Coordinator   \n",
      "118298  Marketing Coordinator   \n",
      "118848  Marketing Coordinator   \n",
      "\n",
      "                                              description  max_salary  \\\n",
      "0       Job descriptionA leading real estate firm in N...       20.00   \n",
      "99      Micro Technology Services Inc. is a leading pr...    85000.00   \n",
      "297     \\nWe are seeking a dynamic detail-oriented Mar...         NaN   \n",
      "3926    Opportunity Summary: Looking for a creative ma...    50000.00   \n",
      "4417    Marketing CoordinatorWolf Line Construction is...         NaN   \n",
      "5908    Job descriptionThe Digital Marketing Coordinat...         NaN   \n",
      "9350    Marketing CoordinatorThe Opportunity: Are you ...         NaN   \n",
      "11181   Duration: 3 months contractPay rate: $38/hr on...         NaN   \n",
      "18161   Get To Know Us: Established in 1985 by Mitchel...    55000.00   \n",
      "21432   We’re JTI, Japan Tobacco International and we ...         NaN   \n",
      "23760   We are one of North America's fastest growing ...         NaN   \n",
      "39112   MARKETING & COMMUNICATION PROFESSIONAL WTA Arc...         NaN   \n",
      "41667   Generally, this person will assist the current...    75000.00   \n",
      "42852   General PurposeThe Marketing Department is res...    65000.00   \n",
      "46485   *Our office is located in Woodinville, WA in t...    60000.00   \n",
      "46816   We are one of Australia's leading furniture an...         NaN   \n",
      "49138   UJAMAA Construction is a diversity-focused, mi...    55000.00   \n",
      "51242   Marketing Coordinator Duration - 6 MonthsLocat...       31.02   \n",
      "56122   IN PERSON INTERVIEWS ONLY - LOCATION: MIAMI, F...    54000.00   \n",
      "56143   Position Overview:As a Marketing Coordinator a...         NaN   \n",
      "56378   Primary Responsibilities:Supporting the Senior...    48000.00   \n",
      "58092   We are recruiting for a Commercial Real Estate...         NaN   \n",
      "59965   We are seeking a skilled Marketing Coordinator...         NaN   \n",
      "60324   The Marketing Coordinator role will the suppor...       28.00   \n",
      "69881   For almost 130 years, Abel & Schafer has been ...         NaN   \n",
      "73279   The ideal candidate will assist in all areas o...       25.00   \n",
      "73434   SurgiShop:SurgiShop focuses on pioneering qual...    75000.00   \n",
      "78778   The ideal candidate will help with digital mar...         NaN   \n",
      "86962   Job Summary\\n\\nRAYUS Radiology, formerly Cente...         NaN   \n",
      "87280   Thank you for considering a career at Ensemble...         NaN   \n",
      "91021   Marketing CoordinatorPosition Overview: As a M...    41000.00   \n",
      "95964   Summary:Berkshire Hathaway HomeServices Fox & ...         NaN   \n",
      "97006   Marketing Coordinator Duration - 6 MonthsLocat...       31.67   \n",
      "103305  OVERVIEW:\\nLucky Lincoln Gaming is hiring a Ma...    60000.00   \n",
      "103527  BlackDog Advertising is looking for a Marketin...    45000.00   \n",
      "103802  OVERVIEW:\\nLucky Lincoln Gaming is hiring a Ma...    60000.00   \n",
      "103988  OVERVIEW:\\nLucky Lincoln Gaming is hiring a Ma...    60000.00   \n",
      "114321  We are one of North America's fastest growing ...         NaN   \n",
      "114407  We are one of North America's fastest growing ...         NaN   \n",
      "114567  We are are one of North America's fastest grow...         NaN   \n",
      "114783  We are one of North America's fastest growing ...         NaN   \n",
      "116049  We are seeking a highly motivated and skilled ...    65000.00   \n",
      "116053  About usSince 1977, the Clearwater Free Clinic...    42435.00   \n",
      "116528  We are one of North America's fastest growing ...         NaN   \n",
      "116560  We are one of North America's fastest growing ...         NaN   \n",
      "116687  Fast-Track Your Career Growth at MAC Partners!...         NaN   \n",
      "116783  We are one of North America's fastest growing ...         NaN   \n",
      "117519  IMMEDIATE HIRE *THIS ROLE IS NOT REMOTE*\\nOUR ...         NaN   \n",
      "118180  Main Responsibilities\\n\\nLead and manage socia...       21.00   \n",
      "118298  Do you thrive in a fast-paced environment wher...         NaN   \n",
      "118848  Who we are613 Originals is an industry-leading...         NaN   \n",
      "\n",
      "       pay_period                         location   company_id  views  \\\n",
      "0          HOURLY                    Princeton, NJ    2774458.0   20.0   \n",
      "99         YEARLY                   Richardson, TX    6556800.0    3.0   \n",
      "297           NaN                    Southlake, TX     903687.0    4.0   \n",
      "3926       YEARLY                 Indianapolis, IN   64263310.0    4.0   \n",
      "4417          NaN             North Charleston, SC   25053600.0   15.0   \n",
      "5908          NaN                      Chicago, IL    3680938.0    NaN   \n",
      "9350          NaN      Nashville Metropolitan Area     965474.0   13.0   \n",
      "11181         NaN                     New York, NY    3009879.0   31.0   \n",
      "18161      YEARLY                 Conshohocken, PA      44795.0   49.0   \n",
      "21432         NaN                      Raleigh, NC       4827.0    5.0   \n",
      "23760         NaN                        Tampa, FL   10425374.0    6.0   \n",
      "39112         NaN                      Saginaw, MI    5221457.0   29.0   \n",
      "41667      YEARLY                        Tampa, FL   35607160.0   64.0   \n",
      "42852      YEARLY                      Orlando, FL   15632239.0   33.0   \n",
      "46485      YEARLY             Greater Seattle Area      77133.0   16.0   \n",
      "46816         NaN                  Los Angeles, CA   86113138.0  143.0   \n",
      "49138      YEARLY        Atlanta Metropolitan Area    1331578.0    3.0   \n",
      "51242      HOURLY                Newport Beach, CA       7260.0    6.0   \n",
      "56122      YEARLY                        Miami, FL  100538581.0    3.0   \n",
      "56143         NaN             Bloomfield Hills, MI    2347830.0    1.0   \n",
      "56378      YEARLY                    Fort Mill, SC    2151102.0    4.0   \n",
      "58092         NaN                       Austin, TX      29104.0    1.0   \n",
      "59965         NaN                  Los Angeles, CA      77831.0    2.0   \n",
      "60324      HOURLY                    Newcastle, WA      43707.0    1.0   \n",
      "69881         NaN  New York City Metropolitan Area    2296781.0    3.0   \n",
      "73279      HOURLY                        Miami, FL    3611959.0    6.0   \n",
      "73434      YEARLY                         Lutz, FL   18837764.0   25.0   \n",
      "78778         NaN                   Morristown, NJ     543022.0    5.0   \n",
      "86962         NaN                St Louis Park, MN   74491056.0   38.0   \n",
      "87280         NaN                    United States    5307136.0  311.0   \n",
      "91021      YEARLY              Fort Lauderdale, FL   91530215.0   20.0   \n",
      "95964         NaN                    Haverford, PA     165582.0   14.0   \n",
      "97006      HOURLY                Newport Beach, CA       7260.0   56.0   \n",
      "103305     YEARLY               McHenry County, IL   16193637.0    NaN   \n",
      "103527     YEARLY                    United States    1209846.0   20.0   \n",
      "103802     YEARLY                       Aurora, IL   16193637.0    2.0   \n",
      "103988     YEARLY                       Aurora, IL   16193637.0    2.0   \n",
      "114321        NaN                       Boston, MA   10425374.0    2.0   \n",
      "114407        NaN                        Tampa, FL   10425374.0    2.0   \n",
      "114567        NaN      Dallas-Fort Worth Metroplex   10425374.0    2.0   \n",
      "114783        NaN               Virginia Beach, VA   10425374.0    4.0   \n",
      "116049     YEARLY   Grand Rapids Metropolitan Area          NaN    NaN   \n",
      "116053     YEARLY                   Clearwater, FL    2489833.0    1.0   \n",
      "116528        NaN                     Pasadena, CA   10425374.0    2.0   \n",
      "116560        NaN                        Miami, FL   10425374.0    3.0   \n",
      "116687        NaN                       Dallas, TX   75589548.0    2.0   \n",
      "116783        NaN                   Pittsburgh, PA   10425374.0    NaN   \n",
      "117519        NaN                     Savannah, GA   10425374.0    1.0   \n",
      "118180     HOURLY         North Richland Hills, TX     261456.0    5.0   \n",
      "118298        NaN                      Shelton, CT   10851139.0   24.0   \n",
      "118848        NaN                       Mahwah, NJ   33216154.0    8.0   \n",
      "\n",
      "        med_salary  ...                                        skills_desc  \\\n",
      "0              NaN  ...  Requirements: \\n\\nWe are seeking a College or ...   \n",
      "99             NaN  ...                                                NaN   \n",
      "297            NaN  ...                                                NaN   \n",
      "3926           NaN  ...                                                NaN   \n",
      "4417           NaN  ...                                                NaN   \n",
      "5908           NaN  ...                                                NaN   \n",
      "9350           NaN  ...                                                NaN   \n",
      "11181          NaN  ...                                                NaN   \n",
      "18161          NaN  ...                                                NaN   \n",
      "21432          NaN  ...                                                NaN   \n",
      "23760          NaN  ...                                                NaN   \n",
      "39112          NaN  ...                                                NaN   \n",
      "41667          NaN  ...                                                NaN   \n",
      "42852          NaN  ...                                                NaN   \n",
      "46485          NaN  ...                                                NaN   \n",
      "46816          NaN  ...                                                NaN   \n",
      "49138          NaN  ...                                                NaN   \n",
      "51242          NaN  ...                                                NaN   \n",
      "56122          NaN  ...                                                NaN   \n",
      "56143          NaN  ...                                                NaN   \n",
      "56378          NaN  ...                                                NaN   \n",
      "58092          NaN  ...                                                NaN   \n",
      "59965          NaN  ...                                                NaN   \n",
      "60324          NaN  ...                                                NaN   \n",
      "69881          NaN  ...                                                NaN   \n",
      "73279          NaN  ...                                                NaN   \n",
      "73434          NaN  ...                                                NaN   \n",
      "78778          NaN  ...                                                NaN   \n",
      "86962          NaN  ...                                                NaN   \n",
      "87280          NaN  ...                                                NaN   \n",
      "91021          NaN  ...                                                NaN   \n",
      "95964          NaN  ...                                                NaN   \n",
      "97006          NaN  ...                                                NaN   \n",
      "103305         NaN  ...                                                NaN   \n",
      "103527         NaN  ...                                                NaN   \n",
      "103802         NaN  ...                                                NaN   \n",
      "103988         NaN  ...                                                NaN   \n",
      "114321         NaN  ...                                                NaN   \n",
      "114407         NaN  ...                                                NaN   \n",
      "114567         NaN  ...                                                NaN   \n",
      "114783         NaN  ...                                                NaN   \n",
      "116049         NaN  ...                                                NaN   \n",
      "116053         NaN  ...                                                NaN   \n",
      "116528         NaN  ...                                                NaN   \n",
      "116560         NaN  ...                                                NaN   \n",
      "116687         NaN  ...                                                NaN   \n",
      "116783         NaN  ...                                                NaN   \n",
      "117519         NaN  ...                                                NaN   \n",
      "118180         NaN  ...                                                NaN   \n",
      "118298         NaN  ...                                                NaN   \n",
      "118848         NaN  ...                                                NaN   \n",
      "\n",
      "         listed_time                                   posting_domain  \\\n",
      "0       1.713398e+12                                              NaN   \n",
      "99      1.713472e+12                                              NaN   \n",
      "297     1.713459e+12                                              NaN   \n",
      "3926    1.712382e+12                                              NaN   \n",
      "4417    1.712347e+12                                              NaN   \n",
      "5908    1.712403e+12                                              NaN   \n",
      "9350    1.712639e+12                                              NaN   \n",
      "11181   1.712347e+12                                              NaN   \n",
      "18161   1.712668e+12                                              NaN   \n",
      "21432   1.712656e+12                                     jobs.jti.com   \n",
      "23760   1.712670e+12                                              NaN   \n",
      "39112   1.713212e+12                                              NaN   \n",
      "41667   1.713278e+12                                              NaN   \n",
      "42852   1.713281e+12                                              NaN   \n",
      "46485   1.713394e+12                                              NaN   \n",
      "46816   1.713406e+12                                              NaN   \n",
      "49138   1.713452e+12                                              NaN   \n",
      "51242   1.713460e+12                                              NaN   \n",
      "56122   1.713467e+12                                              NaN   \n",
      "56143   1.713468e+12                                              NaN   \n",
      "56378   1.713469e+12                                              NaN   \n",
      "58092   1.713474e+12                                              NaN   \n",
      "59965   1.713479e+12                                              NaN   \n",
      "60324   1.713486e+12                                              NaN   \n",
      "69881   1.713553e+12                                              NaN   \n",
      "73279   1.713278e+12                                              NaN   \n",
      "73434   1.713279e+12                                              NaN   \n",
      "78778   1.713473e+12                                              NaN   \n",
      "86962   1.713393e+12                               recruiting.adp.com   \n",
      "87280   1.713395e+12                 ensemblehp.wd5.myworkdayjobs.com   \n",
      "91021   1.713409e+12                                              NaN   \n",
      "95964   1.713452e+12                                              NaN   \n",
      "97006   1.713454e+12                                              NaN   \n",
      "103305  1.713473e+12                                              NaN   \n",
      "103527  1.713475e+12                                              NaN   \n",
      "103802  1.713473e+12                                              NaN   \n",
      "103988  1.713474e+12                                              NaN   \n",
      "114321  1.713530e+12                                              NaN   \n",
      "114407  1.713530e+12                                              NaN   \n",
      "114567  1.713531e+12                                              NaN   \n",
      "114783  1.713533e+12                                              NaN   \n",
      "116049  1.713538e+12                                              NaN   \n",
      "116053  1.713538e+12                                              NaN   \n",
      "116528  1.713539e+12                                              NaN   \n",
      "116560  1.713538e+12                                              NaN   \n",
      "116687  1.713538e+12                                              NaN   \n",
      "116783  1.713539e+12                                              NaN   \n",
      "117519  1.713541e+12                                              NaN   \n",
      "118180  1.713554e+12  hourlycareers-na-merlinentertainments.icims.com   \n",
      "118298  1.713552e+12                                              NaN   \n",
      "118848  1.713556e+12                                              NaN   \n",
      "\n",
      "        sponsored  work_type currency compensation_type normalized_salary  \\\n",
      "0               0  FULL_TIME      USD       BASE_SALARY           38480.0   \n",
      "99              0  FULL_TIME      USD       BASE_SALARY           80000.0   \n",
      "297             0  FULL_TIME      NaN               NaN               NaN   \n",
      "3926            0  FULL_TIME      USD       BASE_SALARY           46500.0   \n",
      "4417            0  FULL_TIME      NaN               NaN               NaN   \n",
      "5908            0  FULL_TIME      NaN               NaN               NaN   \n",
      "9350            0  FULL_TIME      NaN               NaN               NaN   \n",
      "11181           0   CONTRACT      NaN               NaN               NaN   \n",
      "18161           0  FULL_TIME      USD       BASE_SALARY           52500.0   \n",
      "21432           0  FULL_TIME      NaN               NaN               NaN   \n",
      "23760           0  FULL_TIME      NaN               NaN               NaN   \n",
      "39112           0  FULL_TIME      NaN               NaN               NaN   \n",
      "41667           0  FULL_TIME      USD       BASE_SALARY           72500.0   \n",
      "42852           0  FULL_TIME      USD       BASE_SALARY           55000.0   \n",
      "46485           0  FULL_TIME      USD       BASE_SALARY           57500.0   \n",
      "46816           0   CONTRACT      NaN               NaN               NaN   \n",
      "49138           0  FULL_TIME      USD       BASE_SALARY           50000.0   \n",
      "51242           0   CONTRACT      USD       BASE_SALARY           60340.8   \n",
      "56122           0  FULL_TIME      USD       BASE_SALARY           51000.0   \n",
      "56143           0  FULL_TIME      NaN               NaN               NaN   \n",
      "56378           0  FULL_TIME      USD       BASE_SALARY           45500.0   \n",
      "58092           0  FULL_TIME      NaN               NaN               NaN   \n",
      "59965           0  TEMPORARY      NaN               NaN               NaN   \n",
      "60324           0  FULL_TIME      USD       BASE_SALARY           55120.0   \n",
      "69881           0  FULL_TIME      NaN               NaN               NaN   \n",
      "73279           0  FULL_TIME      USD       BASE_SALARY           46800.0   \n",
      "73434           0  FULL_TIME      USD       BASE_SALARY           65000.0   \n",
      "78778           0  FULL_TIME      NaN               NaN               NaN   \n",
      "86962           0  FULL_TIME      NaN               NaN               NaN   \n",
      "87280           0  FULL_TIME      NaN               NaN               NaN   \n",
      "91021           0  FULL_TIME      USD       BASE_SALARY           40000.0   \n",
      "95964           0  FULL_TIME      NaN               NaN               NaN   \n",
      "97006           0   CONTRACT      USD       BASE_SALARY           61016.8   \n",
      "103305          0  FULL_TIME      USD       BASE_SALARY           55000.0   \n",
      "103527          0  FULL_TIME      USD       BASE_SALARY           40000.0   \n",
      "103802          0  FULL_TIME      USD       BASE_SALARY           55000.0   \n",
      "103988          0  FULL_TIME      USD       BASE_SALARY           55000.0   \n",
      "114321          0  FULL_TIME      NaN               NaN               NaN   \n",
      "114407          0  FULL_TIME      NaN               NaN               NaN   \n",
      "114567          0  FULL_TIME      NaN               NaN               NaN   \n",
      "114783          0  FULL_TIME      NaN               NaN               NaN   \n",
      "116049          0  FULL_TIME      USD       BASE_SALARY           55000.0   \n",
      "116053          0  FULL_TIME      USD       BASE_SALARY           40395.0   \n",
      "116528          0  FULL_TIME      NaN               NaN               NaN   \n",
      "116560          0  FULL_TIME      NaN               NaN               NaN   \n",
      "116687          0  FULL_TIME      NaN               NaN               NaN   \n",
      "116783          0  FULL_TIME      NaN               NaN               NaN   \n",
      "117519          0  FULL_TIME      NaN               NaN               NaN   \n",
      "118180          0  FULL_TIME      USD       BASE_SALARY           42640.0   \n",
      "118298          0  FULL_TIME      NaN               NaN               NaN   \n",
      "118848          0  FULL_TIME      NaN               NaN               NaN   \n",
      "\n",
      "        zip_code     fips  \n",
      "0         8540.0  34021.0  \n",
      "99       75080.0  48113.0  \n",
      "297      76092.0  48439.0  \n",
      "3926     46201.0  18097.0  \n",
      "4417     29405.0  45019.0  \n",
      "5908     60601.0  17031.0  \n",
      "9350         NaN      NaN  \n",
      "11181    10001.0  36061.0  \n",
      "18161    19428.0  42091.0  \n",
      "21432    27601.0  37183.0  \n",
      "23760    33602.0  12057.0  \n",
      "39112    48601.0  26145.0  \n",
      "41667    33602.0  12057.0  \n",
      "42852    32801.0  12095.0  \n",
      "46485        NaN      NaN  \n",
      "46816    90001.0   6037.0  \n",
      "49138        NaN      NaN  \n",
      "51242    92660.0   6059.0  \n",
      "56122    33122.0  12025.0  \n",
      "56143    48301.0  26147.0  \n",
      "56378    29707.0      NaN  \n",
      "58092    78701.0  48453.0  \n",
      "59965    90001.0   6037.0  \n",
      "60324        NaN      NaN  \n",
      "69881        NaN      NaN  \n",
      "73279    33122.0  12025.0  \n",
      "73434    33548.0      NaN  \n",
      "78778     7960.0  34027.0  \n",
      "86962    56357.0  27009.0  \n",
      "87280        NaN      NaN  \n",
      "91021    33301.0  12011.0  \n",
      "95964    19041.0  42045.0  \n",
      "97006    92660.0   6059.0  \n",
      "103305   61537.0  17123.0  \n",
      "103527       NaN      NaN  \n",
      "103802   60502.0      NaN  \n",
      "103988   60502.0      NaN  \n",
      "114321    2108.0  25025.0  \n",
      "114407   33602.0  12057.0  \n",
      "114567       NaN      NaN  \n",
      "114783   23451.0  51810.0  \n",
      "116049       NaN      NaN  \n",
      "116053   33755.0      NaN  \n",
      "116528   91101.0   6037.0  \n",
      "116560   33122.0  12025.0  \n",
      "116687   75201.0  48113.0  \n",
      "116783   15201.0  42003.0  \n",
      "117519   31401.0  13051.0  \n",
      "118180   76180.0  48439.0  \n",
      "118298    6484.0   9001.0  \n",
      "118848    7430.0  34003.0  \n",
      "\n",
      "[51 rows x 31 columns]\n"
     ]
    }
   ],
   "source": [
    "job_counts = LNPost[LNPost['title'] == 'Marketing Coordinator']\n",
    "\n",
    "print(job_counts)"
   ]
  },
  {
   "cell_type": "code",
   "execution_count": null,
   "id": "292adf3f-3779-4c49-9e1f-54303a1f2d4f",
   "metadata": {},
   "outputs": [],
   "source": []
  },
  {
   "cell_type": "code",
   "execution_count": null,
   "id": "8661750b-9c2e-4c82-97e9-8e115b07872a",
   "metadata": {},
   "outputs": [],
   "source": [
    "count = job_counts.shape[0]\n",
    "print(f\"Number of Marketing Coordinator jobs: {count}\")"
   ]
  },
  {
   "cell_type": "code",
   "execution_count": null,
   "id": "ed021d06-3c20-45f1-85f9-ec6899ecb47c",
   "metadata": {},
   "outputs": [],
   "source": [
    "print(job_counts.isnull().sum())"
   ]
  },
  {
   "cell_type": "code",
   "execution_count": null,
   "id": "010bb331-30db-44cc-84de-eb9d36c1b592",
   "metadata": {},
   "outputs": [],
   "source": [
    "print(job_counts.describe())"
   ]
  },
  {
   "cell_type": "code",
   "execution_count": 30,
   "id": "d7f0a1df-6b46-412e-9eb3-309b6347f76d",
   "metadata": {},
   "outputs": [
    {
     "ename": "NameError",
     "evalue": "name 'job_counts' is not defined",
     "output_type": "error",
     "traceback": [
      "\u001b[0;31m---------------------------------------------------------------------------\u001b[0m",
      "\u001b[0;31mNameError\u001b[0m                                 Traceback (most recent call last)",
      "Cell \u001b[0;32mIn[30], line 1\u001b[0m\n\u001b[0;32m----> 1\u001b[0m \u001b[43mjob_counts\u001b[49m\u001b[38;5;241m.\u001b[39mto_csv(\u001b[38;5;124m'\u001b[39m\u001b[38;5;124mMarketing_Coordinator_Jobs.csv\u001b[39m\u001b[38;5;124m'\u001b[39m, index\u001b[38;5;241m=\u001b[39m\u001b[38;5;28;01mFalse\u001b[39;00m)\n",
      "\u001b[0;31mNameError\u001b[0m: name 'job_counts' is not defined"
     ]
    }
   ],
   "source": [
    "job_counts.to_csv('Marketing_Coordinator_Jobs.csv', index=False)"
   ]
  },
  {
   "cell_type": "code",
   "execution_count": 31,
   "id": "66e8cd8e-b0ec-4fad-8a9c-899a089b0978",
   "metadata": {},
   "outputs": [
    {
     "data": {
      "text/html": [
       "<div>\n",
       "<style scoped>\n",
       "    .dataframe tbody tr th:only-of-type {\n",
       "        vertical-align: middle;\n",
       "    }\n",
       "\n",
       "    .dataframe tbody tr th {\n",
       "        vertical-align: top;\n",
       "    }\n",
       "\n",
       "    .dataframe thead th {\n",
       "        text-align: right;\n",
       "    }\n",
       "</style>\n",
       "<table border=\"1\" class=\"dataframe\">\n",
       "  <thead>\n",
       "    <tr style=\"text-align: right;\">\n",
       "      <th></th>\n",
       "      <th>job_id</th>\n",
       "      <th>company_name</th>\n",
       "      <th>title</th>\n",
       "      <th>description</th>\n",
       "      <th>max_salary</th>\n",
       "      <th>pay_period</th>\n",
       "      <th>location</th>\n",
       "      <th>company_id</th>\n",
       "      <th>views</th>\n",
       "      <th>med_salary</th>\n",
       "      <th>...</th>\n",
       "      <th>skills_desc</th>\n",
       "      <th>listed_time</th>\n",
       "      <th>posting_domain</th>\n",
       "      <th>sponsored</th>\n",
       "      <th>work_type</th>\n",
       "      <th>currency</th>\n",
       "      <th>compensation_type</th>\n",
       "      <th>normalized_salary</th>\n",
       "      <th>zip_code</th>\n",
       "      <th>fips</th>\n",
       "    </tr>\n",
       "  </thead>\n",
       "  <tbody>\n",
       "    <tr>\n",
       "      <th>0</th>\n",
       "      <td>921716</td>\n",
       "      <td>Corcoran Sawyer Smith</td>\n",
       "      <td>Marketing Coordinator</td>\n",
       "      <td>Job descriptionA leading real estate firm in N...</td>\n",
       "      <td>20.0</td>\n",
       "      <td>HOURLY</td>\n",
       "      <td>Princeton, NJ</td>\n",
       "      <td>2774458.0</td>\n",
       "      <td>20.0</td>\n",
       "      <td>NaN</td>\n",
       "      <td>...</td>\n",
       "      <td>Requirements: \\n\\nWe are seeking a College or ...</td>\n",
       "      <td>1.713398e+12</td>\n",
       "      <td>NaN</td>\n",
       "      <td>0</td>\n",
       "      <td>FULL_TIME</td>\n",
       "      <td>USD</td>\n",
       "      <td>BASE_SALARY</td>\n",
       "      <td>38480.0</td>\n",
       "      <td>8540.0</td>\n",
       "      <td>34021.0</td>\n",
       "    </tr>\n",
       "    <tr>\n",
       "      <th>1</th>\n",
       "      <td>2974397965</td>\n",
       "      <td>Lynx Systems</td>\n",
       "      <td>Marketing Coordinator</td>\n",
       "      <td>Micro Technology Services Inc. is a leading pr...</td>\n",
       "      <td>85000.0</td>\n",
       "      <td>YEARLY</td>\n",
       "      <td>Richardson, TX</td>\n",
       "      <td>6556800.0</td>\n",
       "      <td>3.0</td>\n",
       "      <td>NaN</td>\n",
       "      <td>...</td>\n",
       "      <td>NaN</td>\n",
       "      <td>1.713472e+12</td>\n",
       "      <td>NaN</td>\n",
       "      <td>0</td>\n",
       "      <td>FULL_TIME</td>\n",
       "      <td>USD</td>\n",
       "      <td>BASE_SALARY</td>\n",
       "      <td>80000.0</td>\n",
       "      <td>75080.0</td>\n",
       "      <td>48113.0</td>\n",
       "    </tr>\n",
       "    <tr>\n",
       "      <th>2</th>\n",
       "      <td>3758935273</td>\n",
       "      <td>Riverbend Sandler Pools</td>\n",
       "      <td>Marketing Coordinator</td>\n",
       "      <td>\\nWe are seeking a dynamic detail-oriented Mar...</td>\n",
       "      <td>NaN</td>\n",
       "      <td>NaN</td>\n",
       "      <td>Southlake, TX</td>\n",
       "      <td>903687.0</td>\n",
       "      <td>4.0</td>\n",
       "      <td>NaN</td>\n",
       "      <td>...</td>\n",
       "      <td>NaN</td>\n",
       "      <td>1.713459e+12</td>\n",
       "      <td>NaN</td>\n",
       "      <td>0</td>\n",
       "      <td>FULL_TIME</td>\n",
       "      <td>NaN</td>\n",
       "      <td>NaN</td>\n",
       "      <td>NaN</td>\n",
       "      <td>76092.0</td>\n",
       "      <td>48439.0</td>\n",
       "    </tr>\n",
       "    <tr>\n",
       "      <th>3</th>\n",
       "      <td>3884861115</td>\n",
       "      <td>The Contingent</td>\n",
       "      <td>Marketing Coordinator</td>\n",
       "      <td>Opportunity Summary: Looking for a creative ma...</td>\n",
       "      <td>50000.0</td>\n",
       "      <td>YEARLY</td>\n",
       "      <td>Indianapolis, IN</td>\n",
       "      <td>64263310.0</td>\n",
       "      <td>4.0</td>\n",
       "      <td>NaN</td>\n",
       "      <td>...</td>\n",
       "      <td>NaN</td>\n",
       "      <td>1.712382e+12</td>\n",
       "      <td>NaN</td>\n",
       "      <td>0</td>\n",
       "      <td>FULL_TIME</td>\n",
       "      <td>USD</td>\n",
       "      <td>BASE_SALARY</td>\n",
       "      <td>46500.0</td>\n",
       "      <td>46201.0</td>\n",
       "      <td>18097.0</td>\n",
       "    </tr>\n",
       "    <tr>\n",
       "      <th>4</th>\n",
       "      <td>3884913980</td>\n",
       "      <td>Wolf Line Construction</td>\n",
       "      <td>Marketing Coordinator</td>\n",
       "      <td>Marketing CoordinatorWolf Line Construction is...</td>\n",
       "      <td>NaN</td>\n",
       "      <td>NaN</td>\n",
       "      <td>North Charleston, SC</td>\n",
       "      <td>25053600.0</td>\n",
       "      <td>15.0</td>\n",
       "      <td>NaN</td>\n",
       "      <td>...</td>\n",
       "      <td>NaN</td>\n",
       "      <td>1.712347e+12</td>\n",
       "      <td>NaN</td>\n",
       "      <td>0</td>\n",
       "      <td>FULL_TIME</td>\n",
       "      <td>NaN</td>\n",
       "      <td>NaN</td>\n",
       "      <td>NaN</td>\n",
       "      <td>29405.0</td>\n",
       "      <td>45019.0</td>\n",
       "    </tr>\n",
       "  </tbody>\n",
       "</table>\n",
       "<p>5 rows × 31 columns</p>\n",
       "</div>"
      ],
      "text/plain": [
       "       job_id             company_name                  title  \\\n",
       "0      921716    Corcoran Sawyer Smith  Marketing Coordinator   \n",
       "1  2974397965             Lynx Systems  Marketing Coordinator   \n",
       "2  3758935273  Riverbend Sandler Pools  Marketing Coordinator   \n",
       "3  3884861115           The Contingent  Marketing Coordinator   \n",
       "4  3884913980   Wolf Line Construction  Marketing Coordinator   \n",
       "\n",
       "                                         description  max_salary pay_period  \\\n",
       "0  Job descriptionA leading real estate firm in N...        20.0     HOURLY   \n",
       "1  Micro Technology Services Inc. is a leading pr...     85000.0     YEARLY   \n",
       "2  \\nWe are seeking a dynamic detail-oriented Mar...         NaN        NaN   \n",
       "3  Opportunity Summary: Looking for a creative ma...     50000.0     YEARLY   \n",
       "4  Marketing CoordinatorWolf Line Construction is...         NaN        NaN   \n",
       "\n",
       "               location  company_id  views  med_salary  ...  \\\n",
       "0         Princeton, NJ   2774458.0   20.0         NaN  ...   \n",
       "1        Richardson, TX   6556800.0    3.0         NaN  ...   \n",
       "2         Southlake, TX    903687.0    4.0         NaN  ...   \n",
       "3      Indianapolis, IN  64263310.0    4.0         NaN  ...   \n",
       "4  North Charleston, SC  25053600.0   15.0         NaN  ...   \n",
       "\n",
       "                                         skills_desc   listed_time  \\\n",
       "0  Requirements: \\n\\nWe are seeking a College or ...  1.713398e+12   \n",
       "1                                                NaN  1.713472e+12   \n",
       "2                                                NaN  1.713459e+12   \n",
       "3                                                NaN  1.712382e+12   \n",
       "4                                                NaN  1.712347e+12   \n",
       "\n",
       "   posting_domain  sponsored  work_type currency compensation_type  \\\n",
       "0             NaN          0  FULL_TIME      USD       BASE_SALARY   \n",
       "1             NaN          0  FULL_TIME      USD       BASE_SALARY   \n",
       "2             NaN          0  FULL_TIME      NaN               NaN   \n",
       "3             NaN          0  FULL_TIME      USD       BASE_SALARY   \n",
       "4             NaN          0  FULL_TIME      NaN               NaN   \n",
       "\n",
       "  normalized_salary  zip_code     fips  \n",
       "0           38480.0    8540.0  34021.0  \n",
       "1           80000.0   75080.0  48113.0  \n",
       "2               NaN   76092.0  48439.0  \n",
       "3           46500.0   46201.0  18097.0  \n",
       "4               NaN   29405.0  45019.0  \n",
       "\n",
       "[5 rows x 31 columns]"
      ]
     },
     "execution_count": 31,
     "metadata": {},
     "output_type": "execute_result"
    }
   ],
   "source": [
    "MMPost = pd.read_csv(\"Marketing_Coordinator_jobs.csv\")\n",
    "MMPost.head()"
   ]
  },
  {
   "cell_type": "code",
   "execution_count": 63,
   "id": "923d5d37-a82f-4dce-bc83-413462d7a141",
   "metadata": {},
   "outputs": [
    {
     "data": {
      "text/plain": [
       "Index(['job_id', 'company_name', 'title', 'description', 'max_salary',\n",
       "       'pay_period', 'location', 'company_id', 'views', 'med_salary',\n",
       "       'min_salary', 'formatted_work_type', 'applies', 'original_listed_time',\n",
       "       'remote_allowed', 'job_posting_url', 'application_url',\n",
       "       'application_type', 'expiry', 'closed_time',\n",
       "       'formatted_experience_level', 'skills_desc', 'listed_time',\n",
       "       'posting_domain', 'sponsored', 'work_type', 'currency',\n",
       "       'compensation_type', 'normalized_salary', 'zip_code', 'fips',\n",
       "       'description_wrapped'],\n",
       "      dtype='object')"
      ]
     },
     "execution_count": 63,
     "metadata": {},
     "output_type": "execute_result"
    }
   ],
   "source": [
    "MMPost.columns"
   ]
  },
  {
   "cell_type": "code",
   "execution_count": 69,
   "id": "fcaf2c0d-593e-470e-9765-fb8053c04b9a",
   "metadata": {},
   "outputs": [
    {
     "data": {
      "image/png": "[encoded data removed]",
      "text/plain": [
       "<Figure size 640x480 with 1 Axes>"
      ]
     },
     "metadata": {},
     "output_type": "display_data"
    }
   ],
   "source": [
    "MMPost['work_type'].value_counts().plot(kind='bar')  #\n",
    "plt.title('Marketing Coordinator Jobs by Work Style')\n",
    "plt.xlabel('Work Schedule')\n",
    "plt.ylabel('Number of Jobs')\n",
    "plt.show()"
   ]
  },
  {
   "cell_type": "code",
   "execution_count": 73,
   "id": "83d46e58-a6ba-4651-afb4-e3462aaa5917",
   "metadata": {},
   "outputs": [
    {
     "data": {
      "text/plain": [
       "<Figure size 640x480 with 0 Axes>"
      ]
     },
     "metadata": {},
     "output_type": "display_data"
    }
   ],
   "source": [
    "plt.savefig('work_style_jobs.png', format='png', dpi=300)  # 'dpi' controls the resolution of the image\n",
    "plt.show()"
   ]
  },
  {
   "cell_type": "code",
   "execution_count": 29,
   "id": "8d3dfcf5-7b54-48dd-9038-a458a171b434",
   "metadata": {},
   "outputs": [
    {
     "ename": "NameError",
     "evalue": "name 'MMPost' is not defined",
     "output_type": "error",
     "traceback": [
      "\u001b[0;31m---------------------------------------------------------------------------\u001b[0m",
      "\u001b[0;31mNameError\u001b[0m                                 Traceback (most recent call last)",
      "Cell \u001b[0;32mIn[29], line 1\u001b[0m\n\u001b[0;32m----> 1\u001b[0m work_type_counts \u001b[38;5;241m=\u001b[39m \u001b[43mMMPost\u001b[49m[\u001b[38;5;124m'\u001b[39m\u001b[38;5;124mwork_type\u001b[39m\u001b[38;5;124m'\u001b[39m]\u001b[38;5;241m.\u001b[39mvalue_counts()\n\u001b[1;32m      3\u001b[0m \u001b[38;5;66;03m# Extract data for scatter plot\u001b[39;00m\n\u001b[1;32m      4\u001b[0m x \u001b[38;5;241m=\u001b[39m work_type_counts\u001b[38;5;241m.\u001b[39mindex  \u001b[38;5;66;03m# Categories (Work Schedules)\u001b[39;00m\n",
      "\u001b[0;31mNameError\u001b[0m: name 'MMPost' is not defined"
     ]
    }
   ],
   "source": [
    "work_type_counts = MMPost['work_type'].value_counts()\n",
    "\n",
    "# Extract data for scatter plot\n",
    "x = work_type_counts.index  # Categories (Work Schedules)\n",
    "y = work_type_counts.values  # Counts (Number of Jobs)\n",
    "\n",
    "# Create a scatter plot\n",
    "plt.scatter(x, y)\n",
    "\n",
    "# Add titles and labels\n",
    "plt.title('Marketing Coordinator Jobs by Work Style')\n",
    "plt.xlabel('Work Schedule')\n",
    "plt.ylabel('Number of Jobs')\n",
    "\n",
    "# Display plot\n",
    "plt.show()\n"
   ]
  },
  {
   "cell_type": "code",
   "execution_count": null,
   "id": "9e07bd5e-ece3-41dc-a226-049a49e93a81",
   "metadata": {},
   "outputs": [],
   "source": [
    "work_type_counts = MMPost['work_type'].value_counts()\n",
    "\n",
    "print(work_type_counts)"
   ]
  },
  {
   "cell_type": "code",
   "execution_count": null,
   "id": "7975b9b1-628f-4851-90c9-9f7b6c08f1b5",
   "metadata": {},
   "outputs": [],
   "source": [
    "full_time_count = work_type_counts['FULL_TIME']\n",
    "\n",
    "print(full_time_count)"
   ]
  },
  {
   "cell_type": "markdown",
   "id": "16974524-898e-4235-bbef-b5b41b8ecd56",
   "metadata": {},
   "source": [
    " I want to make a scatter plot wehre the points have additional information about the job when you hover over them. I want to compare the three kinds of work within my data set so theyre each a different symbol with a keythta explains the symbols. They would be spread across their max salary on the x axis and their min salary on the y axis. ( or max salary and normalized salary) "
   ]
  },
  {
   "cell_type": "code",
   "execution_count": 71,
   "id": "9eed8cf4-d15d-4559-bcce-b92d443ffafe",
   "metadata": {},
   "outputs": [
    {
     "data": {
      "application/vnd.plotly.v1+json": {
       "config": {
        "plotlyServerURL": "https://plot.ly"
       },
       "data": [
        {
         "customdata": [
          [
           "Corcoran Sawyer Smith",
           "Marketing Coordinator",
           17,
           "HOURLY",
           "Princeton, NJ"
          ],
          [
           "Lynx Systems",
           "Marketing Coordinator",
           75000,
           "YEARLY",
           "Richardson, TX"
          ],
          [
           "Riverbend Sandler Pools",
           "Marketing Coordinator",
           null,
           null,
           "Southlake, TX"
          ],
          [
           "The Contingent",
           "Marketing Coordinator",
           43000,
           "YEARLY",
           "Indianapolis, IN"
          ],
          [
           "Wolf Line Construction",
           "Marketing Coordinator",
           null,
           null,
           "North Charleston, SC"
          ],
          [
           "ROOT3 Marketing & Business Development",
           "Marketing Coordinator",
           null,
           null,
           "Chicago, IL"
          ],
          [
           "Provisions Group",
           "Marketing Coordinator",
           null,
           null,
           "Nashville Metropolitan Area"
          ],
          [
           "Morgan Properties",
           "Marketing Coordinator",
           50000,
           "YEARLY",
           "Conshohocken, PA"
          ],
          [
           "JTI (Japan Tobacco International)",
           "Marketing Coordinator",
           null,
           null,
           "Raleigh, NC"
          ],
          [
           "Millennium Recruiting, Inc.",
           "Marketing Coordinator",
           null,
           null,
           "Tampa, FL"
          ],
          [
           "WTA Architects",
           "Marketing Coordinator",
           null,
           null,
           "Saginaw, MI"
          ],
          [
           "MFM Search LLC",
           "Marketing Coordinator",
           70000,
           "YEARLY",
           "Tampa, FL"
          ],
          [
           "Olympia Pharmaceuticals",
           "Marketing Coordinator",
           45000,
           "YEARLY",
           "Orlando, FL"
          ],
          [
           "Redapt, Inc.",
           "Marketing Coordinator",
           55000,
           "YEARLY",
           "Greater Seattle Area"
          ],
          [
           "UJAMAA Construction",
           "Marketing Coordinator",
           45000,
           "YEARLY",
           "Atlanta Metropolitan Area"
          ],
          [
           "HardHead",
           "Marketing Coordinator",
           48000,
           "YEARLY",
           "Miami, FL"
          ],
          [
           "MacuHealth",
           "Marketing Coordinator",
           null,
           null,
           "Bloomfield Hills, MI"
          ],
          [
           "Broad River Retail",
           "Marketing Coordinator",
           43000,
           "YEARLY",
           "Fort Mill, SC"
          ],
          [
           "Burnett Specialists Staffing | Recruiting",
           "Marketing Coordinator",
           null,
           null,
           "Austin, TX"
          ],
          [
           "Aegis Living",
           "Marketing Coordinator",
           25,
           "HOURLY",
           "Newcastle, WA"
          ],
          [
           "Abel + Schafer | Komplet",
           "Marketing Coordinator",
           null,
           null,
           "New York City Metropolitan Area"
          ],
          [
           "LUXE Properties",
           "Marketing Coordinator",
           20,
           "HOURLY",
           "Miami, FL"
          ],
          [
           "SurgiShop",
           "Marketing Coordinator",
           55000,
           "YEARLY",
           "Lutz, FL"
          ],
          [
           "QPharma, Inc.",
           "Marketing Coordinator",
           null,
           null,
           "Morristown, NJ"
          ],
          [
           "RAYUS Radiology",
           "Marketing Coordinator",
           null,
           null,
           "St Louis Park, MN"
          ],
          [
           "Ensemble Health Partners",
           "Marketing Coordinator",
           null,
           null,
           "United States"
          ],
          [
           "Citizendum",
           "Marketing Coordinator",
           39000,
           "YEARLY",
           "Fort Lauderdale, FL"
          ],
          [
           "Berkshire Hathaway HomeServices Fox & Roach, Realtors",
           "Marketing Coordinator",
           null,
           null,
           "Haverford, PA"
          ],
          [
           "Lucky Lincoln Gaming, LLC",
           "Marketing Coordinator",
           50000,
           "YEARLY",
           "McHenry County, IL"
          ],
          [
           "BlackDog Advertising",
           "Marketing Coordinator",
           35000,
           "YEARLY",
           "United States"
          ],
          [
           "Lucky Lincoln Gaming, LLC",
           "Marketing Coordinator",
           50000,
           "YEARLY",
           "Aurora, IL"
          ],
          [
           "Lucky Lincoln Gaming, LLC",
           "Marketing Coordinator",
           50000,
           "YEARLY",
           "Aurora, IL"
          ],
          [
           "Millennium Recruiting, Inc.",
           "Marketing Coordinator",
           null,
           null,
           "Boston, MA"
          ],
          [
           "Millennium Recruiting, Inc.",
           "Marketing Coordinator",
           null,
           null,
           "Tampa, FL"
          ],
          [
           "Millennium Recruiting, Inc.",
           "Marketing Coordinator",
           null,
           null,
           "Dallas-Fort Worth Metroplex"
          ],
          [
           "Millennium Recruiting, Inc.",
           "Marketing Coordinator",
           null,
           null,
           "Virginia Beach, VA"
          ],
          [
           null,
           "Marketing Coordinator",
           45000,
           "YEARLY",
           "Grand Rapids Metropolitan Area"
          ],
          [
           "Clearwater Free Clinic",
           "Marketing Coordinator",
           38355,
           "YEARLY",
           "Clearwater, FL"
          ],
          [
           "Millennium Recruiting, Inc.",
           "Marketing Coordinator",
           null,
           null,
           "Pasadena, CA"
          ],
          [
           "Millennium Recruiting, Inc.",
           "Marketing Coordinator",
           null,
           null,
           "Miami, FL"
          ],
          [
           "MAC Partners",
           "Marketing Coordinator",
           null,
           null,
           "Dallas, TX"
          ],
          [
           "Millennium Recruiting, Inc.",
           "Marketing Coordinator",
           null,
           null,
           "Pittsburgh, PA"
          ],
          [
           "Millennium Recruiting, Inc.",
           "Marketing Coordinator",
           null,
           null,
           "Savannah, GA"
          ],
          [
           "Merlin Entertainments",
           "Marketing Coordinator",
           20,
           "HOURLY",
           "North Richland Hills, TX"
          ],
          [
           "Barnum Financial Group",
           "Marketing Coordinator",
           null,
           null,
           "Shelton, CT"
          ],
          [
           "613 Originals",
           "Marketing Coordinator",
           null,
           null,
           "Mahwah, NJ"
          ]
         ],
         "hovertemplate": "<b>Company:</b> %{customdata[0]}<br><b>Job Title:</b> %{customdata[1]}<br><b>Min Salary:</b> %{customdata[2]}<br><b>Pay Period:</b> %{customdata[3]}<br><b>Location:</b> %{customdata[4]}<br><extra></extra>",
         "legendgroup": "FULL_TIME",
         "marker": {
          "color": "#ab63fa",
          "symbol": "circle"
         },
         "mode": "markers",
         "name": "FULL_TIME",
         "orientation": "v",
         "showlegend": true,
         "type": "scatter",
         "x": [
          20,
          85000,
          null,
          50000,
          null,
          null,
          null,
          55000,
          null,
          null,
          null,
          75000,
          65000,
          60000,
          55000,
          54000,
          null,
          48000,
          null,
          28,
          null,
          25,
          75000,
          null,
          null,
          null,
          41000,
          null,
          60000,
          45000,
          60000,
          60000,
          null,
          null,
          null,
          null,
          65000,
          42435,
          null,
          null,
          null,
          null,
          null,
          21,
          null,
          null
         ],
         "xaxis": "x",
         "y": [
          38480,
          80000,
          null,
          46500,
          null,
          null,
          null,
          52500,
          null,
          null,
          null,
          72500,
          55000,
          57500,
          50000,
          51000,
          null,
          45500,
          null,
          55120,
          null,
          46800,
          65000,
          null,
          null,
          null,
          40000,
          null,
          55000,
          40000,
          55000,
          55000,
          null,
          null,
          null,
          null,
          55000,
          40395,
          null,
          null,
          null,
          null,
          null,
          42640,
          null,
          null
         ],
         "yaxis": "y"
        },
        {
         "customdata": [
          [
           "Vertisystem",
           "Marketing Coordinator",
           null,
           null,
           "New York, NY"
          ],
          [
           "Coco Republic US",
           "Marketing Coordinator",
           null,
           null,
           "Los Angeles, CA"
          ],
          [
           "Ultimate Staffing",
           "Marketing Coordinator",
           27,
           "HOURLY",
           "Newport Beach, CA"
          ],
          [
           "Ultimate Staffing",
           "Marketing Coordinator",
           27,
           "HOURLY",
           "Newport Beach, CA"
          ]
         ],
         "hovertemplate": "<b>Company:</b> %{customdata[0]}<br><b>Job Title:</b> %{customdata[1]}<br><b>Min Salary:</b> %{customdata[2]}<br><b>Pay Period:</b> %{customdata[3]}<br><b>Location:</b> %{customdata[4]}<br><extra></extra>",
         "legendgroup": "CONTRACT",
         "marker": {
          "color": "#FFA15A",
          "symbol": "diamond"
         },
         "mode": "markers",
         "name": "CONTRACT",
         "orientation": "v",
         "showlegend": true,
         "type": "scatter",
         "x": [
          null,
          null,
          31.02,
          31.67
         ],
         "xaxis": "x",
         "y": [
          null,
          null,
          60340.8,
          61016.8
         ],
         "yaxis": "y"
        },
        {
         "customdata": [
          [
           "Syndicatebleu",
           "Marketing Coordinator",
           null,
           null,
           "Los Angeles, CA"
          ]
         ],
         "hovertemplate": "<b>Company:</b> %{customdata[0]}<br><b>Job Title:</b> %{customdata[1]}<br><b>Min Salary:</b> %{customdata[2]}<br><b>Pay Period:</b> %{customdata[3]}<br><b>Location:</b> %{customdata[4]}<br><extra></extra>",
         "legendgroup": "TEMPORARY",
         "marker": {
          "color": "#19d3f3",
          "symbol": "square"
         },
         "mode": "markers",
         "name": "TEMPORARY",
         "orientation": "v",
         "showlegend": true,
         "type": "scatter",
         "x": [
          null
         ],
         "xaxis": "x",
         "y": [
          null
         ],
         "yaxis": "y"
        }
       ],
       "layout": {
        "autosize": true,
        "legend": {
         "title": {
          "text": "work_type"
         },
         "tracegroupgap": 0
        },
        "template": {
         "data": {
          "bar": [
           {
            "error_x": {
             "color": "#2a3f5f"
            },
            "error_y": {
             "color": "#2a3f5f"
            },
            "marker": {
             "line": {
              "color": "#E5ECF6",
              "width": 0.5
             },
             "pattern": {
              "fillmode": "overlay",
              "size": 10,
              "solidity": 0.2
             }
            },
            "type": "bar"
           }
          ],
          "barpolar": [
           {
            "marker": {
             "line": {
              "color": "#E5ECF6",
              "width": 0.5
             },
             "pattern": {
              "fillmode": "overlay",
              "size": 10,
              "solidity": 0.2
             }
            },
            "type": "barpolar"
           }
          ],
          "carpet": [
           {
            "aaxis": {
             "endlinecolor": "#2a3f5f",
             "gridcolor": "white",
             "linecolor": "white",
             "minorgridcolor": "white",
             "startlinecolor": "#2a3f5f"
            },
            "baxis": {
             "endlinecolor": "#2a3f5f",
             "gridcolor": "white",
             "linecolor": "white",
             "minorgridcolor": "white",
             "startlinecolor": "#2a3f5f"
            },
            "type": "carpet"
           }
          ],
          "choropleth": [
           {
            "colorbar": {
             "outlinewidth": 0,
             "ticks": ""
            },
            "type": "choropleth"
           }
          ],
          "contour": [
           {
            "colorbar": {
             "outlinewidth": 0,
             "ticks": ""
            },
            "colorscale": [
             [
              0,
              "#0d0887"
             ],
             [
              0.1111111111111111,
              "#46039f"
             ],
             [
              0.2222222222222222,
              "#7201a8"
             ],
             [
              0.3333333333333333,
              "#9c179e"
             ],
             [
              0.4444444444444444,
              "#bd3786"
             ],
             [
              0.5555555555555556,
              "#d8576b"
             ],
             [
              0.6666666666666666,
              "#ed7953"
             ],
             [
              0.7777777777777778,
              "#fb9f3a"
             ],
             [
              0.8888888888888888,
              "#fdca26"
             ],
             [
              1,
              "#f0f921"
             ]
            ],
            "type": "contour"
           }
          ],
          "contourcarpet": [
           {
            "colorbar": {
             "outlinewidth": 0,
             "ticks": ""
            },
            "type": "contourcarpet"
           }
          ],
          "heatmap": [
           {
            "colorbar": {
             "outlinewidth": 0,
             "ticks": ""
            },
            "colorscale": [
             [
              0,
              "#0d0887"
             ],
             [
              0.1111111111111111,
              "#46039f"
             ],
             [
              0.2222222222222222,
              "#7201a8"
             ],
             [
              0.3333333333333333,
              "#9c179e"
             ],
             [
              0.4444444444444444,
              "#bd3786"
             ],
             [
              0.5555555555555556,
              "#d8576b"
             ],
             [
              0.6666666666666666,
              "#ed7953"
             ],
             [
              0.7777777777777778,
              "#fb9f3a"
             ],
             [
              0.8888888888888888,
              "#fdca26"
             ],
             [
              1,
              "#f0f921"
             ]
            ],
            "type": "heatmap"
           }
          ],
          "heatmapgl": [
           {
            "colorbar": {
             "outlinewidth": 0,
             "ticks": ""
            },
            "colorscale": [
             [
              0,
              "#0d0887"
             ],
             [
              0.1111111111111111,
              "#46039f"
             ],
             [
              0.2222222222222222,
              "#7201a8"
             ],
             [
              0.3333333333333333,
              "#9c179e"
             ],
             [
              0.4444444444444444,
              "#bd3786"
             ],
             [
              0.5555555555555556,
              "#d8576b"
             ],
             [
              0.6666666666666666,
              "#ed7953"
             ],
             [
              0.7777777777777778,
              "#fb9f3a"
             ],
             [
              0.8888888888888888,
              "#fdca26"
             ],
             [
              1,
              "#f0f921"
             ]
            ],
            "type": "heatmapgl"
           }
          ],
          "histogram": [
           {
            "marker": {
             "pattern": {
              "fillmode": "overlay",
              "size": 10,
              "solidity": 0.2
             }
            },
            "type": "histogram"
           }
          ],
          "histogram2d": [
           {
            "colorbar": {
             "outlinewidth": 0,
             "ticks": ""
            },
            "colorscale": [
             [
              0,
              "#0d0887"
             ],
             [
              0.1111111111111111,
              "#46039f"
             ],
             [
              0.2222222222222222,
              "#7201a8"
             ],
             [
              0.3333333333333333,
              "#9c179e"
             ],
             [
              0.4444444444444444,
              "#bd3786"
             ],
             [
              0.5555555555555556,
              "#d8576b"
             ],
             [
              0.6666666666666666,
              "#ed7953"
             ],
             [
              0.7777777777777778,
              "#fb9f3a"
             ],
             [
              0.8888888888888888,
              "#fdca26"
             ],
             [
              1,
              "#f0f921"
             ]
            ],
            "type": "histogram2d"
           }
          ],
          "histogram2dcontour": [
           {
            "colorbar": {
             "outlinewidth": 0,
             "ticks": ""
            },
            "colorscale": [
             [
              0,
              "#0d0887"
             ],
             [
              0.1111111111111111,
              "#46039f"
             ],
             [
              0.2222222222222222,
              "#7201a8"
             ],
             [
              0.3333333333333333,
              "#9c179e"
             ],
             [
              0.4444444444444444,
              "#bd3786"
             ],
             [
              0.5555555555555556,
              "#d8576b"
             ],
             [
              0.6666666666666666,
              "#ed7953"
             ],
             [
              0.7777777777777778,
              "#fb9f3a"
             ],
             [
              0.8888888888888888,
              "#fdca26"
             ],
             [
              1,
              "#f0f921"
             ]
            ],
            "type": "histogram2dcontour"
           }
          ],
          "mesh3d": [
           {
            "colorbar": {
             "outlinewidth": 0,
             "ticks": ""
            },
            "type": "mesh3d"
           }
          ],
          "parcoords": [
           {
            "line": {
             "colorbar": {
              "outlinewidth": 0,
              "ticks": ""
             }
            },
            "type": "parcoords"
           }
          ],
          "pie": [
           {
            "automargin": true,
            "type": "pie"
           }
          ],
          "scatter": [
           {
            "fillpattern": {
             "fillmode": "overlay",
             "size": 10,
             "solidity": 0.2
            },
            "type": "scatter"
           }
          ],
          "scatter3d": [
           {
            "line": {
             "colorbar": {
              "outlinewidth": 0,
              "ticks": ""
             }
            },
            "marker": {
             "colorbar": {
              "outlinewidth": 0,
              "ticks": ""
             }
            },
            "type": "scatter3d"
           }
          ],
          "scattercarpet": [
           {
            "marker": {
             "colorbar": {
              "outlinewidth": 0,
              "ticks": ""
             }
            },
            "type": "scattercarpet"
           }
          ],
          "scattergeo": [
           {
            "marker": {
             "colorbar": {
              "outlinewidth": 0,
              "ticks": ""
             }
            },
            "type": "scattergeo"
           }
          ],
          "scattergl": [
           {
            "marker": {
             "colorbar": {
              "outlinewidth": 0,
              "ticks": ""
             }
            },
            "type": "scattergl"
           }
          ],
          "scattermapbox": [
           {
            "marker": {
             "colorbar": {
              "outlinewidth": 0,
              "ticks": ""
             }
            },
            "type": "scattermapbox"
           }
          ],
          "scatterpolar": [
           {
            "marker": {
             "colorbar": {
              "outlinewidth": 0,
              "ticks": ""
             }
            },
            "type": "scatterpolar"
           }
          ],
          "scatterpolargl": [
           {
            "marker": {
             "colorbar": {
              "outlinewidth": 0,
              "ticks": ""
             }
            },
            "type": "scatterpolargl"
           }
          ],
          "scatterternary": [
           {
            "marker": {
             "colorbar": {
              "outlinewidth": 0,
              "ticks": ""
             }
            },
            "type": "scatterternary"
           }
          ],
          "surface": [
           {
            "colorbar": {
             "outlinewidth": 0,
             "ticks": ""
            },
            "colorscale": [
             [
              0,
              "#0d0887"
             ],
             [
              0.1111111111111111,
              "#46039f"
             ],
             [
              0.2222222222222222,
              "#7201a8"
             ],
             [
              0.3333333333333333,
              "#9c179e"
             ],
             [
              0.4444444444444444,
              "#bd3786"
             ],
             [
              0.5555555555555556,
              "#d8576b"
             ],
             [
              0.6666666666666666,
              "#ed7953"
             ],
             [
              0.7777777777777778,
              "#fb9f3a"
             ],
             [
              0.8888888888888888,
              "#fdca26"
             ],
             [
              1,
              "#f0f921"
             ]
            ],
            "type": "surface"
           }
          ],
          "table": [
           {
            "cells": {
             "fill": {
              "color": "#EBF0F8"
             },
             "line": {
              "color": "white"
             }
            },
            "header": {
             "fill": {
              "color": "#C8D4E3"
             },
             "line": {
              "color": "white"
             }
            },
            "type": "table"
           }
          ]
         },
         "layout": {
          "annotationdefaults": {
           "arrowcolor": "#2a3f5f",
           "arrowhead": 0,
           "arrowwidth": 1
          },
          "autotypenumbers": "strict",
          "coloraxis": {
           "colorbar": {
            "outlinewidth": 0,
            "ticks": ""
           }
          },
          "colorscale": {
           "diverging": [
            [
             0,
             "#8e0152"
            ],
            [
             0.1,
             "#c51b7d"
            ],
            [
             0.2,
             "#de77ae"
            ],
            [
             0.3,
             "#f1b6da"
            ],
            [
             0.4,
             "#fde0ef"
            ],
            [
             0.5,
             "#f7f7f7"
            ],
            [
             0.6,
             "#e6f5d0"
            ],
            [
             0.7,
             "#b8e186"
            ],
            [
             0.8,
             "#7fbc41"
            ],
            [
             0.9,
             "#4d9221"
            ],
            [
             1,
             "#276419"
            ]
           ],
           "sequential": [
            [
             0,
             "#0d0887"
            ],
            [
             0.1111111111111111,
             "#46039f"
            ],
            [
             0.2222222222222222,
             "#7201a8"
            ],
            [
             0.3333333333333333,
             "#9c179e"
            ],
            [
             0.4444444444444444,
             "#bd3786"
            ],
            [
             0.5555555555555556,
             "#d8576b"
            ],
            [
             0.6666666666666666,
             "#ed7953"
            ],
            [
             0.7777777777777778,
             "#fb9f3a"
            ],
            [
             0.8888888888888888,
             "#fdca26"
            ],
            [
             1,
             "#f0f921"
            ]
           ],
           "sequentialminus": [
            [
             0,
             "#0d0887"
            ],
            [
             0.1111111111111111,
             "#46039f"
            ],
            [
             0.2222222222222222,
             "#7201a8"
            ],
            [
             0.3333333333333333,
             "#9c179e"
            ],
            [
             0.4444444444444444,
             "#bd3786"
            ],
            [
             0.5555555555555556,
             "#d8576b"
            ],
            [
             0.6666666666666666,
             "#ed7953"
            ],
            [
             0.7777777777777778,
             "#fb9f3a"
            ],
            [
             0.8888888888888888,
             "#fdca26"
            ],
            [
             1,
             "#f0f921"
            ]
           ]
          },
          "colorway": [
           "#636efa",
           "#EF553B",
           "#00cc96",
           "#ab63fa",
           "#FFA15A",
           "#19d3f3",
           "#FF6692",
           "#B6E880",
           "#FF97FF",
           "#FECB52"
          ],
          "font": {
           "color": "#2a3f5f"
          },
          "geo": {
           "bgcolor": "white",
           "lakecolor": "white",
           "landcolor": "#E5ECF6",
           "showlakes": true,
           "showland": true,
           "subunitcolor": "white"
          },
          "hoverlabel": {
           "align": "left"
          },
          "hovermode": "closest",
          "mapbox": {
           "style": "light"
          },
          "paper_bgcolor": "white",
          "plot_bgcolor": "#E5ECF6",
          "polar": {
           "angularaxis": {
            "gridcolor": "white",
            "linecolor": "white",
            "ticks": ""
           },
           "bgcolor": "#E5ECF6",
           "radialaxis": {
            "gridcolor": "white",
            "linecolor": "white",
            "ticks": ""
           }
          },
          "scene": {
           "xaxis": {
            "backgroundcolor": "#E5ECF6",
            "gridcolor": "white",
            "gridwidth": 2,
            "linecolor": "white",
            "showbackground": true,
            "ticks": "",
            "zerolinecolor": "white"
           },
           "yaxis": {
            "backgroundcolor": "#E5ECF6",
            "gridcolor": "white",
            "gridwidth": 2,
            "linecolor": "white",
            "showbackground": true,
            "ticks": "",
            "zerolinecolor": "white"
           },
           "zaxis": {
            "backgroundcolor": "#E5ECF6",
            "gridcolor": "white",
            "gridwidth": 2,
            "linecolor": "white",
            "showbackground": true,
            "ticks": "",
            "zerolinecolor": "white"
           }
          },
          "shapedefaults": {
           "line": {
            "color": "#2a3f5f"
           }
          },
          "ternary": {
           "aaxis": {
            "gridcolor": "white",
            "linecolor": "white",
            "ticks": ""
           },
           "baxis": {
            "gridcolor": "white",
            "linecolor": "white",
            "ticks": ""
           },
           "bgcolor": "#E5ECF6",
           "caxis": {
            "gridcolor": "white",
            "linecolor": "white",
            "ticks": ""
           }
          },
          "title": {
           "x": 0.05
          },
          "xaxis": {
           "automargin": true,
           "gridcolor": "white",
           "linecolor": "white",
           "ticks": "",
           "title": {
            "standoff": 15
           },
           "zerolinecolor": "white",
           "zerolinewidth": 2
          },
          "yaxis": {
           "automargin": true,
           "gridcolor": "white",
           "linecolor": "white",
           "ticks": "",
           "title": {
            "standoff": 15
           },
           "zerolinecolor": "white",
           "zerolinewidth": 2
          }
         }
        },
        "title": {
         "text": "Job Comparison by Salary and Work Type"
        },
        "xaxis": {
         "anchor": "y",
         "autorange": true,
         "domain": [
          0,
          1
         ],
         "range": [
          -5210.950323974082,
          90230.95032397409
         ],
         "title": {
          "text": "Max Salary"
         },
         "type": "linear"
        },
        "yaxis": {
         "anchor": "x",
         "autorange": true,
         "domain": [
          0,
          1
         ],
         "range": [
          35053.59223300971,
          83426.40776699029
         ],
         "title": {
          "text": "Normalized Salary"
         },
         "type": "linear"
        }
       }
      },
      "image/png": "[encoded data removed]",
      "text/html": [
       "<div>                            <div id=\"ab1d8cdf-686d-457f-885f-f9430330db8d\" class=\"plotly-graph-div\" style=\"height:525px; width:100%;\"></div>            <script type=\"text/javascript\">                require([\"plotly\"], function(Plotly) {                    window.PLOTLYENV=window.PLOTLYENV || {};                                    if (document.getElementById(\"ab1d8cdf-686d-457f-885f-f9430330db8d\")) {                    Plotly.newPlot(                        \"ab1d8cdf-686d-457f-885f-f9430330db8d\",                        [{\"customdata\":[[\"Corcoran Sawyer Smith\",\"Marketing Coordinator\",17.0,\"HOURLY\",\"Princeton, NJ\"],[\"Lynx Systems\",\"Marketing Coordinator\",75000.0,\"YEARLY\",\"Richardson, TX\"],[\"Riverbend Sandler Pools\",\"Marketing Coordinator\",null,null,\"Southlake, TX\"],[\"The Contingent\",\"Marketing Coordinator\",43000.0,\"YEARLY\",\"Indianapolis, IN\"],[\"Wolf Line Construction\",\"Marketing Coordinator\",null,null,\"North Charleston, SC\"],[\"ROOT3 Marketing & Business Development\",\"Marketing Coordinator\",null,null,\"Chicago, IL\"],[\"Provisions Group\",\"Marketing Coordinator\",null,null,\"Nashville Metropolitan Area\"],[\"Morgan Properties\",\"Marketing Coordinator\",50000.0,\"YEARLY\",\"Conshohocken, PA\"],[\"JTI (Japan Tobacco International)\",\"Marketing Coordinator\",null,null,\"Raleigh, NC\"],[\"Millennium Recruiting, Inc.\",\"Marketing Coordinator\",null,null,\"Tampa, FL\"],[\"WTA Architects\",\"Marketing Coordinator\",null,null,\"Saginaw, MI\"],[\"MFM Search LLC\",\"Marketing Coordinator\",70000.0,\"YEARLY\",\"Tampa, FL\"],[\"Olympia Pharmaceuticals\",\"Marketing Coordinator\",45000.0,\"YEARLY\",\"Orlando, FL\"],[\"Redapt, Inc.\",\"Marketing Coordinator\",55000.0,\"YEARLY\",\"Greater Seattle Area\"],[\"UJAMAA Construction\",\"Marketing Coordinator\",45000.0,\"YEARLY\",\"Atlanta Metropolitan Area\"],[\"HardHead\",\"Marketing Coordinator\",48000.0,\"YEARLY\",\"Miami, FL\"],[\"MacuHealth\",\"Marketing Coordinator\",null,null,\"Bloomfield Hills, MI\"],[\"Broad River Retail\",\"Marketing Coordinator\",43000.0,\"YEARLY\",\"Fort Mill, SC\"],[\"Burnett Specialists Staffing | Recruiting\",\"Marketing Coordinator\",null,null,\"Austin, TX\"],[\"Aegis Living\",\"Marketing Coordinator\",25.0,\"HOURLY\",\"Newcastle, WA\"],[\"Abel + Schafer | Komplet\",\"Marketing Coordinator\",null,null,\"New York City Metropolitan Area\"],[\"LUXE Properties\",\"Marketing Coordinator\",20.0,\"HOURLY\",\"Miami, FL\"],[\"SurgiShop\",\"Marketing Coordinator\",55000.0,\"YEARLY\",\"Lutz, FL\"],[\"QPharma, Inc.\",\"Marketing Coordinator\",null,null,\"Morristown, NJ\"],[\"RAYUS Radiology\",\"Marketing Coordinator\",null,null,\"St Louis Park, MN\"],[\"Ensemble Health Partners\",\"Marketing Coordinator\",null,null,\"United States\"],[\"Citizendum\",\"Marketing Coordinator\",39000.0,\"YEARLY\",\"Fort Lauderdale, FL\"],[\"Berkshire Hathaway HomeServices Fox & Roach, Realtors\",\"Marketing Coordinator\",null,null,\"Haverford, PA\"],[\"Lucky Lincoln Gaming, LLC\",\"Marketing Coordinator\",50000.0,\"YEARLY\",\"McHenry County, IL\"],[\"BlackDog Advertising\",\"Marketing Coordinator\",35000.0,\"YEARLY\",\"United States\"],[\"Lucky Lincoln Gaming, LLC\",\"Marketing Coordinator\",50000.0,\"YEARLY\",\"Aurora, IL\"],[\"Lucky Lincoln Gaming, LLC\",\"Marketing Coordinator\",50000.0,\"YEARLY\",\"Aurora, IL\"],[\"Millennium Recruiting, Inc.\",\"Marketing Coordinator\",null,null,\"Boston, MA\"],[\"Millennium Recruiting, Inc.\",\"Marketing Coordinator\",null,null,\"Tampa, FL\"],[\"Millennium Recruiting, Inc.\",\"Marketing Coordinator\",null,null,\"Dallas-Fort Worth Metroplex\"],[\"Millennium Recruiting, Inc.\",\"Marketing Coordinator\",null,null,\"Virginia Beach, VA\"],[null,\"Marketing Coordinator\",45000.0,\"YEARLY\",\"Grand Rapids Metropolitan Area\"],[\"Clearwater Free Clinic\",\"Marketing Coordinator\",38355.0,\"YEARLY\",\"Clearwater, FL\"],[\"Millennium Recruiting, Inc.\",\"Marketing Coordinator\",null,null,\"Pasadena, CA\"],[\"Millennium Recruiting, Inc.\",\"Marketing Coordinator\",null,null,\"Miami, FL\"],[\"MAC Partners\",\"Marketing Coordinator\",null,null,\"Dallas, TX\"],[\"Millennium Recruiting, Inc.\",\"Marketing Coordinator\",null,null,\"Pittsburgh, PA\"],[\"Millennium Recruiting, Inc.\",\"Marketing Coordinator\",null,null,\"Savannah, GA\"],[\"Merlin Entertainments\",\"Marketing Coordinator\",20.0,\"HOURLY\",\"North Richland Hills, TX\"],[\"Barnum Financial Group\",\"Marketing Coordinator\",null,null,\"Shelton, CT\"],[\"613 Originals\",\"Marketing Coordinator\",null,null,\"Mahwah, NJ\"]],\"hovertemplate\":\"\\u003cb\\u003eCompany:\\u003c\\u002fb\\u003e %{customdata[0]}\\u003cbr\\u003e\\u003cb\\u003eJob Title:\\u003c\\u002fb\\u003e %{customdata[1]}\\u003cbr\\u003e\\u003cb\\u003eMin Salary:\\u003c\\u002fb\\u003e %{customdata[2]}\\u003cbr\\u003e\\u003cb\\u003ePay Period:\\u003c\\u002fb\\u003e %{customdata[3]}\\u003cbr\\u003e\\u003cb\\u003eLocation:\\u003c\\u002fb\\u003e %{customdata[4]}\\u003cbr\\u003e\\u003cextra\\u003e\\u003c\\u002fextra\\u003e\",\"legendgroup\":\"FULL_TIME\",\"marker\":{\"color\":\"#ab63fa\",\"symbol\":\"circle\"},\"mode\":\"markers\",\"name\":\"FULL_TIME\",\"orientation\":\"v\",\"showlegend\":true,\"x\":[20.0,85000.0,null,50000.0,null,null,null,55000.0,null,null,null,75000.0,65000.0,60000.0,55000.0,54000.0,null,48000.0,null,28.0,null,25.0,75000.0,null,null,null,41000.0,null,60000.0,45000.0,60000.0,60000.0,null,null,null,null,65000.0,42435.0,null,null,null,null,null,21.0,null,null],\"xaxis\":\"x\",\"y\":[38480.0,80000.0,null,46500.0,null,null,null,52500.0,null,null,null,72500.0,55000.0,57500.0,50000.0,51000.0,null,45500.0,null,55120.0,null,46800.0,65000.0,null,null,null,40000.0,null,55000.0,40000.0,55000.0,55000.0,null,null,null,null,55000.0,40395.0,null,null,null,null,null,42640.0,null,null],\"yaxis\":\"y\",\"type\":\"scatter\"},{\"customdata\":[[\"Vertisystem\",\"Marketing Coordinator\",null,null,\"New York, NY\"],[\"Coco Republic US\",\"Marketing Coordinator\",null,null,\"Los Angeles, CA\"],[\"Ultimate Staffing\",\"Marketing Coordinator\",27.0,\"HOURLY\",\"Newport Beach, CA\"],[\"Ultimate Staffing\",\"Marketing Coordinator\",27.0,\"HOURLY\",\"Newport Beach, CA\"]],\"hovertemplate\":\"\\u003cb\\u003eCompany:\\u003c\\u002fb\\u003e %{customdata[0]}\\u003cbr\\u003e\\u003cb\\u003eJob Title:\\u003c\\u002fb\\u003e %{customdata[1]}\\u003cbr\\u003e\\u003cb\\u003eMin Salary:\\u003c\\u002fb\\u003e %{customdata[2]}\\u003cbr\\u003e\\u003cb\\u003ePay Period:\\u003c\\u002fb\\u003e %{customdata[3]}\\u003cbr\\u003e\\u003cb\\u003eLocation:\\u003c\\u002fb\\u003e %{customdata[4]}\\u003cbr\\u003e\\u003cextra\\u003e\\u003c\\u002fextra\\u003e\",\"legendgroup\":\"CONTRACT\",\"marker\":{\"color\":\"#FFA15A\",\"symbol\":\"diamond\"},\"mode\":\"markers\",\"name\":\"CONTRACT\",\"orientation\":\"v\",\"showlegend\":true,\"x\":[null,null,31.02,31.67],\"xaxis\":\"x\",\"y\":[null,null,60340.8,61016.8],\"yaxis\":\"y\",\"type\":\"scatter\"},{\"customdata\":[[\"Syndicatebleu\",\"Marketing Coordinator\",null,null,\"Los Angeles, CA\"]],\"hovertemplate\":\"\\u003cb\\u003eCompany:\\u003c\\u002fb\\u003e %{customdata[0]}\\u003cbr\\u003e\\u003cb\\u003eJob Title:\\u003c\\u002fb\\u003e %{customdata[1]}\\u003cbr\\u003e\\u003cb\\u003eMin Salary:\\u003c\\u002fb\\u003e %{customdata[2]}\\u003cbr\\u003e\\u003cb\\u003ePay Period:\\u003c\\u002fb\\u003e %{customdata[3]}\\u003cbr\\u003e\\u003cb\\u003eLocation:\\u003c\\u002fb\\u003e %{customdata[4]}\\u003cbr\\u003e\\u003cextra\\u003e\\u003c\\u002fextra\\u003e\",\"legendgroup\":\"TEMPORARY\",\"marker\":{\"color\":\"#19d3f3\",\"symbol\":\"square\"},\"mode\":\"markers\",\"name\":\"TEMPORARY\",\"orientation\":\"v\",\"showlegend\":true,\"x\":[null],\"xaxis\":\"x\",\"y\":[null],\"yaxis\":\"y\",\"type\":\"scatter\"}],                        {\"template\":{\"data\":{\"histogram2dcontour\":[{\"type\":\"histogram2dcontour\",\"colorbar\":{\"outlinewidth\":0,\"ticks\":\"\"},\"colorscale\":[[0.0,\"#0d0887\"],[0.1111111111111111,\"#46039f\"],[0.2222222222222222,\"#7201a8\"],[0.3333333333333333,\"#9c179e\"],[0.4444444444444444,\"#bd3786\"],[0.5555555555555556,\"#d8576b\"],[0.6666666666666666,\"#ed7953\"],[0.7777777777777778,\"#fb9f3a\"],[0.8888888888888888,\"#fdca26\"],[1.0,\"#f0f921\"]]}],\"choropleth\":[{\"type\":\"choropleth\",\"colorbar\":{\"outlinewidth\":0,\"ticks\":\"\"}}],\"histogram2d\":[{\"type\":\"histogram2d\",\"colorbar\":{\"outlinewidth\":0,\"ticks\":\"\"},\"colorscale\":[[0.0,\"#0d0887\"],[0.1111111111111111,\"#46039f\"],[0.2222222222222222,\"#7201a8\"],[0.3333333333333333,\"#9c179e\"],[0.4444444444444444,\"#bd3786\"],[0.5555555555555556,\"#d8576b\"],[0.6666666666666666,\"#ed7953\"],[0.7777777777777778,\"#fb9f3a\"],[0.8888888888888888,\"#fdca26\"],[1.0,\"#f0f921\"]]}],\"heatmap\":[{\"type\":\"heatmap\",\"colorbar\":{\"outlinewidth\":0,\"ticks\":\"\"},\"colorscale\":[[0.0,\"#0d0887\"],[0.1111111111111111,\"#46039f\"],[0.2222222222222222,\"#7201a8\"],[0.3333333333333333,\"#9c179e\"],[0.4444444444444444,\"#bd3786\"],[0.5555555555555556,\"#d8576b\"],[0.6666666666666666,\"#ed7953\"],[0.7777777777777778,\"#fb9f3a\"],[0.8888888888888888,\"#fdca26\"],[1.0,\"#f0f921\"]]}],\"heatmapgl\":[{\"type\":\"heatmapgl\",\"colorbar\":{\"outlinewidth\":0,\"ticks\":\"\"},\"colorscale\":[[0.0,\"#0d0887\"],[0.1111111111111111,\"#46039f\"],[0.2222222222222222,\"#7201a8\"],[0.3333333333333333,\"#9c179e\"],[0.4444444444444444,\"#bd3786\"],[0.5555555555555556,\"#d8576b\"],[0.6666666666666666,\"#ed7953\"],[0.7777777777777778,\"#fb9f3a\"],[0.8888888888888888,\"#fdca26\"],[1.0,\"#f0f921\"]]}],\"contourcarpet\":[{\"type\":\"contourcarpet\",\"colorbar\":{\"outlinewidth\":0,\"ticks\":\"\"}}],\"contour\":[{\"type\":\"contour\",\"colorbar\":{\"outlinewidth\":0,\"ticks\":\"\"},\"colorscale\":[[0.0,\"#0d0887\"],[0.1111111111111111,\"#46039f\"],[0.2222222222222222,\"#7201a8\"],[0.3333333333333333,\"#9c179e\"],[0.4444444444444444,\"#bd3786\"],[0.5555555555555556,\"#d8576b\"],[0.6666666666666666,\"#ed7953\"],[0.7777777777777778,\"#fb9f3a\"],[0.8888888888888888,\"#fdca26\"],[1.0,\"#f0f921\"]]}],\"surface\":[{\"type\":\"surface\",\"colorbar\":{\"outlinewidth\":0,\"ticks\":\"\"},\"colorscale\":[[0.0,\"#0d0887\"],[0.1111111111111111,\"#46039f\"],[0.2222222222222222,\"#7201a8\"],[0.3333333333333333,\"#9c179e\"],[0.4444444444444444,\"#bd3786\"],[0.5555555555555556,\"#d8576b\"],[0.6666666666666666,\"#ed7953\"],[0.7777777777777778,\"#fb9f3a\"],[0.8888888888888888,\"#fdca26\"],[1.0,\"#f0f921\"]]}],\"mesh3d\":[{\"type\":\"mesh3d\",\"colorbar\":{\"outlinewidth\":0,\"ticks\":\"\"}}],\"scatter\":[{\"fillpattern\":{\"fillmode\":\"overlay\",\"size\":10,\"solidity\":0.2},\"type\":\"scatter\"}],\"parcoords\":[{\"type\":\"parcoords\",\"line\":{\"colorbar\":{\"outlinewidth\":0,\"ticks\":\"\"}}}],\"scatterpolargl\":[{\"type\":\"scatterpolargl\",\"marker\":{\"colorbar\":{\"outlinewidth\":0,\"ticks\":\"\"}}}],\"bar\":[{\"error_x\":{\"color\":\"#2a3f5f\"},\"error_y\":{\"color\":\"#2a3f5f\"},\"marker\":{\"line\":{\"color\":\"#E5ECF6\",\"width\":0.5},\"pattern\":{\"fillmode\":\"overlay\",\"size\":10,\"solidity\":0.2}},\"type\":\"bar\"}],\"scattergeo\":[{\"type\":\"scattergeo\",\"marker\":{\"colorbar\":{\"outlinewidth\":0,\"ticks\":\"\"}}}],\"scatterpolar\":[{\"type\":\"scatterpolar\",\"marker\":{\"colorbar\":{\"outlinewidth\":0,\"ticks\":\"\"}}}],\"histogram\":[{\"marker\":{\"pattern\":{\"fillmode\":\"overlay\",\"size\":10,\"solidity\":0.2}},\"type\":\"histogram\"}],\"scattergl\":[{\"type\":\"scattergl\",\"marker\":{\"colorbar\":{\"outlinewidth\":0,\"ticks\":\"\"}}}],\"scatter3d\":[{\"type\":\"scatter3d\",\"line\":{\"colorbar\":{\"outlinewidth\":0,\"ticks\":\"\"}},\"marker\":{\"colorbar\":{\"outlinewidth\":0,\"ticks\":\"\"}}}],\"scattermapbox\":[{\"type\":\"scattermapbox\",\"marker\":{\"colorbar\":{\"outlinewidth\":0,\"ticks\":\"\"}}}],\"scatterternary\":[{\"type\":\"scatterternary\",\"marker\":{\"colorbar\":{\"outlinewidth\":0,\"ticks\":\"\"}}}],\"scattercarpet\":[{\"type\":\"scattercarpet\",\"marker\":{\"colorbar\":{\"outlinewidth\":0,\"ticks\":\"\"}}}],\"carpet\":[{\"aaxis\":{\"endlinecolor\":\"#2a3f5f\",\"gridcolor\":\"white\",\"linecolor\":\"white\",\"minorgridcolor\":\"white\",\"startlinecolor\":\"#2a3f5f\"},\"baxis\":{\"endlinecolor\":\"#2a3f5f\",\"gridcolor\":\"white\",\"linecolor\":\"white\",\"minorgridcolor\":\"white\",\"startlinecolor\":\"#2a3f5f\"},\"type\":\"carpet\"}],\"table\":[{\"cells\":{\"fill\":{\"color\":\"#EBF0F8\"},\"line\":{\"color\":\"white\"}},\"header\":{\"fill\":{\"color\":\"#C8D4E3\"},\"line\":{\"color\":\"white\"}},\"type\":\"table\"}],\"barpolar\":[{\"marker\":{\"line\":{\"color\":\"#E5ECF6\",\"width\":0.5},\"pattern\":{\"fillmode\":\"overlay\",\"size\":10,\"solidity\":0.2}},\"type\":\"barpolar\"}],\"pie\":[{\"automargin\":true,\"type\":\"pie\"}]},\"layout\":{\"autotypenumbers\":\"strict\",\"colorway\":[\"#636efa\",\"#EF553B\",\"#00cc96\",\"#ab63fa\",\"#FFA15A\",\"#19d3f3\",\"#FF6692\",\"#B6E880\",\"#FF97FF\",\"#FECB52\"],\"font\":{\"color\":\"#2a3f5f\"},\"hovermode\":\"closest\",\"hoverlabel\":{\"align\":\"left\"},\"paper_bgcolor\":\"white\",\"plot_bgcolor\":\"#E5ECF6\",\"polar\":{\"bgcolor\":\"#E5ECF6\",\"angularaxis\":{\"gridcolor\":\"white\",\"linecolor\":\"white\",\"ticks\":\"\"},\"radialaxis\":{\"gridcolor\":\"white\",\"linecolor\":\"white\",\"ticks\":\"\"}},\"ternary\":{\"bgcolor\":\"#E5ECF6\",\"aaxis\":{\"gridcolor\":\"white\",\"linecolor\":\"white\",\"ticks\":\"\"},\"baxis\":{\"gridcolor\":\"white\",\"linecolor\":\"white\",\"ticks\":\"\"},\"caxis\":{\"gridcolor\":\"white\",\"linecolor\":\"white\",\"ticks\":\"\"}},\"coloraxis\":{\"colorbar\":{\"outlinewidth\":0,\"ticks\":\"\"}},\"colorscale\":{\"sequential\":[[0.0,\"#0d0887\"],[0.1111111111111111,\"#46039f\"],[0.2222222222222222,\"#7201a8\"],[0.3333333333333333,\"#9c179e\"],[0.4444444444444444,\"#bd3786\"],[0.5555555555555556,\"#d8576b\"],[0.6666666666666666,\"#ed7953\"],[0.7777777777777778,\"#fb9f3a\"],[0.8888888888888888,\"#fdca26\"],[1.0,\"#f0f921\"]],\"sequentialminus\":[[0.0,\"#0d0887\"],[0.1111111111111111,\"#46039f\"],[0.2222222222222222,\"#7201a8\"],[0.3333333333333333,\"#9c179e\"],[0.4444444444444444,\"#bd3786\"],[0.5555555555555556,\"#d8576b\"],[0.6666666666666666,\"#ed7953\"],[0.7777777777777778,\"#fb9f3a\"],[0.8888888888888888,\"#fdca26\"],[1.0,\"#f0f921\"]],\"diverging\":[[0,\"#8e0152\"],[0.1,\"#c51b7d\"],[0.2,\"#de77ae\"],[0.3,\"#f1b6da\"],[0.4,\"#fde0ef\"],[0.5,\"#f7f7f7\"],[0.6,\"#e6f5d0\"],[0.7,\"#b8e186\"],[0.8,\"#7fbc41\"],[0.9,\"#4d9221\"],[1,\"#276419\"]]},\"xaxis\":{\"gridcolor\":\"white\",\"linecolor\":\"white\",\"ticks\":\"\",\"title\":{\"standoff\":15},\"zerolinecolor\":\"white\",\"automargin\":true,\"zerolinewidth\":2},\"yaxis\":{\"gridcolor\":\"white\",\"linecolor\":\"white\",\"ticks\":\"\",\"title\":{\"standoff\":15},\"zerolinecolor\":\"white\",\"automargin\":true,\"zerolinewidth\":2},\"scene\":{\"xaxis\":{\"backgroundcolor\":\"#E5ECF6\",\"gridcolor\":\"white\",\"linecolor\":\"white\",\"showbackground\":true,\"ticks\":\"\",\"zerolinecolor\":\"white\",\"gridwidth\":2},\"yaxis\":{\"backgroundcolor\":\"#E5ECF6\",\"gridcolor\":\"white\",\"linecolor\":\"white\",\"showbackground\":true,\"ticks\":\"\",\"zerolinecolor\":\"white\",\"gridwidth\":2},\"zaxis\":{\"backgroundcolor\":\"#E5ECF6\",\"gridcolor\":\"white\",\"linecolor\":\"white\",\"showbackground\":true,\"ticks\":\"\",\"zerolinecolor\":\"white\",\"gridwidth\":2}},\"shapedefaults\":{\"line\":{\"color\":\"#2a3f5f\"}},\"annotationdefaults\":{\"arrowcolor\":\"#2a3f5f\",\"arrowhead\":0,\"arrowwidth\":1},\"geo\":{\"bgcolor\":\"white\",\"landcolor\":\"#E5ECF6\",\"subunitcolor\":\"white\",\"showland\":true,\"showlakes\":true,\"lakecolor\":\"white\"},\"title\":{\"x\":0.05},\"mapbox\":{\"style\":\"light\"}}},\"xaxis\":{\"anchor\":\"y\",\"domain\":[0.0,1.0],\"title\":{\"text\":\"Max Salary\"}},\"yaxis\":{\"anchor\":\"x\",\"domain\":[0.0,1.0],\"title\":{\"text\":\"Normalized Salary\"}},\"legend\":{\"title\":{\"text\":\"work_type\"},\"tracegroupgap\":0},\"title\":{\"text\":\"Job Comparison by Salary and Work Type\"}},                        {\"responsive\": true}                    ).then(function(){\n",
       "                            \n",
       "var gd = document.getElementById('ab1d8cdf-686d-457f-885f-f9430330db8d');\n",
       "var x = new MutationObserver(function (mutations, observer) {{\n",
       "        var display = window.getComputedStyle(gd).display;\n",
       "        if (!display || display === 'none') {{\n",
       "            console.log([gd, 'removed!']);\n",
       "            Plotly.purge(gd);\n",
       "            observer.disconnect();\n",
       "        }}\n",
       "}});\n",
       "\n",
       "// Listen for the removal of the full notebook cells\n",
       "var notebookContainer = gd.closest('#notebook-container');\n",
       "if (notebookContainer) {{\n",
       "    x.observe(notebookContainer, {childList: true});\n",
       "}}\n",
       "\n",
       "// Listen for the clearing of the current output cell\n",
       "var outputEl = gd.closest('.output');\n",
       "if (outputEl) {{\n",
       "    x.observe(outputEl, {childList: true});\n",
       "}}\n",
       "\n",
       "                        })                };                });            </script>        </div>"
      ]
     },
     "metadata": {},
     "output_type": "display_data"
    }
   ],
   "source": [
    "def wrap_text(text, max_length=50):\n",
    "    return '<br>'.join([text[i:i+max_length] for i in range(0, len(text), max_length)])\n",
    "\n",
    "MMPost['description_wrapped'] = MMPost['description'].apply(lambda x: wrap_text(x, max_length=50))\n",
    "\n",
    "fig3 = px.scatter(MMPost, \n",
    "                 x='max_salary', \n",
    "                 y='normalized_salary',  \n",
    "                 color='work_type',  \n",
    "                 symbol='work_type',  \n",
    "                 hover_data={'company_name':True, \n",
    "                             'title':True, \n",
    "                            'min_salary':True,\n",
    "                            'pay_period': True,\n",
    "                             'location':True},  \n",
    "                 title=\"Job Comparison by Salary and Work Type\",\n",
    "                 labels={'max_salary': 'Max Salary', 'normalized_salary': 'Normalized Salary'}, \n",
    "                 color_discrete_map={'Full Time': 'blue', 'Part Time': 'green', 'Contract': 'red'}  \n",
    "                )\n",
    "fig3.update_traces(\n",
    "    hovertemplate=(\n",
    "        \"<b>Company:</b> %{customdata[0]}<br>\"  \n",
    "        \"<b>Job Title:</b> %{customdata[1]}<br>\"  \n",
    "        \"<b>Min Salary:</b> %{customdata[2]}<br>\"  \n",
    "        \"<b>Pay Period:</b> %{customdata[3]}<br>\"  \n",
    "        \"<b>Location:</b> %{customdata[4]}<br>\"  \n",
    "\n",
    "        \"<extra></extra>\"  \n",
    "    ),\n",
    ")\n",
    "\n",
    "fig3.show()"
   ]
  },
  {
   "cell_type": "code",
   "execution_count": 55,
   "id": "264156ba-cc38-4fc3-82f4-25c6d8d4d252",
   "metadata": {},
   "outputs": [
    {
     "data": {
      "text/plain": [
       "<function __main__.wrap_text(text, max_length=10)>"
      ]
     },
     "execution_count": 55,
     "metadata": {},
     "output_type": "execute_result"
    }
   ],
   "source": [
    "wrap_text"
   ]
  },
  {
   "cell_type": "code",
   "execution_count": 72,
   "id": "925182bb-f30d-4ac0-b38e-316932c164ed",
   "metadata": {},
   "outputs": [],
   "source": [
    "fig3.write_html(\"interactive_Marketingjobs_plot.html\")"
   ]
  },
  {
   "cell_type": "code",
   "execution_count": null,
   "id": "22ce0f02-7363-4cf1-a3cc-a201ed18f226",
   "metadata": {},
   "outputs": [],
   "source": []
  }
 ],
 "metadata": {
  "kernelspec": {
   "display_name": "Python 3 (ipykernel)",
   "language": "python",
   "name": "python3"
  },
  "language_info": {
   "codemirror_mode": {
    "name": "ipython",
    "version": 3
   },
   "file_extension": ".py",
   "mimetype": "text/x-python",
   "name": "python",
   "nbconvert_exporter": "python",
   "pygments_lexer": "ipython3",
   "version": "3.12.4"
  }
 },
 "nbformat": 4,
 "nbformat_minor": 5
}
